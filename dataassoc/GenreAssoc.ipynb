{
 "cells": [
  {
   "cell_type": "code",
   "execution_count": 2,
   "metadata": {},
   "outputs": [],
   "source": [
    "import pandas as pd"
   ]
  },
  {
   "cell_type": "code",
   "execution_count": 27,
   "metadata": {},
   "outputs": [],
   "source": [
    "df=pd.read_csv(r'./dataclean/genres_group.csv')"
   ]
  },
  {
   "cell_type": "code",
   "execution_count": 28,
   "metadata": {},
   "outputs": [
    {
     "name": "stdout",
     "output_type": "stream",
     "text": [
      "<class 'pandas.core.frame.DataFrame'>\n",
      "RangeIndex: 7135 entries, 0 to 7134\n",
      "Data columns (total 3 columns):\n",
      " #   Column      Non-Null Count  Dtype \n",
      "---  ------      --------------  ----- \n",
      " 0   Unnamed: 0  7135 non-null   int64 \n",
      " 1   movie_id    7135 non-null   int64 \n",
      " 2   genres      7135 non-null   object\n",
      "dtypes: int64(2), object(1)\n",
      "memory usage: 167.4+ KB\n"
     ]
    }
   ],
   "source": [
    "df.info()"
   ]
  },
  {
   "cell_type": "code",
   "execution_count": 29,
   "metadata": {},
   "outputs": [
    {
     "name": "stdout",
     "output_type": "stream",
     "text": [
      "Drama Crime \n",
      "Drama Comedy \n",
      "Crime Comedy \n",
      "Action Thriller Crime \n",
      "Adventure Action ScienceFiction \n"
     ]
    }
   ],
   "source": [
    "for i in range(5):\n",
    "\n",
    "    \n",
    "    s = df.genres[i][1:-1]\n",
    "    \n",
    "    s = s.replace('\\'', '')\n",
    "    li = s.split(',')\n",
    "    li = [x.replace(' ', '') for x in li]\n",
    "    s = \"\"\n",
    "    for x in li:\n",
    "        s += x + \" \"\n",
    "    print(s)"
   ]
  },
  {
   "cell_type": "code",
   "execution_count": 20,
   "metadata": {},
   "outputs": [],
   "source": [
    "with open(r'./dataassoc/genre.txt', 'w') as f:\n",
    "    for i in range(7135):\n",
    "        s = df.genres[i][1:-1] \n",
    "        s = s.replace('\\'', '')\n",
    "        li = s.split(',')\n",
    "        li = [x.replace(' ', '') for x in li]\n",
    "        s = \"\"\n",
    "        for x in li:\n",
    "            s += x + \" \"\n",
    "        f.write(s + '\\n')"
   ]
  },
  {
   "cell_type": "code",
   "execution_count": 30,
   "metadata": {},
   "outputs": [],
   "source": [
    "mf = pd.read_csv('./dataclean/metadata.csv')\n",
    "mf.release_date = pd.to_datetime(mf.release_date)\n",
    "mf['release_year'] = mf.release_date.dt.year"
   ]
  },
  {
   "cell_type": "code",
   "execution_count": 31,
   "metadata": {},
   "outputs": [],
   "source": [
    "tm = list(mf[mf.release_year > 1990].movie_id)"
   ]
  },
  {
   "cell_type": "code",
   "execution_count": 33,
   "metadata": {},
   "outputs": [],
   "source": [
    "df = df[df.movie_id.isin(tm)]"
   ]
  },
  {
   "cell_type": "code",
   "execution_count": 34,
   "metadata": {},
   "outputs": [
    {
     "name": "stdout",
     "output_type": "stream",
     "text": [
      "<class 'pandas.core.frame.DataFrame'>\n",
      "RangeIndex: 4042 entries, 0 to 4041\n",
      "Data columns (total 3 columns):\n",
      " #   Column      Non-Null Count  Dtype \n",
      "---  ------      --------------  ----- \n",
      " 0   Unnamed: 0  4042 non-null   int64 \n",
      " 1   movie_id    4042 non-null   int64 \n",
      " 2   genres      4042 non-null   object\n",
      "dtypes: int64(2), object(1)\n",
      "memory usage: 94.9+ KB\n"
     ]
    }
   ],
   "source": [
    "df.reset_index(drop= True, inplace= True)\n",
    "df.info()"
   ]
  },
  {
   "cell_type": "code",
   "execution_count": null,
   "metadata": {},
   "outputs": [],
   "source": [
    "with open(r'./dataassoc/genre2.txt', 'w') as f:\n",
    "    for i in range(4042):\n",
    "        s = df.genres[i][1:-1] \n",
    "        s = s.replace('\\'', '')\n",
    "        li = s.split(',')\n",
    "        li = [x.replace(' ', '') for x in li]\n",
    "        s = \"\"\n",
    "        for x in li:\n",
    "            s += x + \" \"\n",
    "        f.write(s + '\\n')"
   ]
  },
  {
   "cell_type": "code",
   "execution_count": null,
   "metadata": {},
   "outputs": [],
   "source": []
  }
 ],
 "metadata": {
  "interpreter": {
   "hash": "d7c3c9c392ead3d066acf51e913b24cbd585bcf7a363efb7ba353d9588b883e5"
  },
  "kernelspec": {
   "display_name": "Python 3.8.8 64-bit ('base': conda)",
   "language": "python",
   "name": "python3"
  },
  "language_info": {
   "codemirror_mode": {
    "name": "ipython",
    "version": 3
   },
   "file_extension": ".py",
   "mimetype": "text/x-python",
   "name": "python",
   "nbconvert_exporter": "python",
   "pygments_lexer": "ipython3",
   "version": "3.8.8"
  },
  "orig_nbformat": 4
 },
 "nbformat": 4,
 "nbformat_minor": 2
}
