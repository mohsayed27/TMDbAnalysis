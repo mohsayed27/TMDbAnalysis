{
 "cells": [
  {
   "cell_type": "markdown",
   "metadata": {},
   "source": [
    "# The Movies Database\n",
    "## Descriptive Analysis"
   ]
  },
  {
   "cell_type": "markdown",
   "metadata": {},
   "source": [
    "Required imports"
   ]
  },
  {
   "cell_type": "code",
   "execution_count": 4,
   "metadata": {},
   "outputs": [],
   "source": [
    "import numpy as np\n",
    "import pandas as pd\n",
    "import warnings\n",
    "warnings.filterwarnings('ignore')\n",
    "import matplotlib.pyplot as plt \n",
    "import seaborn as sns\n",
    "%matplotlib inline"
   ]
  },
  {
   "cell_type": "markdown",
   "metadata": {},
   "source": [
    "## Exploring the data\n",
    "Loading the cast file and exploring its contents "
   ]
  },
  {
   "cell_type": "code",
   "execution_count": 7,
   "metadata": {},
   "outputs": [
    {
     "data": {
      "text/html": [
       "<div>\n",
       "<style scoped>\n",
       "    .dataframe tbody tr th:only-of-type {\n",
       "        vertical-align: middle;\n",
       "    }\n",
       "\n",
       "    .dataframe tbody tr th {\n",
       "        vertical-align: top;\n",
       "    }\n",
       "\n",
       "    .dataframe thead th {\n",
       "        text-align: right;\n",
       "    }\n",
       "</style>\n",
       "<table border=\"1\" class=\"dataframe\">\n",
       "  <thead>\n",
       "    <tr style=\"text-align: right;\">\n",
       "      <th></th>\n",
       "      <th>cast</th>\n",
       "      <th>crew</th>\n",
       "      <th>id</th>\n",
       "    </tr>\n",
       "  </thead>\n",
       "  <tbody>\n",
       "    <tr>\n",
       "      <th>0</th>\n",
       "      <td>[{'cast_id': 14, 'character': 'Woody (voice)',...</td>\n",
       "      <td>[{'credit_id': '52fe4284c3a36847f8024f49', 'de...</td>\n",
       "      <td>862</td>\n",
       "    </tr>\n",
       "    <tr>\n",
       "      <th>1</th>\n",
       "      <td>[{'cast_id': 1, 'character': 'Alan Parrish', '...</td>\n",
       "      <td>[{'credit_id': '52fe44bfc3a36847f80a7cd1', 'de...</td>\n",
       "      <td>8844</td>\n",
       "    </tr>\n",
       "    <tr>\n",
       "      <th>2</th>\n",
       "      <td>[{'cast_id': 2, 'character': 'Max Goldman', 'c...</td>\n",
       "      <td>[{'credit_id': '52fe466a9251416c75077a89', 'de...</td>\n",
       "      <td>15602</td>\n",
       "    </tr>\n",
       "    <tr>\n",
       "      <th>3</th>\n",
       "      <td>[{'cast_id': 1, 'character': \"Savannah 'Vannah...</td>\n",
       "      <td>[{'credit_id': '52fe44779251416c91011acb', 'de...</td>\n",
       "      <td>31357</td>\n",
       "    </tr>\n",
       "    <tr>\n",
       "      <th>4</th>\n",
       "      <td>[{'cast_id': 1, 'character': 'George Banks', '...</td>\n",
       "      <td>[{'credit_id': '52fe44959251416c75039ed7', 'de...</td>\n",
       "      <td>11862</td>\n",
       "    </tr>\n",
       "  </tbody>\n",
       "</table>\n",
       "</div>"
      ],
      "text/plain": [
       "                                                cast  \\\n",
       "0  [{'cast_id': 14, 'character': 'Woody (voice)',...   \n",
       "1  [{'cast_id': 1, 'character': 'Alan Parrish', '...   \n",
       "2  [{'cast_id': 2, 'character': 'Max Goldman', 'c...   \n",
       "3  [{'cast_id': 1, 'character': \"Savannah 'Vannah...   \n",
       "4  [{'cast_id': 1, 'character': 'George Banks', '...   \n",
       "\n",
       "                                                crew     id  \n",
       "0  [{'credit_id': '52fe4284c3a36847f8024f49', 'de...    862  \n",
       "1  [{'credit_id': '52fe44bfc3a36847f80a7cd1', 'de...   8844  \n",
       "2  [{'credit_id': '52fe466a9251416c75077a89', 'de...  15602  \n",
       "3  [{'credit_id': '52fe44779251416c91011acb', 'de...  31357  \n",
       "4  [{'credit_id': '52fe44959251416c75039ed7', 'de...  11862  "
      ]
     },
     "execution_count": 7,
     "metadata": {},
     "output_type": "execute_result"
    }
   ],
   "source": [
    "cast_df = pd.read_csv(r'./data/credits.csv')\n",
    "cast_df.head()"
   ]
  },
  {
   "cell_type": "markdown",
   "metadata": {},
   "source": [
    "Files are in JSON format which is not friendly to exploration.  \n",
    "Parsing the data to get the actors info for each movie in a csv, from the cast column.  \n",
    "(movie_id, actor_id, name, order, gender)\n",
    "order: the order in the credits with 0 being the star of the movie    \n",
    "Although crew are critical to movies quality, the audience rarely targets them when heading to a movie, so I will only take the director form the crew column."
   ]
  },
  {
   "cell_type": "code",
   "execution_count": 6,
   "metadata": {},
   "outputs": [],
   "source": [
    "# JSON requires name being in double quotes\n",
    "# ast handles this pretty well \n",
    "import ast"
   ]
  },
  {
   "cell_type": "markdown",
   "metadata": {},
   "source": [
    "After parsing the data getting the director per movie."
   ]
  },
  {
   "cell_type": "code",
   "execution_count": 63,
   "metadata": {},
   "outputs": [
    {
     "name": "stdout",
     "output_type": "stream",
     "text": [
      "John Lasseter\n"
     ]
    }
   ],
   "source": [
    "x = (cast_df['crew'][0])\n",
    "y = ast.literal_eval(x)\n",
    "for i in y:\n",
    "    if i['job'] == 'Director':\n",
    "        print(i['name'])"
   ]
  },
  {
   "cell_type": "markdown",
   "metadata": {},
   "source": [
    "Getting (movie_id, actor_id, name, order, gender)"
   ]
  },
  {
   "cell_type": "code",
   "execution_count": 64,
   "metadata": {},
   "outputs": [
    {
     "name": "stdout",
     "output_type": "stream",
     "text": [
      "cast_id 14\n",
      "character Woody (voice)\n",
      "credit_id 52fe4284c3a36847f8024f95\n",
      "gender 2\n",
      "id 31\n",
      "name Tom Hanks\n",
      "order 0\n",
      "profile_path /pQFoyx7rp09CJTAb932F2g8Nlho.jpg\n"
     ]
    }
   ],
   "source": [
    "x = (cast_df['cast'][0])\n",
    "y = ast.literal_eval(x)\n",
    "for k in y[0]:   \n",
    "    print(k, y[0][k])\n"
   ]
  },
  {
   "cell_type": "markdown",
   "metadata": {},
   "source": [
    "Saving clean data into csv files"
   ]
  },
  {
   "cell_type": "code",
   "execution_count": 65,
   "metadata": {},
   "outputs": [],
   "source": [
    "actors = [(\"movie_id\", \"actor_id\", \"name\", \"order\", \"gender\")]\n",
    "cast = cast_df['cast']\n",
    "ids = cast_df['id']\n",
    "N = cast.shape[0]\n",
    "\n",
    "for i in range(N):\n",
    "    info_str = cast[i]\n",
    "    id = ids[i]\n",
    "    info_dicts = ast.literal_eval(info_str)\n",
    "    for entry in info_dicts:\n",
    "        actors.append((id, entry['id'], entry['name'], entry['order'], entry['gender']))\n",
    "    "
   ]
  },
  {
   "cell_type": "code",
   "execution_count": 14,
   "metadata": {},
   "outputs": [],
   "source": [
    "directors = [(\"movie_id\", \"name\")]\n",
    "crew = cast_df['crew']\n",
    "ids = cast_df['id']\n",
    "N = crew.shape[0]\n",
    "\n",
    "for i in range(N):\n",
    "    info_str = crew[i]\n",
    "    id = ids[i]\n",
    "    info_dicts = ast.literal_eval(info_str)\n",
    "    for entry in info_dicts:\n",
    "        if entry['job'] == 'Director':\n",
    "            directors.append((id, entry['name']))"
   ]
  },
  {
   "cell_type": "markdown",
   "metadata": {},
   "source": [
    "Comparing number of movies to number of diectors it is apparent that some movies have multiple directors.  \n",
    "Comparing number of actors per movie comes out to be average of 12 actors per movie."
   ]
  },
  {
   "cell_type": "code",
   "execution_count": 86,
   "metadata": {},
   "outputs": [
    {
     "name": "stdout",
     "output_type": "stream",
     "text": [
      "49049 45476\n",
      "12.368612015128859\n"
     ]
    }
   ],
   "source": [
    "print(len(directors), N)\n",
    "print(len(actors)/N)"
   ]
  },
  {
   "cell_type": "markdown",
   "metadata": {},
   "source": [
    "Output the parsed data "
   ]
  },
  {
   "cell_type": "code",
   "execution_count": 10,
   "metadata": {},
   "outputs": [],
   "source": [
    "import csv"
   ]
  },
  {
   "cell_type": "code",
   "execution_count": 88,
   "metadata": {},
   "outputs": [],
   "source": [
    "# open the file in the write mode\n",
    "f = open('./dataparsed/cast.csv', 'w')\n",
    "\n",
    "# create the csv writer\n",
    "writer = csv.writer(f)\n",
    "\n",
    "N = len(actors)\n",
    "for i in range(N):\n",
    "    writer.writerow(actors[i])"
   ]
  },
  {
   "cell_type": "code",
   "execution_count": 18,
   "metadata": {},
   "outputs": [],
   "source": [
    "# open the file in the write mode\n",
    "f = open('./dataparsed/directors.csv', 'w', encoding= 'utf-8')\n",
    "\n",
    "# create the csv writer\n",
    "writer = csv.writer(f)\n",
    "\n",
    "N = len(directors)\n",
    "for i in range(N):\n",
    "    writer.writerow(directors[i])  "
   ]
  },
  {
   "cell_type": "markdown",
   "metadata": {},
   "source": [
    "Keywords are indicative to desire of watching a movie, maybe more specific than genres."
   ]
  },
  {
   "cell_type": "code",
   "execution_count": 72,
   "metadata": {},
   "outputs": [
    {
     "data": {
      "text/html": [
       "<div>\n",
       "<style scoped>\n",
       "    .dataframe tbody tr th:only-of-type {\n",
       "        vertical-align: middle;\n",
       "    }\n",
       "\n",
       "    .dataframe tbody tr th {\n",
       "        vertical-align: top;\n",
       "    }\n",
       "\n",
       "    .dataframe thead th {\n",
       "        text-align: right;\n",
       "    }\n",
       "</style>\n",
       "<table border=\"1\" class=\"dataframe\">\n",
       "  <thead>\n",
       "    <tr style=\"text-align: right;\">\n",
       "      <th></th>\n",
       "      <th>id</th>\n",
       "      <th>keywords</th>\n",
       "    </tr>\n",
       "  </thead>\n",
       "  <tbody>\n",
       "    <tr>\n",
       "      <th>0</th>\n",
       "      <td>862</td>\n",
       "      <td>[{'id': 931, 'name': 'jealousy'}, {'id': 4290,...</td>\n",
       "    </tr>\n",
       "  </tbody>\n",
       "</table>\n",
       "</div>"
      ],
      "text/plain": [
       "    id                                           keywords\n",
       "0  862  [{'id': 931, 'name': 'jealousy'}, {'id': 4290,..."
      ]
     },
     "execution_count": 72,
     "metadata": {},
     "output_type": "execute_result"
    }
   ],
   "source": [
    "kw_df = pd.read_csv(r'./data/keywords.csv')\n",
    "kw_df.head(1)"
   ]
  },
  {
   "cell_type": "code",
   "execution_count": 73,
   "metadata": {},
   "outputs": [
    {
     "name": "stdout",
     "output_type": "stream",
     "text": [
      "[{'id': 10090, 'name': 'board game'}, {'id': 10941, 'name': 'disappearance'}, {'id': 15101, 'name': \"based on children's book\"}, {'id': 33467, 'name': 'new home'}, {'id': 158086, 'name': 'recluse'}, {'id': 158091, 'name': 'giant insect'}]\n"
     ]
    }
   ],
   "source": [
    "x = kw_df['keywords'][1]\n",
    "y = ast.literal_eval(x)\n",
    "print(y)"
   ]
  },
  {
   "cell_type": "code",
   "execution_count": 74,
   "metadata": {},
   "outputs": [],
   "source": [
    "N = kw_df.shape[0]\n",
    "keywords = [(\"movie_id\", \"keyword_id\", \"keyword\")]\n",
    "for i in range(N):\n",
    "    id = kw_df['id'][i]\n",
    "    info_str = kw_df['keywords'][i]\n",
    "    info_dicts = ast.literal_eval(info_str)\n",
    "    for entry in info_dicts:\n",
    "        keywords.append((id, entry['id'], entry['name']))"
   ]
  },
  {
   "cell_type": "code",
   "execution_count": 75,
   "metadata": {},
   "outputs": [],
   "source": [
    "# open the file in the write mode\n",
    "f = open('./dataparsed/keywords.csv', 'w')\n",
    "\n",
    "# create the csv writer\n",
    "writer = csv.writer(f)\n",
    "\n",
    "N = len(keywords)\n",
    "for i in range(N):\n",
    "    writer.writerow(keywords[i])  "
   ]
  },
  {
   "cell_type": "markdown",
   "metadata": {},
   "source": [
    "Parsing and refining movies metadata file"
   ]
  },
  {
   "cell_type": "code",
   "execution_count": 76,
   "metadata": {},
   "outputs": [
    {
     "name": "stderr",
     "output_type": "stream",
     "text": [
      "C:\\Users\\20111\\AppData\\Local\\Temp\\ipykernel_22076\\2480996344.py:1: DtypeWarning: Columns (10) have mixed types. Specify dtype option on import or set low_memory=False.\n",
      "  m_df = pd.read_csv(r'./data/movies_metadata.csv')\n"
     ]
    },
    {
     "data": {
      "text/html": [
       "<div>\n",
       "<style scoped>\n",
       "    .dataframe tbody tr th:only-of-type {\n",
       "        vertical-align: middle;\n",
       "    }\n",
       "\n",
       "    .dataframe tbody tr th {\n",
       "        vertical-align: top;\n",
       "    }\n",
       "\n",
       "    .dataframe thead th {\n",
       "        text-align: right;\n",
       "    }\n",
       "</style>\n",
       "<table border=\"1\" class=\"dataframe\">\n",
       "  <thead>\n",
       "    <tr style=\"text-align: right;\">\n",
       "      <th></th>\n",
       "      <th>adult</th>\n",
       "      <th>belongs_to_collection</th>\n",
       "      <th>budget</th>\n",
       "      <th>genres</th>\n",
       "      <th>homepage</th>\n",
       "      <th>id</th>\n",
       "      <th>imdb_id</th>\n",
       "      <th>original_language</th>\n",
       "      <th>original_title</th>\n",
       "      <th>overview</th>\n",
       "      <th>...</th>\n",
       "      <th>release_date</th>\n",
       "      <th>revenue</th>\n",
       "      <th>runtime</th>\n",
       "      <th>spoken_languages</th>\n",
       "      <th>status</th>\n",
       "      <th>tagline</th>\n",
       "      <th>title</th>\n",
       "      <th>video</th>\n",
       "      <th>vote_average</th>\n",
       "      <th>vote_count</th>\n",
       "    </tr>\n",
       "  </thead>\n",
       "  <tbody>\n",
       "    <tr>\n",
       "      <th>0</th>\n",
       "      <td>False</td>\n",
       "      <td>{'id': 10194, 'name': 'Toy Story Collection', ...</td>\n",
       "      <td>30000000</td>\n",
       "      <td>[{'id': 16, 'name': 'Animation'}, {'id': 35, '...</td>\n",
       "      <td>http://toystory.disney.com/toy-story</td>\n",
       "      <td>862</td>\n",
       "      <td>tt0114709</td>\n",
       "      <td>en</td>\n",
       "      <td>Toy Story</td>\n",
       "      <td>Led by Woody, Andy's toys live happily in his ...</td>\n",
       "      <td>...</td>\n",
       "      <td>1995-10-30</td>\n",
       "      <td>373554033.0</td>\n",
       "      <td>81.0</td>\n",
       "      <td>[{'iso_639_1': 'en', 'name': 'English'}]</td>\n",
       "      <td>Released</td>\n",
       "      <td>NaN</td>\n",
       "      <td>Toy Story</td>\n",
       "      <td>False</td>\n",
       "      <td>7.7</td>\n",
       "      <td>5415.0</td>\n",
       "    </tr>\n",
       "  </tbody>\n",
       "</table>\n",
       "<p>1 rows × 24 columns</p>\n",
       "</div>"
      ],
      "text/plain": [
       "   adult                              belongs_to_collection    budget  \\\n",
       "0  False  {'id': 10194, 'name': 'Toy Story Collection', ...  30000000   \n",
       "\n",
       "                                              genres  \\\n",
       "0  [{'id': 16, 'name': 'Animation'}, {'id': 35, '...   \n",
       "\n",
       "                               homepage   id    imdb_id original_language  \\\n",
       "0  http://toystory.disney.com/toy-story  862  tt0114709                en   \n",
       "\n",
       "  original_title                                           overview  ...  \\\n",
       "0      Toy Story  Led by Woody, Andy's toys live happily in his ...  ...   \n",
       "\n",
       "  release_date      revenue runtime                          spoken_languages  \\\n",
       "0   1995-10-30  373554033.0    81.0  [{'iso_639_1': 'en', 'name': 'English'}]   \n",
       "\n",
       "     status  tagline      title  video vote_average vote_count  \n",
       "0  Released      NaN  Toy Story  False          7.7     5415.0  \n",
       "\n",
       "[1 rows x 24 columns]"
      ]
     },
     "execution_count": 76,
     "metadata": {},
     "output_type": "execute_result"
    }
   ],
   "source": [
    "m_df = pd.read_csv(r'./data/movies_metadata.csv')\n",
    "m_df.head(1)"
   ]
  },
  {
   "cell_type": "markdown",
   "metadata": {},
   "source": [
    "Extracting genres"
   ]
  },
  {
   "cell_type": "code",
   "execution_count": 90,
   "metadata": {},
   "outputs": [],
   "source": [
    "genres = [(\"movie_id\", \"genre_id\", \"genre\")]\n",
    "N = m_df.shape[0]\n",
    "\n",
    "for i in range(N):\n",
    "    id = m_df['id'][i]\n",
    "    info_str = m_df['genres'][i]\n",
    "    info_dicts = ast.literal_eval(info_str)\n",
    "\n",
    "    for entry in info_dicts:\n",
    "        genres.append((id, entry['id'], entry['name']))\n",
    "    "
   ]
  },
  {
   "cell_type": "code",
   "execution_count": 91,
   "metadata": {},
   "outputs": [],
   "source": [
    "# open the file in the write mode\n",
    "f = open('./dataparsed/genres.csv', 'w')\n",
    "\n",
    "# create the csv writer\n",
    "writer = csv.writer(f)\n",
    "\n",
    "N = len(genres)\n",
    "for i in range(N):\n",
    "    writer.writerow(genres[i])  "
   ]
  },
  {
   "cell_type": "markdown",
   "metadata": {},
   "source": [
    "Staying with the movies metadata to extact more info.  \n"
   ]
  },
  {
   "cell_type": "code",
   "execution_count": 172,
   "metadata": {},
   "outputs": [
    {
     "data": {
      "text/plain": [
       "Index(['adult', 'belongs_to_collection', 'budget', 'genres', 'homepage', 'id',\n",
       "       'imdb_id', 'original_language', 'original_title', 'overview',\n",
       "       'popularity', 'poster_path', 'production_companies',\n",
       "       'production_countries', 'release_date', 'revenue', 'runtime',\n",
       "       'spoken_languages', 'status', 'tagline', 'title', 'video',\n",
       "       'vote_average', 'vote_count'],\n",
       "      dtype='object')"
      ]
     },
     "execution_count": 172,
     "metadata": {},
     "output_type": "execute_result"
    }
   ],
   "source": [
    "m_df.columns"
   ]
  },
  {
   "cell_type": "markdown",
   "metadata": {},
   "source": [
    "Status column in interesting, as only released movies will be of interest in this analysis"
   ]
  },
  {
   "cell_type": "code",
   "execution_count": 79,
   "metadata": {},
   "outputs": [
    {
     "data": {
      "text/plain": [
       "array(['Released', nan, 'Rumored', 'Post Production', 'In Production',\n",
       "       'Planned', 'Canceled'], dtype=object)"
      ]
     },
     "execution_count": 79,
     "metadata": {},
     "output_type": "execute_result"
    }
   ],
   "source": [
    "m_df.status.unique()"
   ]
  },
  {
   "cell_type": "code",
   "execution_count": 92,
   "metadata": {},
   "outputs": [],
   "source": [
    "m_df = m_df[m_df.status == 'Released'].reset_index()\n"
   ]
  },
  {
   "cell_type": "markdown",
   "metadata": {},
   "source": [
    "Now having the rows of interest let's determine the columns (attributes) of interest for this analysis  "
   ]
  },
  {
   "cell_type": "code",
   "execution_count": 93,
   "metadata": {},
   "outputs": [
    {
     "data": {
      "text/plain": [
       "Index(['level_0', 'index', 'adult', 'belongs_to_collection', 'budget',\n",
       "       'genres', 'homepage', 'id', 'imdb_id', 'original_language',\n",
       "       'original_title', 'overview', 'popularity', 'poster_path',\n",
       "       'production_companies', 'production_countries', 'release_date',\n",
       "       'revenue', 'runtime', 'spoken_languages', 'status', 'tagline', 'title',\n",
       "       'video', 'vote_average', 'vote_count'],\n",
       "      dtype='object')"
      ]
     },
     "execution_count": 93,
     "metadata": {},
     "output_type": "execute_result"
    }
   ],
   "source": [
    "attributes = ['movie_id', 'title', 'popularity', 'budget', 'revenue', 'vote_average', 'vote_count']\n",
    "m_df.columns"
   ]
  },
  {
   "cell_type": "markdown",
   "metadata": {},
   "source": [
    "Getting these attributes from the metadata"
   ]
  },
  {
   "cell_type": "code",
   "execution_count": 94,
   "metadata": {},
   "outputs": [],
   "source": [
    "attributes = ['movie_id', 'title', 'release_date', 'popularity', 'budget', 'revenue', 'vote_average', 'vote_count']\n",
    "meta_data = [attributes]\n",
    "\n",
    "N = m_df.shape[0]\n",
    "\n",
    "for i in range(N):\n",
    "    id = m_df.id[i]\n",
    "    title = m_df.original_title[i]\n",
    "    release_date = m_df.release_date[i]\n",
    "    pop = m_df.popularity[i]\n",
    "    budget = m_df.budget[i]\n",
    "    revenue = m_df.revenue[i]\n",
    "    vote_avg = m_df.vote_average[i]\n",
    "    vote_cnt = m_df.vote_count[i]\n",
    "\n",
    "    meta_data.append([id, title, release_date, pop, budget, revenue, vote_avg, vote_cnt])\n",
    "    "
   ]
  },
  {
   "cell_type": "markdown",
   "metadata": {},
   "source": [
    "Saving metadata"
   ]
  },
  {
   "cell_type": "code",
   "execution_count": 95,
   "metadata": {},
   "outputs": [],
   "source": [
    "# open the file in the write mode\n",
    "f = open('./dataparsed/metadata.csv', 'w')\n",
    "\n",
    "# create the csv writer\n",
    "writer = csv.writer(f)\n",
    "\n",
    "N = len(meta_data)\n",
    "for i in range(N):\n",
    "    writer.writerow(meta_data[i])  "
   ]
  },
  {
   "cell_type": "markdown",
   "metadata": {},
   "source": [
    "## Analysis Phase"
   ]
  },
  {
   "cell_type": "markdown",
   "metadata": {},
   "source": [
    "Initiating a spark session, spart makes use of multiple CPUs and multiple processess, so I will make some aggreagations on the the whole ratings using Apache Spark"
   ]
  },
  {
   "cell_type": "code",
   "execution_count": 2,
   "metadata": {},
   "outputs": [],
   "source": [
    "from pyspark.sql import SparkSession\n",
    "spark = SparkSession.builder.appName('TMDb').getOrCreate()"
   ]
  },
  {
   "cell_type": "code",
   "execution_count": 3,
   "metadata": {},
   "outputs": [
    {
     "name": "stdout",
     "output_type": "stream",
     "text": [
      "+------+-------+------+----------+\n",
      "|userId|movieId|rating| timestamp|\n",
      "+------+-------+------+----------+\n",
      "|     1|    110|   1.0|1425941529|\n",
      "|     1|    147|   4.5|1425942435|\n",
      "|     1|    858|   5.0|1425941523|\n",
      "|     1|   1221|   5.0|1425941546|\n",
      "|     1|   1246|   5.0|1425941556|\n",
      "|     1|   1968|   4.0|1425942148|\n",
      "|     1|   2762|   4.5|1425941300|\n",
      "|     1|   2918|   5.0|1425941593|\n",
      "|     1|   2959|   4.0|1425941601|\n",
      "|     1|   4226|   4.0|1425942228|\n",
      "|     1|   4878|   5.0|1425941434|\n",
      "|     1|   5577|   5.0|1425941397|\n",
      "|     1|  33794|   4.0|1425942005|\n",
      "|     1|  54503|   3.5|1425941313|\n",
      "|     1|  58559|   4.0|1425942007|\n",
      "|     1|  59315|   5.0|1425941502|\n",
      "|     1|  68358|   5.0|1425941464|\n",
      "|     1|  69844|   5.0|1425942139|\n",
      "|     1|  73017|   5.0|1425942699|\n",
      "|     1|  81834|   5.0|1425942133|\n",
      "+------+-------+------+----------+\n",
      "only showing top 20 rows\n",
      "\n"
     ]
    }
   ],
   "source": [
    "df_pyspark = spark.read.csv(r'./data/ratings.csv', header= True, inferSchema= True)\n",
    "df_pyspark.show()"
   ]
  },
  {
   "cell_type": "code",
   "execution_count": 6,
   "metadata": {},
   "outputs": [],
   "source": [
    "# timestamp is not needed\n",
    "df_pyspark = df_pyspark.drop('timestamp')"
   ]
  },
  {
   "cell_type": "markdown",
   "metadata": {},
   "source": [
    "The size of the data is well over 25 Million ratings "
   ]
  },
  {
   "cell_type": "code",
   "execution_count": 8,
   "metadata": {},
   "outputs": [
    {
     "data": {
      "text/plain": [
       "26024289"
      ]
     },
     "execution_count": 8,
     "metadata": {},
     "output_type": "execute_result"
    }
   ],
   "source": [
    "df_pyspark.count()"
   ]
  },
  {
   "cell_type": "markdown",
   "metadata": {},
   "source": [
    "The number of movies is over 45k with users count over 250k"
   ]
  },
  {
   "cell_type": "code",
   "execution_count": 11,
   "metadata": {},
   "outputs": [
    {
     "name": "stdout",
     "output_type": "stream",
     "text": [
      "45115\n",
      "270896\n"
     ]
    }
   ],
   "source": [
    "print(df_pyspark.select('movieId').distinct().count())\n",
    "print(df_pyspark.select('userId').distinct().count())"
   ]
  },
  {
   "cell_type": "markdown",
   "metadata": {},
   "source": [
    "I will be using PySpark to get insightful statistics that would help in the process of analysis and visulaization of data.  \n",
    "Gathering the info about how many ratings does every movie has and the average rating of every movie, also the users rate of ratings in value and also quantity."
   ]
  },
  {
   "cell_type": "code",
   "execution_count": 14,
   "metadata": {},
   "outputs": [],
   "source": [
    "from pyspark.sql import functions as F"
   ]
  },
  {
   "cell_type": "code",
   "execution_count": 16,
   "metadata": {},
   "outputs": [
    {
     "name": "stdout",
     "output_type": "stream",
     "text": [
      "+-------+------------------+-------------+\n",
      "|movieId|       avg(rating)|count(rating)|\n",
      "+-------+------------------+-------------+\n",
      "|   1645| 3.516589990241182|        14346|\n",
      "|   1591|2.6416020262782967|         6317|\n",
      "|   3175| 3.586550320670942|        16216|\n",
      "|   1580|3.5733178489322874|        42193|\n",
      "|  68135| 3.097457627118644|         2478|\n",
      "|    471| 3.654817548175482|        12195|\n",
      "|   1088| 3.239810636881426|        13519|\n",
      "|   1959|3.6369782971619364|         5990|\n",
      "|   2122| 2.634513274336283|         2825|\n",
      "|   2866|3.6019714479945617|         1471|\n",
      "|  36525|3.4823726916620035|         1787|\n",
      "|   3918|2.9595715272978578|         1447|\n",
      "|   3997| 2.077287716405606|         2426|\n",
      "|   6620| 3.789404132628544|         4162|\n",
      "|   1238|3.9629796163069546|         3336|\n",
      "|   2142| 3.038054538054538|         2457|\n",
      "|   8638|3.9675026123301986|         4785|\n",
      "|   2366|3.4740872335211956|         8162|\n",
      "|   1342|2.9637979902087093|         3881|\n",
      "|   3794| 3.250574712643678|          870|\n",
      "+-------+------------------+-------------+\n",
      "only showing top 20 rows\n",
      "\n"
     ]
    }
   ],
   "source": [
    "df_pyspark.groupBy('movieId').agg(F.mean('rating'), F.count('rating')).show()"
   ]
  },
  {
   "cell_type": "code",
   "execution_count": 17,
   "metadata": {},
   "outputs": [
    {
     "name": "stdout",
     "output_type": "stream",
     "text": [
      "+------+------------------+-------------+\n",
      "|userId|       avg(rating)|count(rating)|\n",
      "+------+------------------+-------------+\n",
      "|   148|3.9651162790697674|           43|\n",
      "|   463|2.8582375478927204|          261|\n",
      "|   471|3.8238341968911915|          193|\n",
      "|   496|               4.1|           10|\n",
      "|   833| 4.333333333333333|            3|\n",
      "|  1088| 4.466666666666667|           15|\n",
      "|  1238|3.5942028985507246|           69|\n",
      "|  1342|              3.25|            6|\n",
      "|  1580|1.7916666666666667|           24|\n",
      "|  1591|               4.0|           24|\n",
      "|  1645| 2.983783783783784|          185|\n",
      "|  1829| 3.634920634920635|           63|\n",
      "|  1959|               3.0|            6|\n",
      "|  2122|              4.05|           10|\n",
      "|  2142|               4.2|            5|\n",
      "|  2366| 3.522222222222222|          270|\n",
      "|  2659| 3.986899563318777|          229|\n",
      "|  2866|               3.6|           15|\n",
      "|  3175| 4.266666666666667|           15|\n",
      "|  3749|               3.6|            5|\n",
      "+------+------------------+-------------+\n",
      "only showing top 20 rows\n",
      "\n"
     ]
    }
   ],
   "source": [
    "df_pyspark.groupBy('userId').agg(F.mean('rating'), F.count('rating')).show()"
   ]
  },
  {
   "cell_type": "markdown",
   "metadata": {},
   "source": [
    "It is vividly apparent that the users vary in their votes averages and the number of movies that they care to give a rating, also it goes without saying that it is vital for our analysis to know which movies are rated heavily or rated highly or both by users."
   ]
  },
  {
   "cell_type": "code",
   "execution_count": 18,
   "metadata": {},
   "outputs": [],
   "source": [
    "# saving the insights gained \n",
    "movies_agg = df_pyspark.groupBy('movieId').agg(F.mean('rating'), F.count('rating')).toPandas()\n",
    "users_agg = df_pyspark.groupBy('userId').agg(F.mean('rating'), F.count('rating')).toPandas()"
   ]
  },
  {
   "cell_type": "code",
   "execution_count": 20,
   "metadata": {},
   "outputs": [],
   "source": [
    "movies_agg.columns = ['movieId', 'rating_avg', 'rating_count']\n",
    "users_agg.columns = ['userId', 'rating_avg', 'rating_count']"
   ]
  },
  {
   "cell_type": "markdown",
   "metadata": {},
   "source": [
    "For easier categorizing of the data will be rounding the average votes"
   ]
  },
  {
   "cell_type": "code",
   "execution_count": 22,
   "metadata": {},
   "outputs": [
    {
     "data": {
      "text/plain": [
       "movieId           int32\n",
       "rating_avg      float64\n",
       "rating_count      int64\n",
       "dtype: object"
      ]
     },
     "execution_count": 22,
     "metadata": {},
     "output_type": "execute_result"
    }
   ],
   "source": [
    "movies_agg.round(2)\n",
    "users_agg.round(2)"
   ]
  },
  {
   "cell_type": "code",
   "execution_count": 23,
   "metadata": {},
   "outputs": [],
   "source": [
    "# save to dataclean\n",
    "movies_agg.to_csv(r'./dataclean/movies_ratings.csv')\n",
    "movies_agg.to_csv(r'./dataclean/users_ratings.csv')"
   ]
  },
  {
   "cell_type": "markdown",
   "metadata": {},
   "source": [
    "## Data integrity\n",
    "I have collected the data myself from the ratings data, they are present in the metadata file also, we can compare the two using the ones I have collected as reference if any errors was found"
   ]
  },
  {
   "cell_type": "code",
   "execution_count": 21,
   "metadata": {},
   "outputs": [],
   "source": [
    "meta_data = pd.read_csv(r'./dataclean/metadata.csv')\n",
    "movie_ratings = pd.read_csv(r'./dataclean/movies_ratings.csv')"
   ]
  },
  {
   "cell_type": "code",
   "execution_count": 22,
   "metadata": {},
   "outputs": [
    {
     "data": {
      "text/plain": [
       "True"
      ]
     },
     "execution_count": 22,
     "metadata": {},
     "output_type": "execute_result"
    }
   ],
   "source": [
    "# First check the movies ids to be the same in both\n",
    "meta_id = set(meta_data.movie_id.unique())\n",
    "ratings_id = set(movie_ratings.movieId.unique())\n",
    "meta_id == ratings_id"
   ]
  },
  {
   "cell_type": "markdown",
   "metadata": {},
   "source": [
    "Sets turned out to be not identical, some columns of the movie_ratings will be dropped and also from the ratings "
   ]
  },
  {
   "cell_type": "code",
   "execution_count": 23,
   "metadata": {},
   "outputs": [
    {
     "data": {
      "text/plain": [
       "(7493, 7493)"
      ]
     },
     "execution_count": 23,
     "metadata": {},
     "output_type": "execute_result"
    }
   ],
   "source": [
    "len(meta_id), len(ratings_id)"
   ]
  },
  {
   "cell_type": "code",
   "execution_count": 24,
   "metadata": {},
   "outputs": [
    {
     "name": "stdout",
     "output_type": "stream",
     "text": [
      "The number of movies only in the metadata 0\n",
      "The number of movies only in the ratings 0\n",
      "The number of movies only in both 7493\n"
     ]
    }
   ],
   "source": [
    "print(f\"The number of movies only in the metadata {len(meta_id - ratings_id)}\")\n",
    "print(f\"The number of movies only in the ratings {len(ratings_id - meta_id)}\")\n",
    "print(f\"The number of movies only in both {len(ratings_id & meta_id)}\")"
   ]
  },
  {
   "cell_type": "markdown",
   "metadata": {},
   "source": [
    "After investegation, the ids of interest are the nearly 7.5k movies that we have metadata about and are actually rated by users, this requires refining the cleaned data to ensure integrity"
   ]
  },
  {
   "cell_type": "code",
   "execution_count": 25,
   "metadata": {},
   "outputs": [],
   "source": [
    "target_ids = ratings_id & meta_id"
   ]
  },
  {
   "cell_type": "code",
   "execution_count": 26,
   "metadata": {},
   "outputs": [
    {
     "data": {
      "text/plain": [
       "7493"
      ]
     },
     "execution_count": 26,
     "metadata": {},
     "output_type": "execute_result"
    }
   ],
   "source": [
    "li = list(target_ids)\n",
    "len(li)"
   ]
  },
  {
   "cell_type": "code",
   "execution_count": 27,
   "metadata": {},
   "outputs": [],
   "source": [
    "# files are split into 2 categories, ones not affected by the filter\n",
    "# and others affected these being the aggregate functions previously calculated by pyspark\n",
    "# handling the filters\n",
    "# it has come to my attention the presence of duplicates from a later phase\n",
    "# so went back and added dropping duplicates in cleaning\n",
    "simple_filters_files = ['cast', 'directors', 'genres', 'keywords', 'metadata']\n",
    "\n",
    "for filename in simple_filters_files:\n",
    "    df = pd.read_csv(f'./dataparsed/{filename}.csv')\n",
    "    df = df[df.movie_id.isin(target_ids)]\n",
    "    df.drop_duplicates(inplace= True)\n",
    "    df.to_csv(f'./dataclean/{filename}.csv', header= True, index= False)\n",
    "    \n",
    "    "
   ]
  },
  {
   "cell_type": "code",
   "execution_count": 100,
   "metadata": {},
   "outputs": [
    {
     "data": {
      "text/html": [
       "<div>\n",
       "<style scoped>\n",
       "    .dataframe tbody tr th:only-of-type {\n",
       "        vertical-align: middle;\n",
       "    }\n",
       "\n",
       "    .dataframe tbody tr th {\n",
       "        vertical-align: top;\n",
       "    }\n",
       "\n",
       "    .dataframe thead th {\n",
       "        text-align: right;\n",
       "    }\n",
       "</style>\n",
       "<table border=\"1\" class=\"dataframe\">\n",
       "  <thead>\n",
       "    <tr style=\"text-align: right;\">\n",
       "      <th></th>\n",
       "      <th>userId</th>\n",
       "      <th>movieId</th>\n",
       "      <th>rating</th>\n",
       "      <th>timestamp</th>\n",
       "    </tr>\n",
       "  </thead>\n",
       "  <tbody>\n",
       "    <tr>\n",
       "      <th>0</th>\n",
       "      <td>1</td>\n",
       "      <td>110</td>\n",
       "      <td>1.0</td>\n",
       "      <td>1425941529</td>\n",
       "    </tr>\n",
       "    <tr>\n",
       "      <th>1</th>\n",
       "      <td>1</td>\n",
       "      <td>147</td>\n",
       "      <td>4.5</td>\n",
       "      <td>1425942435</td>\n",
       "    </tr>\n",
       "    <tr>\n",
       "      <th>2</th>\n",
       "      <td>1</td>\n",
       "      <td>858</td>\n",
       "      <td>5.0</td>\n",
       "      <td>1425941523</td>\n",
       "    </tr>\n",
       "    <tr>\n",
       "      <th>3</th>\n",
       "      <td>1</td>\n",
       "      <td>1221</td>\n",
       "      <td>5.0</td>\n",
       "      <td>1425941546</td>\n",
       "    </tr>\n",
       "    <tr>\n",
       "      <th>4</th>\n",
       "      <td>1</td>\n",
       "      <td>1246</td>\n",
       "      <td>5.0</td>\n",
       "      <td>1425941556</td>\n",
       "    </tr>\n",
       "  </tbody>\n",
       "</table>\n",
       "</div>"
      ],
      "text/plain": [
       "   userId  movieId  rating   timestamp\n",
       "0       1      110     1.0  1425941529\n",
       "1       1      147     4.5  1425942435\n",
       "2       1      858     5.0  1425941523\n",
       "3       1     1221     5.0  1425941546\n",
       "4       1     1246     5.0  1425941556"
      ]
     },
     "execution_count": 100,
     "metadata": {},
     "output_type": "execute_result"
    }
   ],
   "source": [
    "# second we should filter the ratings before applying aggregate functions again\n",
    "ratings = pd.read_csv(r'./data/ratings.csv')\n",
    "ratings.head()"
   ]
  },
  {
   "cell_type": "code",
   "execution_count": 101,
   "metadata": {},
   "outputs": [],
   "source": [
    "# timestamp is still not needed\n",
    "ratings.drop(columns= ['timestamp'], inplace= True)"
   ]
  },
  {
   "cell_type": "code",
   "execution_count": 102,
   "metadata": {},
   "outputs": [
    {
     "data": {
      "text/plain": [
       "11415489"
      ]
     },
     "execution_count": 102,
     "metadata": {},
     "output_type": "execute_result"
    }
   ],
   "source": [
    "ratings = ratings[ratings.movieId.isin(target_ids)]\n",
    "len(ratings)"
   ]
  },
  {
   "cell_type": "markdown",
   "metadata": {},
   "source": [
    "We are left with legit 11 Million ratings for the 7500 movies "
   ]
  },
  {
   "cell_type": "code",
   "execution_count": 103,
   "metadata": {},
   "outputs": [],
   "source": [
    "# saving the cleaned ratings\n",
    "ratings.to_csv(r'./dataclean/ratings.csv', header= True, index= False)"
   ]
  },
  {
   "cell_type": "markdown",
   "metadata": {},
   "source": [
    "Using map reduce on data, apche spark has it underlying "
   ]
  },
  {
   "cell_type": "code",
   "execution_count": 33,
   "metadata": {},
   "outputs": [],
   "source": [
    "# Now I should utilize pyspark to aggregate the Millions of records of ratings\n",
    "from pyspark.sql import SparkSession\n",
    "spark = SparkSession.builder.appName('TMDb').getOrCreate()"
   ]
  },
  {
   "cell_type": "code",
   "execution_count": 48,
   "metadata": {},
   "outputs": [
    {
     "name": "stdout",
     "output_type": "stream",
     "text": [
      "+------+-------+------+\n",
      "|userId|movieId|rating|\n",
      "+------+-------+------+\n",
      "|     1|    110|   1.0|\n",
      "|     1|    147|   4.5|\n",
      "|     1|    858|   5.0|\n",
      "|     1|   1246|   5.0|\n",
      "|     1|   1968|   4.0|\n",
      "+------+-------+------+\n",
      "only showing top 5 rows\n",
      "\n"
     ]
    }
   ],
   "source": [
    "df_pyspark = spark.read.csv(r'./dataclean/ratings.csv', header= True, inferSchema= True)\n",
    "df_pyspark.show(5)"
   ]
  },
  {
   "cell_type": "code",
   "execution_count": 49,
   "metadata": {},
   "outputs": [],
   "source": [
    "from pyspark.sql import functions as F"
   ]
  },
  {
   "cell_type": "code",
   "execution_count": 60,
   "metadata": {},
   "outputs": [],
   "source": [
    "target_agg_attributes = ['movieId', 'userId']\n",
    "\n",
    "for att in target_agg_attributes:\n",
    "    df_agg = df_pyspark.groupBy(att).agg(F.mean('rating'), F.count('rating')).toPandas()\n",
    "    df_agg.columns = [att, 'rating_avg', 'rating_count']\n",
    "    df_agg = df_agg.round(2)\n",
    "    df_agg.to_csv(f'./dataclean/{att[: -2]}s_ratings.csv', header= True, index= False)\n"
   ]
  },
  {
   "cell_type": "markdown",
   "metadata": {},
   "source": [
    "## Recomendation System\n",
    "Visualizations are pivotal in the process of data analysis\n",
    "### Visualizations"
   ]
  },
  {
   "cell_type": "code",
   "execution_count": 18,
   "metadata": {},
   "outputs": [],
   "source": [
    "#set seaborn plotting aesthetics as default\n",
    "sns.set()"
   ]
  },
  {
   "cell_type": "markdown",
   "metadata": {},
   "source": [
    "We can test the interest of our voters in the movie eras by checking the number of votes per year"
   ]
  },
  {
   "cell_type": "code",
   "execution_count": 19,
   "metadata": {},
   "outputs": [
    {
     "name": "stdout",
     "output_type": "stream",
     "text": [
      "set()\n"
     ]
    },
    {
     "data": {
      "text/plain": [
       "(7493, 7493)"
      ]
     },
     "execution_count": 19,
     "metadata": {},
     "output_type": "execute_result"
    }
   ],
   "source": [
    "meta_data = pd.read_csv(r'./dataclean/metadata.csv')\n",
    "movie_ratings = pd.read_csv(r'./dataclean/movies_ratings.csv')\n",
    "print(set(meta_data.movie_id) - set(movie_ratings.movieId))\n",
    "len(meta_data) , len(movie_ratings)\n",
    "# a duplicate was found @ id = 4912\n",
    "# dealt with manually 11.331072 + 7.645827\t\n",
    "# meta_data[meta_data.movie_id == 4912]"
   ]
  },
  {
   "cell_type": "code",
   "execution_count": 119,
   "metadata": {},
   "outputs": [
    {
     "data": {
      "text/plain": [
       "9.4884495"
      ]
     },
     "execution_count": 119,
     "metadata": {},
     "output_type": "execute_result"
    }
   ],
   "source": [
    "# validating the integrity of the data it came to my attention a duplicate is in metadata\n",
    "# I will go on compensate with the average of both\n",
    "# As in this link, max deems appropriate https://developers.themoviedb.org/3/getting-started/popularity\n",
    "# my hypothesis is that there were two records for this movie on is more updated than the other\n",
    "# so averaging is good, both values can be found in parsed metadata\n",
    "# (11.331072 + 7.645827)/2"
   ]
  },
  {
   "cell_type": "markdown",
   "metadata": {},
   "source": [
    "It can be seen that data is now validated, the unique values in both files is the same"
   ]
  },
  {
   "cell_type": "code",
   "execution_count": 20,
   "metadata": {},
   "outputs": [
    {
     "data": {
      "text/html": [
       "<div>\n",
       "<style scoped>\n",
       "    .dataframe tbody tr th:only-of-type {\n",
       "        vertical-align: middle;\n",
       "    }\n",
       "\n",
       "    .dataframe tbody tr th {\n",
       "        vertical-align: top;\n",
       "    }\n",
       "\n",
       "    .dataframe thead th {\n",
       "        text-align: right;\n",
       "    }\n",
       "</style>\n",
       "<table border=\"1\" class=\"dataframe\">\n",
       "  <thead>\n",
       "    <tr style=\"text-align: right;\">\n",
       "      <th></th>\n",
       "      <th>movie_id</th>\n",
       "      <th>title</th>\n",
       "      <th>release_date</th>\n",
       "      <th>popularity</th>\n",
       "      <th>budget</th>\n",
       "      <th>revenue</th>\n",
       "      <th>vote_average</th>\n",
       "      <th>vote_count</th>\n",
       "      <th>rating_avg</th>\n",
       "      <th>rating_count</th>\n",
       "    </tr>\n",
       "  </thead>\n",
       "  <tbody>\n",
       "    <tr>\n",
       "      <th>0</th>\n",
       "      <td>862</td>\n",
       "      <td>Toy Story</td>\n",
       "      <td>1995-10-30</td>\n",
       "      <td>21.946943</td>\n",
       "      <td>30000000</td>\n",
       "      <td>373554033.0</td>\n",
       "      <td>7.7</td>\n",
       "      <td>5415.0</td>\n",
       "      <td>3.60</td>\n",
       "      <td>374</td>\n",
       "    </tr>\n",
       "    <tr>\n",
       "      <th>1</th>\n",
       "      <td>8844</td>\n",
       "      <td>Jumanji</td>\n",
       "      <td>1995-12-15</td>\n",
       "      <td>17.015539</td>\n",
       "      <td>65000000</td>\n",
       "      <td>262797249.0</td>\n",
       "      <td>6.9</td>\n",
       "      <td>2413.0</td>\n",
       "      <td>3.76</td>\n",
       "      <td>123</td>\n",
       "    </tr>\n",
       "    <tr>\n",
       "      <th>2</th>\n",
       "      <td>949</td>\n",
       "      <td>Heat</td>\n",
       "      <td>1995-12-15</td>\n",
       "      <td>17.924927</td>\n",
       "      <td>60000000</td>\n",
       "      <td>187436818.0</td>\n",
       "      <td>7.7</td>\n",
       "      <td>1886.0</td>\n",
       "      <td>3.91</td>\n",
       "      <td>2345</td>\n",
       "    </tr>\n",
       "    <tr>\n",
       "      <th>3</th>\n",
       "      <td>710</td>\n",
       "      <td>GoldenEye</td>\n",
       "      <td>1995-11-16</td>\n",
       "      <td>14.686036</td>\n",
       "      <td>58000000</td>\n",
       "      <td>352194034.0</td>\n",
       "      <td>6.6</td>\n",
       "      <td>1194.0</td>\n",
       "      <td>2.74</td>\n",
       "      <td>1319</td>\n",
       "    </tr>\n",
       "    <tr>\n",
       "      <th>4</th>\n",
       "      <td>1408</td>\n",
       "      <td>Cutthroat Island</td>\n",
       "      <td>1995-12-22</td>\n",
       "      <td>7.284477</td>\n",
       "      <td>98000000</td>\n",
       "      <td>10017322.0</td>\n",
       "      <td>5.7</td>\n",
       "      <td>137.0</td>\n",
       "      <td>3.71</td>\n",
       "      <td>13888</td>\n",
       "    </tr>\n",
       "  </tbody>\n",
       "</table>\n",
       "</div>"
      ],
      "text/plain": [
       "   movie_id             title release_date  popularity    budget      revenue  \\\n",
       "0       862         Toy Story   1995-10-30   21.946943  30000000  373554033.0   \n",
       "1      8844           Jumanji   1995-12-15   17.015539  65000000  262797249.0   \n",
       "2       949              Heat   1995-12-15   17.924927  60000000  187436818.0   \n",
       "3       710         GoldenEye   1995-11-16   14.686036  58000000  352194034.0   \n",
       "4      1408  Cutthroat Island   1995-12-22    7.284477  98000000   10017322.0   \n",
       "\n",
       "   vote_average  vote_count  rating_avg  rating_count  \n",
       "0           7.7      5415.0        3.60           374  \n",
       "1           6.9      2413.0        3.76           123  \n",
       "2           7.7      1886.0        3.91          2345  \n",
       "3           6.6      1194.0        2.74          1319  \n",
       "4           5.7       137.0        3.71         13888  "
      ]
     },
     "execution_count": 20,
     "metadata": {},
     "output_type": "execute_result"
    }
   ],
   "source": [
    "movie_ratings.rename(columns= {'movieId': 'movie_id'}, inplace= True)\n",
    "movie_df = pd.merge(meta_data,movie_ratings,on='movie_id')\n",
    "movie_df.head()"
   ]
  },
  {
   "cell_type": "markdown",
   "metadata": {},
   "source": [
    "There is a difference between the vote_avg and count in the metadata rather than the one collected from the ratings data, as the recommendation engine relies heavily on the ratings so we will stick to this   \n",
    "https://www.themoviedb.org/talk/5f879e57a275020039cc79ee, the metadata values are provided from the API, they maybe of use later"
   ]
  },
  {
   "cell_type": "markdown",
   "metadata": {},
   "source": [
    "### Number of movies per year"
   ]
  },
  {
   "cell_type": "code",
   "execution_count": 5,
   "metadata": {},
   "outputs": [
    {
     "data": {
      "text/plain": [
       "movie_id          int64\n",
       "title            object\n",
       "release_date     object\n",
       "popularity      float64\n",
       "budget            int64\n",
       "revenue         float64\n",
       "vote_average    float64\n",
       "vote_count      float64\n",
       "rating_avg      float64\n",
       "rating_count      int64\n",
       "dtype: object"
      ]
     },
     "execution_count": 5,
     "metadata": {},
     "output_type": "execute_result"
    }
   ],
   "source": [
    "movie_df.dtypes"
   ]
  },
  {
   "cell_type": "code",
   "execution_count": 6,
   "metadata": {},
   "outputs": [
    {
     "name": "stdout",
     "output_type": "stream",
     "text": [
      "<class 'pandas.core.frame.DataFrame'>\n",
      "Int64Index: 7493 entries, 0 to 7492\n",
      "Data columns (total 10 columns):\n",
      " #   Column        Non-Null Count  Dtype         \n",
      "---  ------        --------------  -----         \n",
      " 0   movie_id      7493 non-null   int64         \n",
      " 1   title         7493 non-null   object        \n",
      " 2   release_date  7485 non-null   datetime64[ns]\n",
      " 3   popularity    7493 non-null   float64       \n",
      " 4   budget        7493 non-null   int64         \n",
      " 5   revenue       7493 non-null   float64       \n",
      " 6   vote_average  7493 non-null   float64       \n",
      " 7   vote_count    7493 non-null   float64       \n",
      " 8   rating_avg    7493 non-null   float64       \n",
      " 9   rating_count  7493 non-null   int64         \n",
      "dtypes: datetime64[ns](1), float64(5), int64(3), object(1)\n",
      "memory usage: 643.9+ KB\n"
     ]
    }
   ],
   "source": [
    "movie_df.release_date = pd.to_datetime(movie_df.release_date) #, format= '%Y-%m-%d')\n",
    "movie_df.info()"
   ]
  },
  {
   "cell_type": "code",
   "execution_count": 7,
   "metadata": {},
   "outputs": [],
   "source": [
    "# dropping 8 movies with no known release date\n",
    "movie_df.dropna(inplace= True)\n",
    "movie_df.reset_index(inplace= True)"
   ]
  },
  {
   "cell_type": "code",
   "execution_count": 8,
   "metadata": {},
   "outputs": [
    {
     "name": "stdout",
     "output_type": "stream",
     "text": [
      "<class 'pandas.core.frame.DataFrame'>\n",
      "RangeIndex: 7485 entries, 0 to 7484\n",
      "Data columns (total 12 columns):\n",
      " #   Column        Non-Null Count  Dtype         \n",
      "---  ------        --------------  -----         \n",
      " 0   index         7485 non-null   int64         \n",
      " 1   movie_id      7485 non-null   int64         \n",
      " 2   title         7485 non-null   object        \n",
      " 3   release_date  7485 non-null   datetime64[ns]\n",
      " 4   popularity    7485 non-null   float64       \n",
      " 5   budget        7485 non-null   int64         \n",
      " 6   revenue       7485 non-null   float64       \n",
      " 7   vote_average  7485 non-null   float64       \n",
      " 8   vote_count    7485 non-null   float64       \n",
      " 9   rating_avg    7485 non-null   float64       \n",
      " 10  rating_count  7485 non-null   int64         \n",
      " 11  release_year  7485 non-null   int64         \n",
      "dtypes: datetime64[ns](1), float64(5), int64(5), object(1)\n",
      "memory usage: 701.8+ KB\n"
     ]
    }
   ],
   "source": [
    "movie_df['release_year'] = movie_df.release_date.dt.year\n",
    "movie_df.info()"
   ]
  },
  {
   "cell_type": "code",
   "execution_count": 53,
   "metadata": {},
   "outputs": [
    {
     "data": {
      "text/html": [
       "<div>\n",
       "<style scoped>\n",
       "    .dataframe tbody tr th:only-of-type {\n",
       "        vertical-align: middle;\n",
       "    }\n",
       "\n",
       "    .dataframe tbody tr th {\n",
       "        vertical-align: top;\n",
       "    }\n",
       "\n",
       "    .dataframe thead th {\n",
       "        text-align: right;\n",
       "    }\n",
       "</style>\n",
       "<table border=\"1\" class=\"dataframe\">\n",
       "  <thead>\n",
       "    <tr style=\"text-align: right;\">\n",
       "      <th></th>\n",
       "      <th>release_year</th>\n",
       "      <th>total_votes</th>\n",
       "      <th>avg_vote</th>\n",
       "      <th>num_movies</th>\n",
       "      <th>total_rating</th>\n",
       "      <th>avg_rating</th>\n",
       "    </tr>\n",
       "  </thead>\n",
       "  <tbody>\n",
       "    <tr>\n",
       "      <th>0</th>\n",
       "      <td>1890</td>\n",
       "      <td>24</td>\n",
       "      <td>24.000000</td>\n",
       "      <td>1</td>\n",
       "      <td>3.56</td>\n",
       "      <td>3.560000</td>\n",
       "    </tr>\n",
       "    <tr>\n",
       "      <th>1</th>\n",
       "      <td>1891</td>\n",
       "      <td>17</td>\n",
       "      <td>8.500000</td>\n",
       "      <td>2</td>\n",
       "      <td>7.22</td>\n",
       "      <td>3.610000</td>\n",
       "    </tr>\n",
       "    <tr>\n",
       "      <th>2</th>\n",
       "      <td>1892</td>\n",
       "      <td>10</td>\n",
       "      <td>10.000000</td>\n",
       "      <td>1</td>\n",
       "      <td>3.50</td>\n",
       "      <td>3.500000</td>\n",
       "    </tr>\n",
       "    <tr>\n",
       "      <th>3</th>\n",
       "      <td>1894</td>\n",
       "      <td>8</td>\n",
       "      <td>2.666667</td>\n",
       "      <td>3</td>\n",
       "      <td>9.58</td>\n",
       "      <td>3.193333</td>\n",
       "    </tr>\n",
       "    <tr>\n",
       "      <th>4</th>\n",
       "      <td>1895</td>\n",
       "      <td>51</td>\n",
       "      <td>25.500000</td>\n",
       "      <td>2</td>\n",
       "      <td>5.15</td>\n",
       "      <td>2.575000</td>\n",
       "    </tr>\n",
       "  </tbody>\n",
       "</table>\n",
       "</div>"
      ],
      "text/plain": [
       "   release_year  total_votes   avg_vote  num_movies  total_rating  avg_rating\n",
       "0          1890           24  24.000000           1          3.56    3.560000\n",
       "1          1891           17   8.500000           2          7.22    3.610000\n",
       "2          1892           10  10.000000           1          3.50    3.500000\n",
       "3          1894            8   2.666667           3          9.58    3.193333\n",
       "4          1895           51  25.500000           2          5.15    2.575000"
      ]
     },
     "execution_count": 53,
     "metadata": {},
     "output_type": "execute_result"
    }
   ],
   "source": [
    "year_agg = movie_df.groupby('release_year', as_index= False).agg({'rating_count': ['sum', 'mean', 'count'], 'rating_avg': ['sum', 'mean']})\n",
    "year_agg.columns = year_agg.columns.to_flat_index()\n",
    "year_agg.columns = ['release_year', 'total_votes', 'avg_vote', 'num_movies', 'total_rating', 'avg_rating']\n",
    "year_agg.head()"
   ]
  },
  {
   "cell_type": "code",
   "execution_count": 86,
   "metadata": {},
   "outputs": [
    {
     "data": {
      "image/png": "[encoded data removed]",
      "text/plain": [
       "<Figure size 432x288 with 1 Axes>"
      ]
     },
     "metadata": {
      "needs_background": "light"
     },
     "output_type": "display_data"
    }
   ],
   "source": [
    "sns.histplot(data= movie_df, x= 'release_year', bins= 12, kde= True)\n",
    "plt.xlabel('year')\n",
    "plt.ylabel('Number of movies');"
   ]
  },
  {
   "cell_type": "markdown",
   "metadata": {},
   "source": [
    "As expected the data is skewed to the right, the number of movies is increasing the recent years, out of resepect to the classics that hold their places in the 40s like 12 Angry Men and people who admire classics they still should be included in the recommender system  \n",
    "Let us check the number of votes each year gets"
   ]
  },
  {
   "cell_type": "code",
   "execution_count": 98,
   "metadata": {},
   "outputs": [
    {
     "data": {
      "image/png": "[encoded data removed]",
      "text/plain": [
       "<Figure size 432x288 with 1 Axes>"
      ]
     },
     "metadata": {
      "needs_background": "light"
     },
     "output_type": "display_data"
    }
   ],
   "source": [
    "sns.barplot(data= year_agg, x= year_agg.release_year, y= year_agg.total_votes)\n",
    "plt.title('interest in movies/year');\n",
    "plt.xlabel('year')\n",
    "plt.ylabel('Number of votes');"
   ]
  },
  {
   "cell_type": "markdown",
   "metadata": {},
   "source": [
    "Although figure is crowded we can see that people's interest is focused on new movies, with the latest years being less as maybe people didn't get the chance to watch it in the cinema or no Blu-ray version is released"
   ]
  },
  {
   "cell_type": "code",
   "execution_count": 72,
   "metadata": {},
   "outputs": [
    {
     "data": {
      "text/plain": [
       "<matplotlib.axes._subplots.AxesSubplot at 0x17f6986caf0>"
      ]
     },
     "execution_count": 72,
     "metadata": {},
     "output_type": "execute_result"
    },
    {
     "data": {
      "image/png": "[encoded data removed]",
      "text/plain": [
       "<Figure size 432x288 with 2 Axes>"
      ]
     },
     "metadata": {
      "needs_background": "light"
     },
     "output_type": "display_data"
    }
   ],
   "source": [
    "sns.histplot(data= year_agg, x= year_agg.release_year, y= year_agg.total_votes, cbar= True)\n",
    "plt.title('interest in movies of the year')\n",
    "plt.xlabel('year')\n",
    "plt.ylabel('Number of votes');"
   ]
  },
  {
   "cell_type": "markdown",
   "metadata": {},
   "source": [
    "In this plot, the number of movies is represented in the color of the square, we can see the number of years having less than 100k votes in each 10 years to have a clearer perception of the data we have  \n",
    "We can see that the 1960s movies are in contetion and are a drawer for interest with 2 years having more than 150k votes, my biggest concern was if some of the older movies were not well represented they would be lost in the mix, but I can see that however the number of movies was smaller, people tune in and care to vote  \n",
    "The earlier years may have fewer votes density but this is not a problem as they also have fewer movies density "
   ]
  },
  {
   "cell_type": "code",
   "execution_count": 109,
   "metadata": {},
   "outputs": [
    {
     "data": {
      "image/png": "[encoded data removed]",
      "text/plain": [
       "<Figure size 720x864 with 6 Axes>"
      ]
     },
     "metadata": {
      "needs_background": "light"
     },
     "output_type": "display_data"
    }
   ],
   "source": [
    "#define plotting region (2 rows, 2 columns)\n",
    "fig, axes = plt.subplots(3, figsize= (10,12))\n",
    "\n",
    "plt.suptitle('Movies density per year', fontsize= 20)\n",
    "for ax in axes:\n",
    "    ax.set_xlabel('year')\n",
    "\n",
    "axes[0].set_ylabel('Total votes / year')\n",
    "sns.histplot(data= year_agg, x='release_year', y= 'total_votes', ax= axes[0], cbar= True)\n",
    "\n",
    "axes[1].set_ylabel('Votes per movie / year')\n",
    "sns.histplot(data= year_agg, x='release_year', y= 'avg_vote', ax= axes[1], cbar= True)\n",
    "\n",
    "axes[2].set_ylabel('Number of Movies / year')\n",
    "sns.histplot(data= year_agg, x='release_year', y= 'num_movies', ax= axes[2], cbar= True)\n",
    "\n",
    "for ax in axes:\n",
    "    ax.label_outer()"
   ]
  },
  {
   "cell_type": "markdown",
   "metadata": {},
   "source": [
    "Through these there plots we can verify the nearly uniform distribution of our votes, the middle figure shows the number of votes per movies each year appearing to be of the same distribution since the 1920s, and that is explained by the bottom figure with number of movies per year in our ratings data"
   ]
  },
  {
   "cell_type": "code",
   "execution_count": 112,
   "metadata": {},
   "outputs": [
    {
     "data": {
      "text/plain": [
       "Text(0, 0.5, 'Average movies rating per year')"
      ]
     },
     "execution_count": 112,
     "metadata": {},
     "output_type": "execute_result"
    },
    {
     "data": {
      "image/png": "[encoded data removed]",
      "text/plain": [
       "<Figure size 432x288 with 2 Axes>"
      ]
     },
     "metadata": {
      "needs_background": "light"
     },
     "output_type": "display_data"
    }
   ],
   "source": [
    "sns.histplot(data= year_agg, x= 'release_year', y= 'avg_rating', cbar= True)\n",
    "plt.title('Average ratings for all movies in a year')\n",
    "plt.xlabel('year')\n",
    "plt.ylabel('Average movies rating per year')"
   ]
  },
  {
   "cell_type": "markdown",
   "metadata": {},
   "source": [
    "while some years are better and worse than others, the majority of years lie in the above average area ratings for all years, implying that the users give a variety of ratings and each year has a variety of movies"
   ]
  },
  {
   "cell_type": "markdown",
   "metadata": {},
   "source": [
    "### Machine learning component"
   ]
  },
  {
   "cell_type": "code",
   "execution_count": 1,
   "metadata": {},
   "outputs": [],
   "source": [
    "from pyspark.sql import SparkSession\n",
    "from pyspark.ml.evaluation import RegressionEvaluator\n",
    "from pyspark.ml.recommendation import ALS"
   ]
  },
  {
   "cell_type": "code",
   "execution_count": 2,
   "metadata": {},
   "outputs": [],
   "source": [
    "# initiating spark session\n",
    "spark = SparkSession.builder.appName('TMDb').getOrCreate()"
   ]
  },
  {
   "cell_type": "code",
   "execution_count": 3,
   "metadata": {},
   "outputs": [],
   "source": [
    "# loading ratings\n",
    "df = spark.read.csv(r'./dataclean/ratings.csv', inferSchema= True, header= True)"
   ]
  },
  {
   "cell_type": "code",
   "execution_count": 4,
   "metadata": {},
   "outputs": [],
   "source": [
    "(train, test) = df.randomSplit([0.95, 0.05], seed= 27)"
   ]
  },
  {
   "cell_type": "code",
   "execution_count": 5,
   "metadata": {},
   "outputs": [],
   "source": [
    "als = ALS(maxIter= 5, regParam= 0.01, userCol= 'userId', itemCol= 'movieId', ratingCol= 'rating', \\\n",
    "    coldStartStrategy= \"drop\", nonnegative= True)"
   ]
  },
  {
   "cell_type": "code",
   "execution_count": 6,
   "metadata": {},
   "outputs": [],
   "source": [
    "model = als.fit(train)"
   ]
  },
  {
   "cell_type": "code",
   "execution_count": 7,
   "metadata": {},
   "outputs": [],
   "source": [
    "pred = model.transform(test)"
   ]
  },
  {
   "cell_type": "code",
   "execution_count": 8,
   "metadata": {},
   "outputs": [],
   "source": [
    "pred_num = pred.toPandas()\n",
    "pred_num.to_csv(r'./predictions/als.csv')"
   ]
  },
  {
   "cell_type": "code",
   "execution_count": 9,
   "metadata": {},
   "outputs": [],
   "source": [
    "eval = RegressionEvaluator(metricName=\"rmse\", labelCol=\"rating\", predictionCol=\"prediction\")"
   ]
  },
  {
   "cell_type": "code",
   "execution_count": 10,
   "metadata": {},
   "outputs": [
    {
     "name": "stdout",
     "output_type": "stream",
     "text": [
      "RMSE: 0.8833992017935814\n"
     ]
    }
   ],
   "source": [
    "rmse = eval.evaluate(pred)\n",
    "print(f\"RMSE: {rmse}\")"
   ]
  },
  {
   "cell_type": "markdown",
   "metadata": {},
   "source": [
    "Now it is acceptable to use the model on the whole data to make predictions to all users"
   ]
  },
  {
   "cell_type": "code",
   "execution_count": 11,
   "metadata": {},
   "outputs": [],
   "source": [
    "model = als.fit(df)"
   ]
  },
  {
   "cell_type": "code",
   "execution_count": 12,
   "metadata": {},
   "outputs": [],
   "source": [
    "pred = model.transform(df)"
   ]
  },
  {
   "cell_type": "code",
   "execution_count": 13,
   "metadata": {},
   "outputs": [
    {
     "name": "stdout",
     "output_type": "stream",
     "text": [
      "RMSE: 0.7487834943206226\n"
     ]
    }
   ],
   "source": [
    "rmse = eval.evaluate(pred)\n",
    "print(f\"RMSE: {rmse}\")"
   ]
  },
  {
   "cell_type": "markdown",
   "metadata": {},
   "source": [
    "### Content Based Filtering"
   ]
  },
  {
   "cell_type": "markdown",
   "metadata": {},
   "source": [
    "We now need default recommendations for new users which requires us to go for the data and check it."
   ]
  },
  {
   "cell_type": "code",
   "execution_count": 21,
   "metadata": {},
   "outputs": [
    {
     "data": {
      "text/plain": [
       "Index(['movie_id', 'title', 'release_date', 'popularity', 'budget', 'revenue',\n",
       "       'vote_average', 'vote_count', 'rating_avg', 'rating_count'],\n",
       "      dtype='object')"
      ]
     },
     "execution_count": 21,
     "metadata": {},
     "output_type": "execute_result"
    }
   ],
   "source": [
    "movie_df.columns"
   ]
  },
  {
   "cell_type": "code",
   "execution_count": 23,
   "metadata": {},
   "outputs": [
    {
     "data": {
      "text/html": [
       "<div>\n",
       "<style scoped>\n",
       "    .dataframe tbody tr th:only-of-type {\n",
       "        vertical-align: middle;\n",
       "    }\n",
       "\n",
       "    .dataframe tbody tr th {\n",
       "        vertical-align: top;\n",
       "    }\n",
       "\n",
       "    .dataframe thead th {\n",
       "        text-align: right;\n",
       "    }\n",
       "</style>\n",
       "<table border=\"1\" class=\"dataframe\">\n",
       "  <thead>\n",
       "    <tr style=\"text-align: right;\">\n",
       "      <th></th>\n",
       "      <th>movie_id</th>\n",
       "      <th>title</th>\n",
       "      <th>release_date</th>\n",
       "      <th>popularity</th>\n",
       "      <th>budget</th>\n",
       "      <th>revenue</th>\n",
       "      <th>vote_average</th>\n",
       "      <th>vote_count</th>\n",
       "      <th>rating_avg</th>\n",
       "      <th>rating_count</th>\n",
       "    </tr>\n",
       "  </thead>\n",
       "  <tbody>\n",
       "    <tr>\n",
       "      <th>3604</th>\n",
       "      <td>27205</td>\n",
       "      <td>Inception</td>\n",
       "      <td>2010-07-14</td>\n",
       "      <td>29.108149</td>\n",
       "      <td>160000000</td>\n",
       "      <td>8.255328e+08</td>\n",
       "      <td>8.1</td>\n",
       "      <td>14075.0</td>\n",
       "      <td>3.70</td>\n",
       "      <td>5</td>\n",
       "    </tr>\n",
       "    <tr>\n",
       "      <th>3123</th>\n",
       "      <td>155</td>\n",
       "      <td>The Dark Knight</td>\n",
       "      <td>2008-07-16</td>\n",
       "      <td>123.167259</td>\n",
       "      <td>185000000</td>\n",
       "      <td>1.004558e+09</td>\n",
       "      <td>8.3</td>\n",
       "      <td>12269.0</td>\n",
       "      <td>3.40</td>\n",
       "      <td>1319</td>\n",
       "    </tr>\n",
       "    <tr>\n",
       "      <th>4830</th>\n",
       "      <td>157336</td>\n",
       "      <td>Interstellar</td>\n",
       "      <td>2014-11-05</td>\n",
       "      <td>32.213481</td>\n",
       "      <td>165000000</td>\n",
       "      <td>6.751200e+08</td>\n",
       "      <td>8.1</td>\n",
       "      <td>11187.0</td>\n",
       "      <td>2.50</td>\n",
       "      <td>4</td>\n",
       "    </tr>\n",
       "    <tr>\n",
       "      <th>4958</th>\n",
       "      <td>118340</td>\n",
       "      <td>Guardians of the Galaxy</td>\n",
       "      <td>2014-07-30</td>\n",
       "      <td>53.291601</td>\n",
       "      <td>170000000</td>\n",
       "      <td>7.733286e+08</td>\n",
       "      <td>7.9</td>\n",
       "      <td>10014.0</td>\n",
       "      <td>4.00</td>\n",
       "      <td>1</td>\n",
       "    </tr>\n",
       "    <tr>\n",
       "      <th>839</th>\n",
       "      <td>550</td>\n",
       "      <td>Fight Club</td>\n",
       "      <td>1999-10-15</td>\n",
       "      <td>63.869599</td>\n",
       "      <td>63000000</td>\n",
       "      <td>1.008538e+08</td>\n",
       "      <td>8.3</td>\n",
       "      <td>9678.0</td>\n",
       "      <td>3.08</td>\n",
       "      <td>3477</td>\n",
       "    </tr>\n",
       "    <tr>\n",
       "      <th>729</th>\n",
       "      <td>603</td>\n",
       "      <td>The Matrix</td>\n",
       "      <td>1999-03-30</td>\n",
       "      <td>33.366332</td>\n",
       "      <td>63000000</td>\n",
       "      <td>4.635174e+08</td>\n",
       "      <td>7.9</td>\n",
       "      <td>9079.0</td>\n",
       "      <td>2.96</td>\n",
       "      <td>622</td>\n",
       "    </tr>\n",
       "    <tr>\n",
       "      <th>3146</th>\n",
       "      <td>1726</td>\n",
       "      <td>Iron Man</td>\n",
       "      <td>2008-04-30</td>\n",
       "      <td>22.073099</td>\n",
       "      <td>140000000</td>\n",
       "      <td>5.851742e+08</td>\n",
       "      <td>7.4</td>\n",
       "      <td>8951.0</td>\n",
       "      <td>2.96</td>\n",
       "      <td>2477</td>\n",
       "    </tr>\n",
       "    <tr>\n",
       "      <th>1339</th>\n",
       "      <td>120</td>\n",
       "      <td>The Lord of the Rings: The Fellowship of the Ring</td>\n",
       "      <td>2001-12-18</td>\n",
       "      <td>32.070725</td>\n",
       "      <td>93000000</td>\n",
       "      <td>8.713684e+08</td>\n",
       "      <td>8.0</td>\n",
       "      <td>8892.0</td>\n",
       "      <td>2.88</td>\n",
       "      <td>166</td>\n",
       "    </tr>\n",
       "    <tr>\n",
       "      <th>80</th>\n",
       "      <td>680</td>\n",
       "      <td>Pulp Fiction</td>\n",
       "      <td>1994-09-10</td>\n",
       "      <td>140.950236</td>\n",
       "      <td>8000000</td>\n",
       "      <td>2.139288e+08</td>\n",
       "      <td>8.3</td>\n",
       "      <td>8670.0</td>\n",
       "      <td>3.55</td>\n",
       "      <td>1246</td>\n",
       "    </tr>\n",
       "    <tr>\n",
       "      <th>88</th>\n",
       "      <td>278</td>\n",
       "      <td>The Shawshank Redemption</td>\n",
       "      <td>1994-09-23</td>\n",
       "      <td>51.645403</td>\n",
       "      <td>25000000</td>\n",
       "      <td>2.834147e+07</td>\n",
       "      <td>8.5</td>\n",
       "      <td>8358.0</td>\n",
       "      <td>3.02</td>\n",
       "      <td>1178</td>\n",
       "    </tr>\n",
       "  </tbody>\n",
       "</table>\n",
       "</div>"
      ],
      "text/plain": [
       "      movie_id                                              title  \\\n",
       "3604     27205                                          Inception   \n",
       "3123       155                                    The Dark Knight   \n",
       "4830    157336                                       Interstellar   \n",
       "4958    118340                            Guardians of the Galaxy   \n",
       "839        550                                         Fight Club   \n",
       "729        603                                         The Matrix   \n",
       "3146      1726                                           Iron Man   \n",
       "1339       120  The Lord of the Rings: The Fellowship of the Ring   \n",
       "80         680                                       Pulp Fiction   \n",
       "88         278                           The Shawshank Redemption   \n",
       "\n",
       "     release_date  popularity     budget       revenue  vote_average  \\\n",
       "3604   2010-07-14   29.108149  160000000  8.255328e+08           8.1   \n",
       "3123   2008-07-16  123.167259  185000000  1.004558e+09           8.3   \n",
       "4830   2014-11-05   32.213481  165000000  6.751200e+08           8.1   \n",
       "4958   2014-07-30   53.291601  170000000  7.733286e+08           7.9   \n",
       "839    1999-10-15   63.869599   63000000  1.008538e+08           8.3   \n",
       "729    1999-03-30   33.366332   63000000  4.635174e+08           7.9   \n",
       "3146   2008-04-30   22.073099  140000000  5.851742e+08           7.4   \n",
       "1339   2001-12-18   32.070725   93000000  8.713684e+08           8.0   \n",
       "80     1994-09-10  140.950236    8000000  2.139288e+08           8.3   \n",
       "88     1994-09-23   51.645403   25000000  2.834147e+07           8.5   \n",
       "\n",
       "      vote_count  rating_avg  rating_count  \n",
       "3604     14075.0        3.70             5  \n",
       "3123     12269.0        3.40          1319  \n",
       "4830     11187.0        2.50             4  \n",
       "4958     10014.0        4.00             1  \n",
       "839       9678.0        3.08          3477  \n",
       "729       9079.0        2.96           622  \n",
       "3146      8951.0        2.96          2477  \n",
       "1339      8892.0        2.88           166  \n",
       "80        8670.0        3.55          1246  \n",
       "88        8358.0        3.02          1178  "
      ]
     },
     "execution_count": 23,
     "metadata": {},
     "output_type": "execute_result"
    }
   ],
   "source": [
    "movie_df.sort_values(by= 'vote_count', ascending= False).head(10)"
   ]
  },
  {
   "cell_type": "markdown",
   "metadata": {},
   "source": [
    "We can see that there are many popular movies in this list, let's check if our users agree"
   ]
  },
  {
   "cell_type": "code",
   "execution_count": 24,
   "metadata": {},
   "outputs": [
    {
     "data": {
      "text/html": [
       "<div>\n",
       "<style scoped>\n",
       "    .dataframe tbody tr th:only-of-type {\n",
       "        vertical-align: middle;\n",
       "    }\n",
       "\n",
       "    .dataframe tbody tr th {\n",
       "        vertical-align: top;\n",
       "    }\n",
       "\n",
       "    .dataframe thead th {\n",
       "        text-align: right;\n",
       "    }\n",
       "</style>\n",
       "<table border=\"1\" class=\"dataframe\">\n",
       "  <thead>\n",
       "    <tr style=\"text-align: right;\">\n",
       "      <th></th>\n",
       "      <th>movie_id</th>\n",
       "      <th>title</th>\n",
       "      <th>release_date</th>\n",
       "      <th>popularity</th>\n",
       "      <th>budget</th>\n",
       "      <th>revenue</th>\n",
       "      <th>vote_average</th>\n",
       "      <th>vote_count</th>\n",
       "      <th>rating_avg</th>\n",
       "      <th>rating_count</th>\n",
       "    </tr>\n",
       "  </thead>\n",
       "  <tbody>\n",
       "    <tr>\n",
       "      <th>1145</th>\n",
       "      <td>318</td>\n",
       "      <td>The Million Dollar Hotel</td>\n",
       "      <td>2000-02-09</td>\n",
       "      <td>4.938231</td>\n",
       "      <td>8000000</td>\n",
       "      <td>0.0</td>\n",
       "      <td>5.9</td>\n",
       "      <td>76.0</td>\n",
       "      <td>4.43</td>\n",
       "      <td>91082</td>\n",
       "    </tr>\n",
       "    <tr>\n",
       "      <th>1661</th>\n",
       "      <td>296</td>\n",
       "      <td>Terminator 3: Rise of the Machines</td>\n",
       "      <td>2003-07-02</td>\n",
       "      <td>20.818907</td>\n",
       "      <td>200000000</td>\n",
       "      <td>435000000.0</td>\n",
       "      <td>5.9</td>\n",
       "      <td>2177.0</td>\n",
       "      <td>4.17</td>\n",
       "      <td>87901</td>\n",
       "    </tr>\n",
       "    <tr>\n",
       "      <th>974</th>\n",
       "      <td>593</td>\n",
       "      <td>Солярис</td>\n",
       "      <td>1972-03-20</td>\n",
       "      <td>11.059785</td>\n",
       "      <td>0</td>\n",
       "      <td>0.0</td>\n",
       "      <td>7.7</td>\n",
       "      <td>364.0</td>\n",
       "      <td>4.15</td>\n",
       "      <td>84078</td>\n",
       "    </tr>\n",
       "    <tr>\n",
       "      <th>256</th>\n",
       "      <td>260</td>\n",
       "      <td>The 39 Steps</td>\n",
       "      <td>1935-06-01</td>\n",
       "      <td>5.865697</td>\n",
       "      <td>0</td>\n",
       "      <td>0.0</td>\n",
       "      <td>7.4</td>\n",
       "      <td>217.0</td>\n",
       "      <td>4.13</td>\n",
       "      <td>77045</td>\n",
       "    </tr>\n",
       "    <tr>\n",
       "      <th>1374</th>\n",
       "      <td>480</td>\n",
       "      <td>Monsoon Wedding</td>\n",
       "      <td>2001-08-30</td>\n",
       "      <td>10.625504</td>\n",
       "      <td>0</td>\n",
       "      <td>0.0</td>\n",
       "      <td>6.8</td>\n",
       "      <td>59.0</td>\n",
       "      <td>3.66</td>\n",
       "      <td>74355</td>\n",
       "    </tr>\n",
       "    <tr>\n",
       "      <th>76</th>\n",
       "      <td>527</td>\n",
       "      <td>Once Were Warriors</td>\n",
       "      <td>1994-09-02</td>\n",
       "      <td>4.025276</td>\n",
       "      <td>0</td>\n",
       "      <td>2201126.0</td>\n",
       "      <td>7.6</td>\n",
       "      <td>106.0</td>\n",
       "      <td>4.27</td>\n",
       "      <td>67662</td>\n",
       "    </tr>\n",
       "    <tr>\n",
       "      <th>82</th>\n",
       "      <td>110</td>\n",
       "      <td>Trois couleurs : Rouge</td>\n",
       "      <td>1994-05-27</td>\n",
       "      <td>7.832755</td>\n",
       "      <td>0</td>\n",
       "      <td>0.0</td>\n",
       "      <td>7.8</td>\n",
       "      <td>246.0</td>\n",
       "      <td>4.02</td>\n",
       "      <td>66512</td>\n",
       "    </tr>\n",
       "    <tr>\n",
       "      <th>2941</th>\n",
       "      <td>2959</td>\n",
       "      <td>License to Wed</td>\n",
       "      <td>2007-07-04</td>\n",
       "      <td>7.102076</td>\n",
       "      <td>35000000</td>\n",
       "      <td>69307224.0</td>\n",
       "      <td>5.3</td>\n",
       "      <td>258.0</td>\n",
       "      <td>4.23</td>\n",
       "      <td>60024</td>\n",
       "    </tr>\n",
       "    <tr>\n",
       "      <th>1358</th>\n",
       "      <td>150</td>\n",
       "      <td>48 Hrs.</td>\n",
       "      <td>1982-12-07</td>\n",
       "      <td>15.297121</td>\n",
       "      <td>12000000</td>\n",
       "      <td>78868508.0</td>\n",
       "      <td>6.5</td>\n",
       "      <td>364.0</td>\n",
       "      <td>3.88</td>\n",
       "      <td>57416</td>\n",
       "    </tr>\n",
       "    <tr>\n",
       "      <th>1773</th>\n",
       "      <td>780</td>\n",
       "      <td>La passion de Jeanne d'Arc</td>\n",
       "      <td>1928-04-21</td>\n",
       "      <td>8.903953</td>\n",
       "      <td>0</td>\n",
       "      <td>0.0</td>\n",
       "      <td>8.2</td>\n",
       "      <td>159.0</td>\n",
       "      <td>3.40</td>\n",
       "      <td>57232</td>\n",
       "    </tr>\n",
       "  </tbody>\n",
       "</table>\n",
       "</div>"
      ],
      "text/plain": [
       "      movie_id                               title release_date  popularity  \\\n",
       "1145       318            The Million Dollar Hotel   2000-02-09    4.938231   \n",
       "1661       296  Terminator 3: Rise of the Machines   2003-07-02   20.818907   \n",
       "974        593                             Солярис   1972-03-20   11.059785   \n",
       "256        260                        The 39 Steps   1935-06-01    5.865697   \n",
       "1374       480                     Monsoon Wedding   2001-08-30   10.625504   \n",
       "76         527                  Once Were Warriors   1994-09-02    4.025276   \n",
       "82         110              Trois couleurs : Rouge   1994-05-27    7.832755   \n",
       "2941      2959                      License to Wed   2007-07-04    7.102076   \n",
       "1358       150                             48 Hrs.   1982-12-07   15.297121   \n",
       "1773       780          La passion de Jeanne d'Arc   1928-04-21    8.903953   \n",
       "\n",
       "         budget      revenue  vote_average  vote_count  rating_avg  \\\n",
       "1145    8000000          0.0           5.9        76.0        4.43   \n",
       "1661  200000000  435000000.0           5.9      2177.0        4.17   \n",
       "974           0          0.0           7.7       364.0        4.15   \n",
       "256           0          0.0           7.4       217.0        4.13   \n",
       "1374          0          0.0           6.8        59.0        3.66   \n",
       "76            0    2201126.0           7.6       106.0        4.27   \n",
       "82            0          0.0           7.8       246.0        4.02   \n",
       "2941   35000000   69307224.0           5.3       258.0        4.23   \n",
       "1358   12000000   78868508.0           6.5       364.0        3.88   \n",
       "1773          0          0.0           8.2       159.0        3.40   \n",
       "\n",
       "      rating_count  \n",
       "1145         91082  \n",
       "1661         87901  \n",
       "974          84078  \n",
       "256          77045  \n",
       "1374         74355  \n",
       "76           67662  \n",
       "82           66512  \n",
       "2941         60024  \n",
       "1358         57416  \n",
       "1773         57232  "
      ]
     },
     "execution_count": 24,
     "metadata": {},
     "output_type": "execute_result"
    }
   ],
   "source": [
    "movie_df.sort_values(by= 'rating_count', ascending= False).head(10)"
   ]
  },
  {
   "cell_type": "markdown",
   "metadata": {},
   "source": [
    "We cannot see much of any famous movies here! Looks like the data is not the genuine stuff that generated the original API statistics, the data provided in this dataset is not leaning towards the mainstream audience  \n",
    "It is fortunate that ALS works well with sparse data distributions, now the challenge introduces itself to recommend movies for a user with one rating or with one search or fewer  \n",
    "We can use the clean data we have to generate recommendations based on movies similarities between movies"
   ]
  },
  {
   "cell_type": "markdown",
   "metadata": {},
   "source": [
    "After elaborate search, my proposed method is to use the movie's metadata to detect the similarities between movies "
   ]
  },
  {
   "cell_type": "code",
   "execution_count": 28,
   "metadata": {},
   "outputs": [
    {
     "data": {
      "text/html": [
       "<div>\n",
       "<style scoped>\n",
       "    .dataframe tbody tr th:only-of-type {\n",
       "        vertical-align: middle;\n",
       "    }\n",
       "\n",
       "    .dataframe tbody tr th {\n",
       "        vertical-align: top;\n",
       "    }\n",
       "\n",
       "    .dataframe thead th {\n",
       "        text-align: right;\n",
       "    }\n",
       "</style>\n",
       "<table border=\"1\" class=\"dataframe\">\n",
       "  <thead>\n",
       "    <tr style=\"text-align: right;\">\n",
       "      <th></th>\n",
       "      <th>movie_id</th>\n",
       "      <th>name</th>\n",
       "    </tr>\n",
       "  </thead>\n",
       "  <tbody>\n",
       "    <tr>\n",
       "      <th>0</th>\n",
       "      <td>862</td>\n",
       "      <td>John Lasseter</td>\n",
       "    </tr>\n",
       "    <tr>\n",
       "      <th>1</th>\n",
       "      <td>8844</td>\n",
       "      <td>Joe Johnston</td>\n",
       "    </tr>\n",
       "    <tr>\n",
       "      <th>2</th>\n",
       "      <td>949</td>\n",
       "      <td>Michael Mann</td>\n",
       "    </tr>\n",
       "    <tr>\n",
       "      <th>3</th>\n",
       "      <td>710</td>\n",
       "      <td>Martin Campbell</td>\n",
       "    </tr>\n",
       "    <tr>\n",
       "      <th>4</th>\n",
       "      <td>1408</td>\n",
       "      <td>Renny Harlin</td>\n",
       "    </tr>\n",
       "  </tbody>\n",
       "</table>\n",
       "</div>"
      ],
      "text/plain": [
       "   movie_id             name\n",
       "0       862    John Lasseter\n",
       "1      8844     Joe Johnston\n",
       "2       949     Michael Mann\n",
       "3       710  Martin Campbell\n",
       "4      1408     Renny Harlin"
      ]
     },
     "execution_count": 28,
     "metadata": {},
     "output_type": "execute_result"
    }
   ],
   "source": [
    "directors = pd.read_csv(r'./dataclean/directors.csv')\n",
    "directors.head()"
   ]
  },
  {
   "cell_type": "markdown",
   "metadata": {},
   "source": [
    "As established earlier some movies have multiple directors we need that grouped together"
   ]
  },
  {
   "cell_type": "code",
   "execution_count": 57,
   "metadata": {},
   "outputs": [
    {
     "data": {
      "text/html": [
       "<div>\n",
       "<style scoped>\n",
       "    .dataframe tbody tr th:only-of-type {\n",
       "        vertical-align: middle;\n",
       "    }\n",
       "\n",
       "    .dataframe tbody tr th {\n",
       "        vertical-align: top;\n",
       "    }\n",
       "\n",
       "    .dataframe thead th {\n",
       "        text-align: right;\n",
       "    }\n",
       "</style>\n",
       "<table border=\"1\" class=\"dataframe\">\n",
       "  <thead>\n",
       "    <tr style=\"text-align: right;\">\n",
       "      <th></th>\n",
       "      <th>movie_id</th>\n",
       "      <th>directors</th>\n",
       "    </tr>\n",
       "  </thead>\n",
       "  <tbody>\n",
       "    <tr>\n",
       "      <th>0</th>\n",
       "      <td>2</td>\n",
       "      <td>[Aki Kaurismäki]</td>\n",
       "    </tr>\n",
       "    <tr>\n",
       "      <th>1</th>\n",
       "      <td>3</td>\n",
       "      <td>[Aki Kaurismäki]</td>\n",
       "    </tr>\n",
       "    <tr>\n",
       "      <th>2</th>\n",
       "      <td>5</td>\n",
       "      <td>[Allison Anders, Alexandre Rockwell, Robert Ro...</td>\n",
       "    </tr>\n",
       "    <tr>\n",
       "      <th>3</th>\n",
       "      <td>6</td>\n",
       "      <td>[Stephen Hopkins]</td>\n",
       "    </tr>\n",
       "    <tr>\n",
       "      <th>4</th>\n",
       "      <td>11</td>\n",
       "      <td>[George Lucas]</td>\n",
       "    </tr>\n",
       "  </tbody>\n",
       "</table>\n",
       "</div>"
      ],
      "text/plain": [
       "   movie_id                                          directors\n",
       "0         2                                   [Aki Kaurismäki]\n",
       "1         3                                   [Aki Kaurismäki]\n",
       "2         5  [Allison Anders, Alexandre Rockwell, Robert Ro...\n",
       "3         6                                  [Stephen Hopkins]\n",
       "4        11                                     [George Lucas]"
      ]
     },
     "execution_count": 57,
     "metadata": {},
     "output_type": "execute_result"
    }
   ],
   "source": [
    "directors_gp = directors.groupby('movie_id').name.apply(list).reset_index(name='directors')\n",
    "directors_gp.head()"
   ]
  },
  {
   "cell_type": "code",
   "execution_count": 58,
   "metadata": {},
   "outputs": [
    {
     "data": {
      "text/plain": [
       "(7419, 2)"
      ]
     },
     "execution_count": 58,
     "metadata": {},
     "output_type": "execute_result"
    }
   ],
   "source": [
    "directors_gp.shape"
   ]
  },
  {
   "cell_type": "code",
   "execution_count": 33,
   "metadata": {},
   "outputs": [
    {
     "data": {
      "text/html": [
       "<div>\n",
       "<style scoped>\n",
       "    .dataframe tbody tr th:only-of-type {\n",
       "        vertical-align: middle;\n",
       "    }\n",
       "\n",
       "    .dataframe tbody tr th {\n",
       "        vertical-align: top;\n",
       "    }\n",
       "\n",
       "    .dataframe thead th {\n",
       "        text-align: right;\n",
       "    }\n",
       "</style>\n",
       "<table border=\"1\" class=\"dataframe\">\n",
       "  <thead>\n",
       "    <tr style=\"text-align: right;\">\n",
       "      <th></th>\n",
       "      <th>movie_id</th>\n",
       "      <th>actor_id</th>\n",
       "      <th>name</th>\n",
       "      <th>order</th>\n",
       "      <th>gender</th>\n",
       "    </tr>\n",
       "  </thead>\n",
       "  <tbody>\n",
       "    <tr>\n",
       "      <th>0</th>\n",
       "      <td>862</td>\n",
       "      <td>31</td>\n",
       "      <td>Tom Hanks</td>\n",
       "      <td>0</td>\n",
       "      <td>2</td>\n",
       "    </tr>\n",
       "    <tr>\n",
       "      <th>1</th>\n",
       "      <td>862</td>\n",
       "      <td>12898</td>\n",
       "      <td>Tim Allen</td>\n",
       "      <td>1</td>\n",
       "      <td>2</td>\n",
       "    </tr>\n",
       "    <tr>\n",
       "      <th>2</th>\n",
       "      <td>862</td>\n",
       "      <td>7167</td>\n",
       "      <td>Don Rickles</td>\n",
       "      <td>2</td>\n",
       "      <td>2</td>\n",
       "    </tr>\n",
       "    <tr>\n",
       "      <th>3</th>\n",
       "      <td>862</td>\n",
       "      <td>12899</td>\n",
       "      <td>Jim Varney</td>\n",
       "      <td>3</td>\n",
       "      <td>2</td>\n",
       "    </tr>\n",
       "    <tr>\n",
       "      <th>4</th>\n",
       "      <td>862</td>\n",
       "      <td>12900</td>\n",
       "      <td>Wallace Shawn</td>\n",
       "      <td>4</td>\n",
       "      <td>2</td>\n",
       "    </tr>\n",
       "  </tbody>\n",
       "</table>\n",
       "</div>"
      ],
      "text/plain": [
       "   movie_id  actor_id           name  order  gender\n",
       "0       862        31      Tom Hanks      0       2\n",
       "1       862     12898      Tim Allen      1       2\n",
       "2       862      7167    Don Rickles      2       2\n",
       "3       862     12899     Jim Varney      3       2\n",
       "4       862     12900  Wallace Shawn      4       2"
      ]
     },
     "execution_count": 33,
     "metadata": {},
     "output_type": "execute_result"
    }
   ],
   "source": [
    "cast = pd.read_csv(r'./dataclean/cast.csv')\n",
    "cast.head()"
   ]
  },
  {
   "cell_type": "markdown",
   "metadata": {},
   "source": [
    "Let's explore the order factor to test its significance to the actor's participation in a movie"
   ]
  },
  {
   "cell_type": "code",
   "execution_count": 59,
   "metadata": {},
   "outputs": [
    {
     "data": {
      "text/plain": [
       "count    64889.000000\n",
       "mean         4.493119\n",
       "std          3.066218\n",
       "min          0.000000\n",
       "25%          2.000000\n",
       "50%          4.000000\n",
       "75%          7.000000\n",
       "max         10.000000\n",
       "Name: order, dtype: float64"
      ]
     },
     "execution_count": 59,
     "metadata": {},
     "output_type": "execute_result"
    }
   ],
   "source": [
    "# stats over the whole dataframe\n",
    "cast.order.describe()"
   ]
  },
  {
   "cell_type": "markdown",
   "metadata": {},
   "source": [
    "50% of the values are below 8, a staggering movie has over 300 credits, let's look further into this "
   ]
  },
  {
   "cell_type": "code",
   "execution_count": 43,
   "metadata": {},
   "outputs": [
    {
     "data": {
      "text/plain": [
       "count    7238.000000\n",
       "mean       14.630699\n",
       "std        14.718959\n",
       "min         0.000000\n",
       "25%         7.000000\n",
       "50%        11.000000\n",
       "75%        17.000000\n",
       "max       313.000000\n",
       "Name: max, dtype: float64"
      ]
     },
     "execution_count": 43,
     "metadata": {},
     "output_type": "execute_result"
    }
   ],
   "source": [
    "# getting stats with respect to the number of cast members creditted per movie \n",
    "cast.groupby('movie_id').order.describe()['max'].describe()"
   ]
  },
  {
   "cell_type": "markdown",
   "metadata": {},
   "source": [
    "As seen in stats, some movies have up to 300 actors credited, yet 50% of the movies have less than 11 actors creditted, now I want to focus on the money makers the drawers to watching the movie, so I am going to cut short to 11 actors, which is decent given that the oscars credits supporting roles and leading roles in a movie limited to 4 awards, which has not seen more than 2 actors nominated per each."
   ]
  },
  {
   "cell_type": "code",
   "execution_count": 44,
   "metadata": {},
   "outputs": [
    {
     "data": {
      "text/plain": [
       "count    64889.000000\n",
       "mean         4.493119\n",
       "std          3.066218\n",
       "min          0.000000\n",
       "25%          2.000000\n",
       "50%          4.000000\n",
       "75%          7.000000\n",
       "max         10.000000\n",
       "Name: order, dtype: float64"
      ]
     },
     "execution_count": 44,
     "metadata": {},
     "output_type": "execute_result"
    }
   ],
   "source": [
    "cast = cast[cast.order < 11]\n",
    "cast.order.describe()"
   ]
  },
  {
   "cell_type": "code",
   "execution_count": null,
   "metadata": {},
   "outputs": [],
   "source": [
    "cast.groupby('movie_id').name.apply(list).reset_index(name='new')"
   ]
  },
  {
   "cell_type": "code",
   "execution_count": 60,
   "metadata": {},
   "outputs": [
    {
     "data": {
      "text/html": [
       "<div>\n",
       "<style scoped>\n",
       "    .dataframe tbody tr th:only-of-type {\n",
       "        vertical-align: middle;\n",
       "    }\n",
       "\n",
       "    .dataframe tbody tr th {\n",
       "        vertical-align: top;\n",
       "    }\n",
       "\n",
       "    .dataframe thead th {\n",
       "        text-align: right;\n",
       "    }\n",
       "</style>\n",
       "<table border=\"1\" class=\"dataframe\">\n",
       "  <thead>\n",
       "    <tr style=\"text-align: right;\">\n",
       "      <th></th>\n",
       "      <th>movie_id</th>\n",
       "      <th>cast</th>\n",
       "    </tr>\n",
       "  </thead>\n",
       "  <tbody>\n",
       "    <tr>\n",
       "      <th>0</th>\n",
       "      <td>2</td>\n",
       "      <td>[Turo Pajala, Susanna Haavisto, Matti Pellonpä...</td>\n",
       "    </tr>\n",
       "    <tr>\n",
       "      <th>1</th>\n",
       "      <td>3</td>\n",
       "      <td>[Matti Pellonpää, Kati Outinen, Sakari Kuosman...</td>\n",
       "    </tr>\n",
       "    <tr>\n",
       "      <th>2</th>\n",
       "      <td>5</td>\n",
       "      <td>[Tim Roth, Antonio Banderas, Jennifer Beals, M...</td>\n",
       "    </tr>\n",
       "    <tr>\n",
       "      <th>3</th>\n",
       "      <td>6</td>\n",
       "      <td>[Emilio Estevez, Cuba Gooding Jr., Denis Leary...</td>\n",
       "    </tr>\n",
       "    <tr>\n",
       "      <th>4</th>\n",
       "      <td>11</td>\n",
       "      <td>[Mark Hamill, Harrison Ford, Carrie Fisher, Pe...</td>\n",
       "    </tr>\n",
       "  </tbody>\n",
       "</table>\n",
       "</div>"
      ],
      "text/plain": [
       "   movie_id                                               cast\n",
       "0         2  [Turo Pajala, Susanna Haavisto, Matti Pellonpä...\n",
       "1         3  [Matti Pellonpää, Kati Outinen, Sakari Kuosman...\n",
       "2         5  [Tim Roth, Antonio Banderas, Jennifer Beals, M...\n",
       "3         6  [Emilio Estevez, Cuba Gooding Jr., Denis Leary...\n",
       "4        11  [Mark Hamill, Harrison Ford, Carrie Fisher, Pe..."
      ]
     },
     "execution_count": 60,
     "metadata": {},
     "output_type": "execute_result"
    }
   ],
   "source": [
    "cast_gp = cast.groupby('movie_id').name.apply(list).reset_index(name='cast')\n",
    "cast_gp.head()"
   ]
  },
  {
   "cell_type": "code",
   "execution_count": 61,
   "metadata": {},
   "outputs": [
    {
     "data": {
      "text/plain": [
       "(7235, 2)"
      ]
     },
     "execution_count": 61,
     "metadata": {},
     "output_type": "execute_result"
    }
   ],
   "source": [
    "cast_gp.shape"
   ]
  },
  {
   "cell_type": "code",
   "execution_count": 47,
   "metadata": {},
   "outputs": [
    {
     "data": {
      "text/html": [
       "<div>\n",
       "<style scoped>\n",
       "    .dataframe tbody tr th:only-of-type {\n",
       "        vertical-align: middle;\n",
       "    }\n",
       "\n",
       "    .dataframe tbody tr th {\n",
       "        vertical-align: top;\n",
       "    }\n",
       "\n",
       "    .dataframe thead th {\n",
       "        text-align: right;\n",
       "    }\n",
       "</style>\n",
       "<table border=\"1\" class=\"dataframe\">\n",
       "  <thead>\n",
       "    <tr style=\"text-align: right;\">\n",
       "      <th></th>\n",
       "      <th>movie_id</th>\n",
       "      <th>keyword_id</th>\n",
       "      <th>keyword</th>\n",
       "    </tr>\n",
       "  </thead>\n",
       "  <tbody>\n",
       "    <tr>\n",
       "      <th>0</th>\n",
       "      <td>862</td>\n",
       "      <td>931</td>\n",
       "      <td>jealousy</td>\n",
       "    </tr>\n",
       "    <tr>\n",
       "      <th>1</th>\n",
       "      <td>862</td>\n",
       "      <td>4290</td>\n",
       "      <td>toy</td>\n",
       "    </tr>\n",
       "    <tr>\n",
       "      <th>2</th>\n",
       "      <td>862</td>\n",
       "      <td>5202</td>\n",
       "      <td>boy</td>\n",
       "    </tr>\n",
       "    <tr>\n",
       "      <th>3</th>\n",
       "      <td>862</td>\n",
       "      <td>6054</td>\n",
       "      <td>friendship</td>\n",
       "    </tr>\n",
       "    <tr>\n",
       "      <th>4</th>\n",
       "      <td>862</td>\n",
       "      <td>9713</td>\n",
       "      <td>friends</td>\n",
       "    </tr>\n",
       "  </tbody>\n",
       "</table>\n",
       "</div>"
      ],
      "text/plain": [
       "   movie_id  keyword_id     keyword\n",
       "0       862         931    jealousy\n",
       "1       862        4290         toy\n",
       "2       862        5202         boy\n",
       "3       862        6054  friendship\n",
       "4       862        9713     friends"
      ]
     },
     "execution_count": 47,
     "metadata": {},
     "output_type": "execute_result"
    }
   ],
   "source": [
    "keywords = pd.read_csv(r'./dataclean/keywords.csv')\n",
    "keywords.head()"
   ]
  },
  {
   "cell_type": "code",
   "execution_count": 62,
   "metadata": {},
   "outputs": [
    {
     "data": {
      "text/html": [
       "<div>\n",
       "<style scoped>\n",
       "    .dataframe tbody tr th:only-of-type {\n",
       "        vertical-align: middle;\n",
       "    }\n",
       "\n",
       "    .dataframe tbody tr th {\n",
       "        vertical-align: top;\n",
       "    }\n",
       "\n",
       "    .dataframe thead th {\n",
       "        text-align: right;\n",
       "    }\n",
       "</style>\n",
       "<table border=\"1\" class=\"dataframe\">\n",
       "  <thead>\n",
       "    <tr style=\"text-align: right;\">\n",
       "      <th></th>\n",
       "      <th>movie_id</th>\n",
       "      <th>keywords</th>\n",
       "    </tr>\n",
       "  </thead>\n",
       "  <tbody>\n",
       "    <tr>\n",
       "      <th>0</th>\n",
       "      <td>2</td>\n",
       "      <td>[underdog, prison, factory worker, prisoner, h...</td>\n",
       "    </tr>\n",
       "    <tr>\n",
       "      <th>1</th>\n",
       "      <td>3</td>\n",
       "      <td>[salesclerk, helsinki, garbage, independent film]</td>\n",
       "    </tr>\n",
       "    <tr>\n",
       "      <th>2</th>\n",
       "      <td>5</td>\n",
       "      <td>[hotel, new year's eve, witch, bet, hotel room...</td>\n",
       "    </tr>\n",
       "    <tr>\n",
       "      <th>3</th>\n",
       "      <td>6</td>\n",
       "      <td>[chicago, drug dealer, boxing match, escape, o...</td>\n",
       "    </tr>\n",
       "    <tr>\n",
       "      <th>4</th>\n",
       "      <td>11</td>\n",
       "      <td>[android, galaxy, hermit, death star, lightsab...</td>\n",
       "    </tr>\n",
       "  </tbody>\n",
       "</table>\n",
       "</div>"
      ],
      "text/plain": [
       "   movie_id                                           keywords\n",
       "0         2  [underdog, prison, factory worker, prisoner, h...\n",
       "1         3  [salesclerk, helsinki, garbage, independent film]\n",
       "2         5  [hotel, new year's eve, witch, bet, hotel room...\n",
       "3         6  [chicago, drug dealer, boxing match, escape, o...\n",
       "4        11  [android, galaxy, hermit, death star, lightsab..."
      ]
     },
     "execution_count": 62,
     "metadata": {},
     "output_type": "execute_result"
    }
   ],
   "source": [
    "keywords_gp = keywords.groupby('movie_id').keyword.apply(list).reset_index(name='keywords')\n",
    "keywords_gp.head()"
   ]
  },
  {
   "cell_type": "code",
   "execution_count": 63,
   "metadata": {},
   "outputs": [
    {
     "data": {
      "text/plain": [
       "(5683, 2)"
      ]
     },
     "execution_count": 63,
     "metadata": {},
     "output_type": "execute_result"
    }
   ],
   "source": [
    "keywords_gp.shape"
   ]
  },
  {
   "cell_type": "code",
   "execution_count": 64,
   "metadata": {},
   "outputs": [
    {
     "data": {
      "text/html": [
       "<div>\n",
       "<style scoped>\n",
       "    .dataframe tbody tr th:only-of-type {\n",
       "        vertical-align: middle;\n",
       "    }\n",
       "\n",
       "    .dataframe tbody tr th {\n",
       "        vertical-align: top;\n",
       "    }\n",
       "\n",
       "    .dataframe thead th {\n",
       "        text-align: right;\n",
       "    }\n",
       "</style>\n",
       "<table border=\"1\" class=\"dataframe\">\n",
       "  <thead>\n",
       "    <tr style=\"text-align: right;\">\n",
       "      <th></th>\n",
       "      <th>movie_id</th>\n",
       "      <th>genre_id</th>\n",
       "      <th>genre</th>\n",
       "    </tr>\n",
       "  </thead>\n",
       "  <tbody>\n",
       "    <tr>\n",
       "      <th>0</th>\n",
       "      <td>862</td>\n",
       "      <td>16</td>\n",
       "      <td>Animation</td>\n",
       "    </tr>\n",
       "    <tr>\n",
       "      <th>1</th>\n",
       "      <td>862</td>\n",
       "      <td>35</td>\n",
       "      <td>Comedy</td>\n",
       "    </tr>\n",
       "    <tr>\n",
       "      <th>2</th>\n",
       "      <td>862</td>\n",
       "      <td>10751</td>\n",
       "      <td>Family</td>\n",
       "    </tr>\n",
       "    <tr>\n",
       "      <th>3</th>\n",
       "      <td>8844</td>\n",
       "      <td>12</td>\n",
       "      <td>Adventure</td>\n",
       "    </tr>\n",
       "    <tr>\n",
       "      <th>4</th>\n",
       "      <td>8844</td>\n",
       "      <td>14</td>\n",
       "      <td>Fantasy</td>\n",
       "    </tr>\n",
       "  </tbody>\n",
       "</table>\n",
       "</div>"
      ],
      "text/plain": [
       "   movie_id  genre_id      genre\n",
       "0       862        16  Animation\n",
       "1       862        35     Comedy\n",
       "2       862     10751     Family\n",
       "3      8844        12  Adventure\n",
       "4      8844        14    Fantasy"
      ]
     },
     "execution_count": 64,
     "metadata": {},
     "output_type": "execute_result"
    }
   ],
   "source": [
    "genres = pd.read_csv(r'./dataclean/genres.csv')\n",
    "genres.head()"
   ]
  },
  {
   "cell_type": "code",
   "execution_count": 65,
   "metadata": {},
   "outputs": [
    {
     "data": {
      "text/html": [
       "<div>\n",
       "<style scoped>\n",
       "    .dataframe tbody tr th:only-of-type {\n",
       "        vertical-align: middle;\n",
       "    }\n",
       "\n",
       "    .dataframe tbody tr th {\n",
       "        vertical-align: top;\n",
       "    }\n",
       "\n",
       "    .dataframe thead th {\n",
       "        text-align: right;\n",
       "    }\n",
       "</style>\n",
       "<table border=\"1\" class=\"dataframe\">\n",
       "  <thead>\n",
       "    <tr style=\"text-align: right;\">\n",
       "      <th></th>\n",
       "      <th>movie_id</th>\n",
       "      <th>genres</th>\n",
       "    </tr>\n",
       "  </thead>\n",
       "  <tbody>\n",
       "    <tr>\n",
       "      <th>0</th>\n",
       "      <td>2</td>\n",
       "      <td>[Drama, Crime]</td>\n",
       "    </tr>\n",
       "    <tr>\n",
       "      <th>1</th>\n",
       "      <td>3</td>\n",
       "      <td>[Drama, Comedy]</td>\n",
       "    </tr>\n",
       "    <tr>\n",
       "      <th>2</th>\n",
       "      <td>5</td>\n",
       "      <td>[Crime, Comedy]</td>\n",
       "    </tr>\n",
       "    <tr>\n",
       "      <th>3</th>\n",
       "      <td>6</td>\n",
       "      <td>[Action, Thriller, Crime]</td>\n",
       "    </tr>\n",
       "    <tr>\n",
       "      <th>4</th>\n",
       "      <td>11</td>\n",
       "      <td>[Adventure, Action, Science Fiction]</td>\n",
       "    </tr>\n",
       "  </tbody>\n",
       "</table>\n",
       "</div>"
      ],
      "text/plain": [
       "   movie_id                                genres\n",
       "0         2                        [Drama, Crime]\n",
       "1         3                       [Drama, Comedy]\n",
       "2         5                       [Crime, Comedy]\n",
       "3         6             [Action, Thriller, Crime]\n",
       "4        11  [Adventure, Action, Science Fiction]"
      ]
     },
     "execution_count": 65,
     "metadata": {},
     "output_type": "execute_result"
    }
   ],
   "source": [
    "genres_gp = genres.groupby('movie_id').genre.apply(list).reset_index(name= 'genres')\n",
    "genres_gp.head()"
   ]
  },
  {
   "cell_type": "code",
   "execution_count": 66,
   "metadata": {},
   "outputs": [
    {
     "data": {
      "text/plain": [
       "(7135, 2)"
      ]
     },
     "execution_count": 66,
     "metadata": {},
     "output_type": "execute_result"
    }
   ],
   "source": [
    "genres_gp.shape"
   ]
  },
  {
   "cell_type": "code",
   "execution_count": 67,
   "metadata": {},
   "outputs": [
    {
     "data": {
      "text/html": [
       "<div>\n",
       "<style scoped>\n",
       "    .dataframe tbody tr th:only-of-type {\n",
       "        vertical-align: middle;\n",
       "    }\n",
       "\n",
       "    .dataframe tbody tr th {\n",
       "        vertical-align: top;\n",
       "    }\n",
       "\n",
       "    .dataframe thead th {\n",
       "        text-align: right;\n",
       "    }\n",
       "</style>\n",
       "<table border=\"1\" class=\"dataframe\">\n",
       "  <thead>\n",
       "    <tr style=\"text-align: right;\">\n",
       "      <th></th>\n",
       "      <th>movie_id</th>\n",
       "      <th>cast</th>\n",
       "      <th>directors</th>\n",
       "    </tr>\n",
       "  </thead>\n",
       "  <tbody>\n",
       "    <tr>\n",
       "      <th>0</th>\n",
       "      <td>2</td>\n",
       "      <td>[Turo Pajala, Susanna Haavisto, Matti Pellonpä...</td>\n",
       "      <td>[Aki Kaurismäki]</td>\n",
       "    </tr>\n",
       "    <tr>\n",
       "      <th>1</th>\n",
       "      <td>3</td>\n",
       "      <td>[Matti Pellonpää, Kati Outinen, Sakari Kuosman...</td>\n",
       "      <td>[Aki Kaurismäki]</td>\n",
       "    </tr>\n",
       "    <tr>\n",
       "      <th>2</th>\n",
       "      <td>5</td>\n",
       "      <td>[Tim Roth, Antonio Banderas, Jennifer Beals, M...</td>\n",
       "      <td>[Allison Anders, Alexandre Rockwell, Robert Ro...</td>\n",
       "    </tr>\n",
       "    <tr>\n",
       "      <th>3</th>\n",
       "      <td>6</td>\n",
       "      <td>[Emilio Estevez, Cuba Gooding Jr., Denis Leary...</td>\n",
       "      <td>[Stephen Hopkins]</td>\n",
       "    </tr>\n",
       "    <tr>\n",
       "      <th>4</th>\n",
       "      <td>11</td>\n",
       "      <td>[Mark Hamill, Harrison Ford, Carrie Fisher, Pe...</td>\n",
       "      <td>[George Lucas]</td>\n",
       "    </tr>\n",
       "  </tbody>\n",
       "</table>\n",
       "</div>"
      ],
      "text/plain": [
       "   movie_id                                               cast  \\\n",
       "0         2  [Turo Pajala, Susanna Haavisto, Matti Pellonpä...   \n",
       "1         3  [Matti Pellonpää, Kati Outinen, Sakari Kuosman...   \n",
       "2         5  [Tim Roth, Antonio Banderas, Jennifer Beals, M...   \n",
       "3         6  [Emilio Estevez, Cuba Gooding Jr., Denis Leary...   \n",
       "4        11  [Mark Hamill, Harrison Ford, Carrie Fisher, Pe...   \n",
       "\n",
       "                                           directors  \n",
       "0                                   [Aki Kaurismäki]  \n",
       "1                                   [Aki Kaurismäki]  \n",
       "2  [Allison Anders, Alexandre Rockwell, Robert Ro...  \n",
       "3                                  [Stephen Hopkins]  \n",
       "4                                     [George Lucas]  "
      ]
     },
     "execution_count": 67,
     "metadata": {},
     "output_type": "execute_result"
    }
   ],
   "source": [
    "movies_gp = pd.merge(cast_gp, directors_gp, on= 'movie_id', how= 'outer')\n",
    "movies_gp.head()"
   ]
  },
  {
   "cell_type": "code",
   "execution_count": 68,
   "metadata": {},
   "outputs": [
    {
     "data": {
      "text/plain": [
       "(7464, 3)"
      ]
     },
     "execution_count": 68,
     "metadata": {},
     "output_type": "execute_result"
    }
   ],
   "source": [
    "movies_gp.shape"
   ]
  },
  {
   "cell_type": "code",
   "execution_count": 69,
   "metadata": {},
   "outputs": [
    {
     "data": {
      "text/html": [
       "<div>\n",
       "<style scoped>\n",
       "    .dataframe tbody tr th:only-of-type {\n",
       "        vertical-align: middle;\n",
       "    }\n",
       "\n",
       "    .dataframe tbody tr th {\n",
       "        vertical-align: top;\n",
       "    }\n",
       "\n",
       "    .dataframe thead th {\n",
       "        text-align: right;\n",
       "    }\n",
       "</style>\n",
       "<table border=\"1\" class=\"dataframe\">\n",
       "  <thead>\n",
       "    <tr style=\"text-align: right;\">\n",
       "      <th></th>\n",
       "      <th>movie_id</th>\n",
       "      <th>keywords</th>\n",
       "      <th>genres</th>\n",
       "    </tr>\n",
       "  </thead>\n",
       "  <tbody>\n",
       "    <tr>\n",
       "      <th>0</th>\n",
       "      <td>2</td>\n",
       "      <td>[underdog, prison, factory worker, prisoner, h...</td>\n",
       "      <td>[Drama, Crime]</td>\n",
       "    </tr>\n",
       "    <tr>\n",
       "      <th>1</th>\n",
       "      <td>3</td>\n",
       "      <td>[salesclerk, helsinki, garbage, independent film]</td>\n",
       "      <td>[Drama, Comedy]</td>\n",
       "    </tr>\n",
       "    <tr>\n",
       "      <th>2</th>\n",
       "      <td>5</td>\n",
       "      <td>[hotel, new year's eve, witch, bet, hotel room...</td>\n",
       "      <td>[Crime, Comedy]</td>\n",
       "    </tr>\n",
       "    <tr>\n",
       "      <th>3</th>\n",
       "      <td>6</td>\n",
       "      <td>[chicago, drug dealer, boxing match, escape, o...</td>\n",
       "      <td>[Action, Thriller, Crime]</td>\n",
       "    </tr>\n",
       "    <tr>\n",
       "      <th>4</th>\n",
       "      <td>11</td>\n",
       "      <td>[android, galaxy, hermit, death star, lightsab...</td>\n",
       "      <td>[Adventure, Action, Science Fiction]</td>\n",
       "    </tr>\n",
       "  </tbody>\n",
       "</table>\n",
       "</div>"
      ],
      "text/plain": [
       "   movie_id                                           keywords  \\\n",
       "0         2  [underdog, prison, factory worker, prisoner, h...   \n",
       "1         3  [salesclerk, helsinki, garbage, independent film]   \n",
       "2         5  [hotel, new year's eve, witch, bet, hotel room...   \n",
       "3         6  [chicago, drug dealer, boxing match, escape, o...   \n",
       "4        11  [android, galaxy, hermit, death star, lightsab...   \n",
       "\n",
       "                                 genres  \n",
       "0                        [Drama, Crime]  \n",
       "1                       [Drama, Comedy]  \n",
       "2                       [Crime, Comedy]  \n",
       "3             [Action, Thriller, Crime]  \n",
       "4  [Adventure, Action, Science Fiction]  "
      ]
     },
     "execution_count": 69,
     "metadata": {},
     "output_type": "execute_result"
    }
   ],
   "source": [
    "temp = pd.merge(keywords_gp, genres_gp, on= 'movie_id', how= 'left')\n",
    "temp.head()"
   ]
  },
  {
   "cell_type": "code",
   "execution_count": 70,
   "metadata": {},
   "outputs": [
    {
     "data": {
      "text/html": [
       "<div>\n",
       "<style scoped>\n",
       "    .dataframe tbody tr th:only-of-type {\n",
       "        vertical-align: middle;\n",
       "    }\n",
       "\n",
       "    .dataframe tbody tr th {\n",
       "        vertical-align: top;\n",
       "    }\n",
       "\n",
       "    .dataframe thead th {\n",
       "        text-align: right;\n",
       "    }\n",
       "</style>\n",
       "<table border=\"1\" class=\"dataframe\">\n",
       "  <thead>\n",
       "    <tr style=\"text-align: right;\">\n",
       "      <th></th>\n",
       "      <th>movie_id</th>\n",
       "      <th>cast</th>\n",
       "      <th>directors</th>\n",
       "      <th>keywords</th>\n",
       "      <th>genres</th>\n",
       "    </tr>\n",
       "  </thead>\n",
       "  <tbody>\n",
       "    <tr>\n",
       "      <th>0</th>\n",
       "      <td>2</td>\n",
       "      <td>[Turo Pajala, Susanna Haavisto, Matti Pellonpä...</td>\n",
       "      <td>[Aki Kaurismäki]</td>\n",
       "      <td>[underdog, prison, factory worker, prisoner, h...</td>\n",
       "      <td>[Drama, Crime]</td>\n",
       "    </tr>\n",
       "    <tr>\n",
       "      <th>1</th>\n",
       "      <td>3</td>\n",
       "      <td>[Matti Pellonpää, Kati Outinen, Sakari Kuosman...</td>\n",
       "      <td>[Aki Kaurismäki]</td>\n",
       "      <td>[salesclerk, helsinki, garbage, independent film]</td>\n",
       "      <td>[Drama, Comedy]</td>\n",
       "    </tr>\n",
       "    <tr>\n",
       "      <th>2</th>\n",
       "      <td>5</td>\n",
       "      <td>[Tim Roth, Antonio Banderas, Jennifer Beals, M...</td>\n",
       "      <td>[Allison Anders, Alexandre Rockwell, Robert Ro...</td>\n",
       "      <td>[hotel, new year's eve, witch, bet, hotel room...</td>\n",
       "      <td>[Crime, Comedy]</td>\n",
       "    </tr>\n",
       "    <tr>\n",
       "      <th>3</th>\n",
       "      <td>6</td>\n",
       "      <td>[Emilio Estevez, Cuba Gooding Jr., Denis Leary...</td>\n",
       "      <td>[Stephen Hopkins]</td>\n",
       "      <td>[chicago, drug dealer, boxing match, escape, o...</td>\n",
       "      <td>[Action, Thriller, Crime]</td>\n",
       "    </tr>\n",
       "    <tr>\n",
       "      <th>4</th>\n",
       "      <td>11</td>\n",
       "      <td>[Mark Hamill, Harrison Ford, Carrie Fisher, Pe...</td>\n",
       "      <td>[George Lucas]</td>\n",
       "      <td>[android, galaxy, hermit, death star, lightsab...</td>\n",
       "      <td>[Adventure, Action, Science Fiction]</td>\n",
       "    </tr>\n",
       "  </tbody>\n",
       "</table>\n",
       "</div>"
      ],
      "text/plain": [
       "   movie_id                                               cast  \\\n",
       "0         2  [Turo Pajala, Susanna Haavisto, Matti Pellonpä...   \n",
       "1         3  [Matti Pellonpää, Kati Outinen, Sakari Kuosman...   \n",
       "2         5  [Tim Roth, Antonio Banderas, Jennifer Beals, M...   \n",
       "3         6  [Emilio Estevez, Cuba Gooding Jr., Denis Leary...   \n",
       "4        11  [Mark Hamill, Harrison Ford, Carrie Fisher, Pe...   \n",
       "\n",
       "                                           directors  \\\n",
       "0                                   [Aki Kaurismäki]   \n",
       "1                                   [Aki Kaurismäki]   \n",
       "2  [Allison Anders, Alexandre Rockwell, Robert Ro...   \n",
       "3                                  [Stephen Hopkins]   \n",
       "4                                     [George Lucas]   \n",
       "\n",
       "                                            keywords  \\\n",
       "0  [underdog, prison, factory worker, prisoner, h...   \n",
       "1  [salesclerk, helsinki, garbage, independent film]   \n",
       "2  [hotel, new year's eve, witch, bet, hotel room...   \n",
       "3  [chicago, drug dealer, boxing match, escape, o...   \n",
       "4  [android, galaxy, hermit, death star, lightsab...   \n",
       "\n",
       "                                 genres  \n",
       "0                        [Drama, Crime]  \n",
       "1                       [Drama, Comedy]  \n",
       "2                       [Crime, Comedy]  \n",
       "3             [Action, Thriller, Crime]  \n",
       "4  [Adventure, Action, Science Fiction]  "
      ]
     },
     "execution_count": 70,
     "metadata": {},
     "output_type": "execute_result"
    }
   ],
   "source": [
    "movies_gp = pd.merge(movies_gp, temp, on= 'movie_id', how= 'outer')\n",
    "movies_gp.head()"
   ]
  },
  {
   "cell_type": "markdown",
   "metadata": {},
   "source": [
    "## Conclusion\n",
    "1. Data manipulation with pySpark at first was based on the movies ids were close to each other each being 45k, it had to be rerun after the data being proven wrong, only the movies present in both ratings and metadata were considered\n",
    "2. "
   ]
  }
 ],
 "metadata": {
  "interpreter": {
   "hash": "d7c3c9c392ead3d066acf51e913b24cbd585bcf7a363efb7ba353d9588b883e5"
  },
  "kernelspec": {
   "display_name": "Python 3.8.8 64-bit ('base': conda)",
   "language": "python",
   "name": "python3"
  },
  "language_info": {
   "codemirror_mode": {
    "name": "ipython",
    "version": 3
   },
   "file_extension": ".py",
   "mimetype": "text/x-python",
   "name": "python",
   "nbconvert_exporter": "python",
   "pygments_lexer": "ipython3",
   "version": "3.8.8"
  },
  "orig_nbformat": 4
 },
 "nbformat": 4,
 "nbformat_minor": 2
}
