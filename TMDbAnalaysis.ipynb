{
 "cells": [
  {
   "cell_type": "markdown",
   "metadata": {},
   "source": [
    "# The Movies Database\n",
    "## Descriptive Analysis"
   ]
  },
  {
   "cell_type": "markdown",
   "metadata": {},
   "source": [
    "Required imports"
   ]
  },
  {
   "cell_type": "code",
   "execution_count": 1,
   "metadata": {},
   "outputs": [
    {
     "name": "stderr",
     "output_type": "stream",
     "text": [
      "\n",
      "Bad key \"text.kerning_factor\" on line 4 in\n",
      "C:\\Users\\20111\\anaconda3\\lib\\site-packages\\matplotlib\\mpl-data\\stylelib\\_classic_test_patch.mplstyle.\n",
      "You probably need to get an updated matplotlibrc file from\n",
      "http://github.com/matplotlib/matplotlib/blob/master/matplotlibrc.template\n",
      "or from the matplotlib source distribution\n"
     ]
    }
   ],
   "source": [
    "import numpy as np\n",
    "import pandas as pd\n",
    "import matplotlib.pyplot as plt \n",
    "import seaborn as sns\n",
    "import pyspark\n",
    "%matplotlib inline\n"
   ]
  },
  {
   "cell_type": "markdown",
   "metadata": {},
   "source": [
    "## Exploring the data\n",
    "Loading the cast file and exploring its contents "
   ]
  },
  {
   "cell_type": "code",
   "execution_count": 61,
   "metadata": {},
   "outputs": [
    {
     "data": {
      "text/html": [
       "<div>\n",
       "<style scoped>\n",
       "    .dataframe tbody tr th:only-of-type {\n",
       "        vertical-align: middle;\n",
       "    }\n",
       "\n",
       "    .dataframe tbody tr th {\n",
       "        vertical-align: top;\n",
       "    }\n",
       "\n",
       "    .dataframe thead th {\n",
       "        text-align: right;\n",
       "    }\n",
       "</style>\n",
       "<table border=\"1\" class=\"dataframe\">\n",
       "  <thead>\n",
       "    <tr style=\"text-align: right;\">\n",
       "      <th></th>\n",
       "      <th>cast</th>\n",
       "      <th>crew</th>\n",
       "      <th>id</th>\n",
       "    </tr>\n",
       "  </thead>\n",
       "  <tbody>\n",
       "    <tr>\n",
       "      <th>0</th>\n",
       "      <td>[{'cast_id': 14, 'character': 'Woody (voice)',...</td>\n",
       "      <td>[{'credit_id': '52fe4284c3a36847f8024f49', 'de...</td>\n",
       "      <td>862</td>\n",
       "    </tr>\n",
       "    <tr>\n",
       "      <th>1</th>\n",
       "      <td>[{'cast_id': 1, 'character': 'Alan Parrish', '...</td>\n",
       "      <td>[{'credit_id': '52fe44bfc3a36847f80a7cd1', 'de...</td>\n",
       "      <td>8844</td>\n",
       "    </tr>\n",
       "    <tr>\n",
       "      <th>2</th>\n",
       "      <td>[{'cast_id': 2, 'character': 'Max Goldman', 'c...</td>\n",
       "      <td>[{'credit_id': '52fe466a9251416c75077a89', 'de...</td>\n",
       "      <td>15602</td>\n",
       "    </tr>\n",
       "    <tr>\n",
       "      <th>3</th>\n",
       "      <td>[{'cast_id': 1, 'character': \"Savannah 'Vannah...</td>\n",
       "      <td>[{'credit_id': '52fe44779251416c91011acb', 'de...</td>\n",
       "      <td>31357</td>\n",
       "    </tr>\n",
       "    <tr>\n",
       "      <th>4</th>\n",
       "      <td>[{'cast_id': 1, 'character': 'George Banks', '...</td>\n",
       "      <td>[{'credit_id': '52fe44959251416c75039ed7', 'de...</td>\n",
       "      <td>11862</td>\n",
       "    </tr>\n",
       "  </tbody>\n",
       "</table>\n",
       "</div>"
      ],
      "text/plain": [
       "                                                cast  \\\n",
       "0  [{'cast_id': 14, 'character': 'Woody (voice)',...   \n",
       "1  [{'cast_id': 1, 'character': 'Alan Parrish', '...   \n",
       "2  [{'cast_id': 2, 'character': 'Max Goldman', 'c...   \n",
       "3  [{'cast_id': 1, 'character': \"Savannah 'Vannah...   \n",
       "4  [{'cast_id': 1, 'character': 'George Banks', '...   \n",
       "\n",
       "                                                crew     id  \n",
       "0  [{'credit_id': '52fe4284c3a36847f8024f49', 'de...    862  \n",
       "1  [{'credit_id': '52fe44bfc3a36847f80a7cd1', 'de...   8844  \n",
       "2  [{'credit_id': '52fe466a9251416c75077a89', 'de...  15602  \n",
       "3  [{'credit_id': '52fe44779251416c91011acb', 'de...  31357  \n",
       "4  [{'credit_id': '52fe44959251416c75039ed7', 'de...  11862  "
      ]
     },
     "execution_count": 61,
     "metadata": {},
     "output_type": "execute_result"
    }
   ],
   "source": [
    "cast_df = pd.read_csv(r'./data/credits.csv')\n",
    "cast_df.head()"
   ]
  },
  {
   "cell_type": "markdown",
   "metadata": {},
   "source": [
    "Files are in JSON format which is not friendly to exploration.  \n",
    "Parsing the data to get the actors info for each movie in a csv, from the cast column.  \n",
    "(movie_id, actor_id, name, order, gender)\n",
    "order: the order in the credits with 0 being the star of the movie    \n",
    "Although crew are critical to movies quality, the audience rarely targets them when heading to a movie, so I will only take the director form the crew column."
   ]
  },
  {
   "cell_type": "code",
   "execution_count": 62,
   "metadata": {},
   "outputs": [],
   "source": [
    "# JSON requires name being in double quotes\n",
    "# ast handles this pretty well \n",
    "import ast"
   ]
  },
  {
   "cell_type": "markdown",
   "metadata": {},
   "source": [
    "After parsing the data getting the director per movie."
   ]
  },
  {
   "cell_type": "code",
   "execution_count": 63,
   "metadata": {},
   "outputs": [
    {
     "name": "stdout",
     "output_type": "stream",
     "text": [
      "John Lasseter\n"
     ]
    }
   ],
   "source": [
    "x = (cast_df['crew'][0])\n",
    "y = ast.literal_eval(x)\n",
    "for i in y:\n",
    "    if i['job'] == 'Director':\n",
    "        print(i['name'])"
   ]
  },
  {
   "cell_type": "markdown",
   "metadata": {},
   "source": [
    "Getting (movie_id, actor_id, name, order, gender)"
   ]
  },
  {
   "cell_type": "code",
   "execution_count": 64,
   "metadata": {},
   "outputs": [
    {
     "name": "stdout",
     "output_type": "stream",
     "text": [
      "cast_id 14\n",
      "character Woody (voice)\n",
      "credit_id 52fe4284c3a36847f8024f95\n",
      "gender 2\n",
      "id 31\n",
      "name Tom Hanks\n",
      "order 0\n",
      "profile_path /pQFoyx7rp09CJTAb932F2g8Nlho.jpg\n"
     ]
    }
   ],
   "source": [
    "x = (cast_df['cast'][0])\n",
    "y = ast.literal_eval(x)\n",
    "for k in y[0]:   \n",
    "    print(k, y[0][k])\n"
   ]
  },
  {
   "cell_type": "markdown",
   "metadata": {},
   "source": [
    "Saving clean data into csv files"
   ]
  },
  {
   "cell_type": "code",
   "execution_count": 65,
   "metadata": {},
   "outputs": [],
   "source": [
    "actors = [(\"movie_id\", \"actor_id\", \"name\", \"order\", \"gender\")]\n",
    "cast = cast_df['cast']\n",
    "ids = cast_df['id']\n",
    "N = cast.shape[0]\n",
    "\n",
    "for i in range(N):\n",
    "    info_str = cast[i]\n",
    "    id = ids[i]\n",
    "    info_dicts = ast.literal_eval(info_str)\n",
    "    for entry in info_dicts:\n",
    "        actors.append((id, entry['id'], entry['name'], entry['order'], entry['gender']))\n",
    "    "
   ]
  },
  {
   "cell_type": "code",
   "execution_count": 85,
   "metadata": {},
   "outputs": [],
   "source": [
    "directors = [(\"movie_id\", \"director_id\", \"name\")]\n",
    "crew = cast_df['crew']\n",
    "\n",
    "N = crew.shape[0]\n",
    "\n",
    "for i in range(N):\n",
    "    info_str = crew[i]\n",
    "    id = ids[i]\n",
    "    info_dicts = ast.literal_eval(info_str)\n",
    "    for entry in info_dicts:\n",
    "        if entry['job'] == 'Director':\n",
    "            directors.append((id, entry['name']))"
   ]
  },
  {
   "cell_type": "markdown",
   "metadata": {},
   "source": [
    "Comparing number of movies to number of diectors it is apparent that some movies have multiple directors.  \n",
    "Comparing number of actors per movie comes out to be average of 12 actors per movie."
   ]
  },
  {
   "cell_type": "code",
   "execution_count": 86,
   "metadata": {},
   "outputs": [
    {
     "name": "stdout",
     "output_type": "stream",
     "text": [
      "49049 45476\n",
      "12.368612015128859\n"
     ]
    }
   ],
   "source": [
    "print(len(directors), N)\n",
    "print(len(actors)/N)"
   ]
  },
  {
   "cell_type": "markdown",
   "metadata": {},
   "source": [
    "Output the parsed data "
   ]
  },
  {
   "cell_type": "code",
   "execution_count": 87,
   "metadata": {},
   "outputs": [],
   "source": [
    "import csv"
   ]
  },
  {
   "cell_type": "code",
   "execution_count": 88,
   "metadata": {},
   "outputs": [],
   "source": [
    "# open the file in the write mode\n",
    "f = open('./dataparsed/cast.csv', 'w')\n",
    "\n",
    "# create the csv writer\n",
    "writer = csv.writer(f)\n",
    "\n",
    "N = len(actors)\n",
    "for i in range(N):\n",
    "    writer.writerow(actors[i])"
   ]
  },
  {
   "cell_type": "code",
   "execution_count": 89,
   "metadata": {},
   "outputs": [],
   "source": [
    "# open the file in the write mode\n",
    "f = open('./dataparsed/directors.csv', 'w')\n",
    "\n",
    "# create the csv writer\n",
    "writer = csv.writer(f)\n",
    "\n",
    "N = len(directors)\n",
    "for i in range(N):\n",
    "    writer.writerow(directors[i])  "
   ]
  },
  {
   "cell_type": "markdown",
   "metadata": {},
   "source": [
    "Keywords are indicative to desire of watching a movie, maybe more specific than genres."
   ]
  },
  {
   "cell_type": "code",
   "execution_count": 72,
   "metadata": {},
   "outputs": [
    {
     "data": {
      "text/html": [
       "<div>\n",
       "<style scoped>\n",
       "    .dataframe tbody tr th:only-of-type {\n",
       "        vertical-align: middle;\n",
       "    }\n",
       "\n",
       "    .dataframe tbody tr th {\n",
       "        vertical-align: top;\n",
       "    }\n",
       "\n",
       "    .dataframe thead th {\n",
       "        text-align: right;\n",
       "    }\n",
       "</style>\n",
       "<table border=\"1\" class=\"dataframe\">\n",
       "  <thead>\n",
       "    <tr style=\"text-align: right;\">\n",
       "      <th></th>\n",
       "      <th>id</th>\n",
       "      <th>keywords</th>\n",
       "    </tr>\n",
       "  </thead>\n",
       "  <tbody>\n",
       "    <tr>\n",
       "      <th>0</th>\n",
       "      <td>862</td>\n",
       "      <td>[{'id': 931, 'name': 'jealousy'}, {'id': 4290,...</td>\n",
       "    </tr>\n",
       "  </tbody>\n",
       "</table>\n",
       "</div>"
      ],
      "text/plain": [
       "    id                                           keywords\n",
       "0  862  [{'id': 931, 'name': 'jealousy'}, {'id': 4290,..."
      ]
     },
     "execution_count": 72,
     "metadata": {},
     "output_type": "execute_result"
    }
   ],
   "source": [
    "kw_df = pd.read_csv(r'./data/keywords.csv')\n",
    "kw_df.head(1)"
   ]
  },
  {
   "cell_type": "code",
   "execution_count": 73,
   "metadata": {},
   "outputs": [
    {
     "name": "stdout",
     "output_type": "stream",
     "text": [
      "[{'id': 10090, 'name': 'board game'}, {'id': 10941, 'name': 'disappearance'}, {'id': 15101, 'name': \"based on children's book\"}, {'id': 33467, 'name': 'new home'}, {'id': 158086, 'name': 'recluse'}, {'id': 158091, 'name': 'giant insect'}]\n"
     ]
    }
   ],
   "source": [
    "x = kw_df['keywords'][1]\n",
    "y = ast.literal_eval(x)\n",
    "print(y)"
   ]
  },
  {
   "cell_type": "code",
   "execution_count": 74,
   "metadata": {},
   "outputs": [],
   "source": [
    "N = kw_df.shape[0]\n",
    "keywords = [(\"movie_id\", \"keyword_id\", \"keyword\")]\n",
    "for i in range(N):\n",
    "    id = kw_df['id'][i]\n",
    "    info_str = kw_df['keywords'][i]\n",
    "    info_dicts = ast.literal_eval(info_str)\n",
    "    for entry in info_dicts:\n",
    "        keywords.append((id, entry['id'], entry['name']))"
   ]
  },
  {
   "cell_type": "code",
   "execution_count": 75,
   "metadata": {},
   "outputs": [],
   "source": [
    "# open the file in the write mode\n",
    "f = open('./dataparsed/keywords.csv', 'w')\n",
    "\n",
    "# create the csv writer\n",
    "writer = csv.writer(f)\n",
    "\n",
    "N = len(keywords)\n",
    "for i in range(N):\n",
    "    writer.writerow(keywords[i])  "
   ]
  },
  {
   "cell_type": "markdown",
   "metadata": {},
   "source": [
    "Parsing and refining movies metadata file"
   ]
  },
  {
   "cell_type": "code",
   "execution_count": 76,
   "metadata": {},
   "outputs": [
    {
     "name": "stderr",
     "output_type": "stream",
     "text": [
      "C:\\Users\\20111\\AppData\\Local\\Temp\\ipykernel_22076\\2480996344.py:1: DtypeWarning: Columns (10) have mixed types. Specify dtype option on import or set low_memory=False.\n",
      "  m_df = pd.read_csv(r'./data/movies_metadata.csv')\n"
     ]
    },
    {
     "data": {
      "text/html": [
       "<div>\n",
       "<style scoped>\n",
       "    .dataframe tbody tr th:only-of-type {\n",
       "        vertical-align: middle;\n",
       "    }\n",
       "\n",
       "    .dataframe tbody tr th {\n",
       "        vertical-align: top;\n",
       "    }\n",
       "\n",
       "    .dataframe thead th {\n",
       "        text-align: right;\n",
       "    }\n",
       "</style>\n",
       "<table border=\"1\" class=\"dataframe\">\n",
       "  <thead>\n",
       "    <tr style=\"text-align: right;\">\n",
       "      <th></th>\n",
       "      <th>adult</th>\n",
       "      <th>belongs_to_collection</th>\n",
       "      <th>budget</th>\n",
       "      <th>genres</th>\n",
       "      <th>homepage</th>\n",
       "      <th>id</th>\n",
       "      <th>imdb_id</th>\n",
       "      <th>original_language</th>\n",
       "      <th>original_title</th>\n",
       "      <th>overview</th>\n",
       "      <th>...</th>\n",
       "      <th>release_date</th>\n",
       "      <th>revenue</th>\n",
       "      <th>runtime</th>\n",
       "      <th>spoken_languages</th>\n",
       "      <th>status</th>\n",
       "      <th>tagline</th>\n",
       "      <th>title</th>\n",
       "      <th>video</th>\n",
       "      <th>vote_average</th>\n",
       "      <th>vote_count</th>\n",
       "    </tr>\n",
       "  </thead>\n",
       "  <tbody>\n",
       "    <tr>\n",
       "      <th>0</th>\n",
       "      <td>False</td>\n",
       "      <td>{'id': 10194, 'name': 'Toy Story Collection', ...</td>\n",
       "      <td>30000000</td>\n",
       "      <td>[{'id': 16, 'name': 'Animation'}, {'id': 35, '...</td>\n",
       "      <td>http://toystory.disney.com/toy-story</td>\n",
       "      <td>862</td>\n",
       "      <td>tt0114709</td>\n",
       "      <td>en</td>\n",
       "      <td>Toy Story</td>\n",
       "      <td>Led by Woody, Andy's toys live happily in his ...</td>\n",
       "      <td>...</td>\n",
       "      <td>1995-10-30</td>\n",
       "      <td>373554033.0</td>\n",
       "      <td>81.0</td>\n",
       "      <td>[{'iso_639_1': 'en', 'name': 'English'}]</td>\n",
       "      <td>Released</td>\n",
       "      <td>NaN</td>\n",
       "      <td>Toy Story</td>\n",
       "      <td>False</td>\n",
       "      <td>7.7</td>\n",
       "      <td>5415.0</td>\n",
       "    </tr>\n",
       "  </tbody>\n",
       "</table>\n",
       "<p>1 rows × 24 columns</p>\n",
       "</div>"
      ],
      "text/plain": [
       "   adult                              belongs_to_collection    budget  \\\n",
       "0  False  {'id': 10194, 'name': 'Toy Story Collection', ...  30000000   \n",
       "\n",
       "                                              genres  \\\n",
       "0  [{'id': 16, 'name': 'Animation'}, {'id': 35, '...   \n",
       "\n",
       "                               homepage   id    imdb_id original_language  \\\n",
       "0  http://toystory.disney.com/toy-story  862  tt0114709                en   \n",
       "\n",
       "  original_title                                           overview  ...  \\\n",
       "0      Toy Story  Led by Woody, Andy's toys live happily in his ...  ...   \n",
       "\n",
       "  release_date      revenue runtime                          spoken_languages  \\\n",
       "0   1995-10-30  373554033.0    81.0  [{'iso_639_1': 'en', 'name': 'English'}]   \n",
       "\n",
       "     status  tagline      title  video vote_average vote_count  \n",
       "0  Released      NaN  Toy Story  False          7.7     5415.0  \n",
       "\n",
       "[1 rows x 24 columns]"
      ]
     },
     "execution_count": 76,
     "metadata": {},
     "output_type": "execute_result"
    }
   ],
   "source": [
    "m_df = pd.read_csv(r'./data/movies_metadata.csv')\n",
    "m_df.head(1)"
   ]
  },
  {
   "cell_type": "markdown",
   "metadata": {},
   "source": [
    "Extracting genres"
   ]
  },
  {
   "cell_type": "code",
   "execution_count": 90,
   "metadata": {},
   "outputs": [],
   "source": [
    "genres = [(\"movie_id\", \"genre_id\", \"genre\")]\n",
    "N = m_df.shape[0]\n",
    "\n",
    "for i in range(N):\n",
    "    id = m_df['id'][i]\n",
    "    info_str = m_df['genres'][i]\n",
    "    info_dicts = ast.literal_eval(info_str)\n",
    "\n",
    "    for entry in info_dicts:\n",
    "        genres.append((id, entry['id'], entry['name']))\n",
    "    "
   ]
  },
  {
   "cell_type": "code",
   "execution_count": 91,
   "metadata": {},
   "outputs": [],
   "source": [
    "# open the file in the write mode\n",
    "f = open('./dataparsed/genres.csv', 'w')\n",
    "\n",
    "# create the csv writer\n",
    "writer = csv.writer(f)\n",
    "\n",
    "N = len(genres)\n",
    "for i in range(N):\n",
    "    writer.writerow(genres[i])  "
   ]
  },
  {
   "cell_type": "markdown",
   "metadata": {},
   "source": [
    "Staying with the movies metadata to extact more info.  \n"
   ]
  },
  {
   "cell_type": "code",
   "execution_count": 172,
   "metadata": {},
   "outputs": [
    {
     "data": {
      "text/plain": [
       "Index(['adult', 'belongs_to_collection', 'budget', 'genres', 'homepage', 'id',\n",
       "       'imdb_id', 'original_language', 'original_title', 'overview',\n",
       "       'popularity', 'poster_path', 'production_companies',\n",
       "       'production_countries', 'release_date', 'revenue', 'runtime',\n",
       "       'spoken_languages', 'status', 'tagline', 'title', 'video',\n",
       "       'vote_average', 'vote_count'],\n",
       "      dtype='object')"
      ]
     },
     "execution_count": 172,
     "metadata": {},
     "output_type": "execute_result"
    }
   ],
   "source": [
    "m_df.columns"
   ]
  },
  {
   "cell_type": "markdown",
   "metadata": {},
   "source": [
    "Status column in interesting, as only released movies will be of interest in this analysis"
   ]
  },
  {
   "cell_type": "code",
   "execution_count": 79,
   "metadata": {},
   "outputs": [
    {
     "data": {
      "text/plain": [
       "array(['Released', nan, 'Rumored', 'Post Production', 'In Production',\n",
       "       'Planned', 'Canceled'], dtype=object)"
      ]
     },
     "execution_count": 79,
     "metadata": {},
     "output_type": "execute_result"
    }
   ],
   "source": [
    "m_df.status.unique()"
   ]
  },
  {
   "cell_type": "code",
   "execution_count": 92,
   "metadata": {},
   "outputs": [],
   "source": [
    "m_df = m_df[m_df.status == 'Released'].reset_index()\n"
   ]
  },
  {
   "cell_type": "markdown",
   "metadata": {},
   "source": [
    "Now having the rows of interest let's determine the columns (attributes) of interest for this analysis  "
   ]
  },
  {
   "cell_type": "code",
   "execution_count": 93,
   "metadata": {},
   "outputs": [
    {
     "data": {
      "text/plain": [
       "Index(['level_0', 'index', 'adult', 'belongs_to_collection', 'budget',\n",
       "       'genres', 'homepage', 'id', 'imdb_id', 'original_language',\n",
       "       'original_title', 'overview', 'popularity', 'poster_path',\n",
       "       'production_companies', 'production_countries', 'release_date',\n",
       "       'revenue', 'runtime', 'spoken_languages', 'status', 'tagline', 'title',\n",
       "       'video', 'vote_average', 'vote_count'],\n",
       "      dtype='object')"
      ]
     },
     "execution_count": 93,
     "metadata": {},
     "output_type": "execute_result"
    }
   ],
   "source": [
    "attributes = ['movie_id', 'title', 'popularity', 'budget', 'revenue', 'vote_average', 'vote_count']\n",
    "m_df.columns"
   ]
  },
  {
   "cell_type": "markdown",
   "metadata": {},
   "source": [
    "Getting these attributes from the metadata"
   ]
  },
  {
   "cell_type": "code",
   "execution_count": 94,
   "metadata": {},
   "outputs": [],
   "source": [
    "attributes = ['movie_id', 'title', 'release_date', 'popularity', 'budget', 'revenue', 'vote_average', 'vote_count']\n",
    "meta_data = [attributes]\n",
    "\n",
    "N = m_df.shape[0]\n",
    "\n",
    "for i in range(N):\n",
    "    id = m_df.id[i]\n",
    "    title = m_df.original_title[i]\n",
    "    release_date = m_df.release_date[i]\n",
    "    pop = m_df.popularity[i]\n",
    "    budget = m_df.budget[i]\n",
    "    revenue = m_df.revenue[i]\n",
    "    vote_avg = m_df.vote_average[i]\n",
    "    vote_cnt = m_df.vote_count[i]\n",
    "\n",
    "    meta_data.append([id, title, release_date, pop, budget, revenue, vote_avg, vote_cnt])\n",
    "    "
   ]
  },
  {
   "cell_type": "markdown",
   "metadata": {},
   "source": [
    "Saving metadata"
   ]
  },
  {
   "cell_type": "code",
   "execution_count": 95,
   "metadata": {},
   "outputs": [],
   "source": [
    "# open the file in the write mode\n",
    "f = open('./dataparsed/metadata.csv', 'w')\n",
    "\n",
    "# create the csv writer\n",
    "writer = csv.writer(f)\n",
    "\n",
    "N = len(meta_data)\n",
    "for i in range(N):\n",
    "    writer.writerow(meta_data[i])  "
   ]
  },
  {
   "cell_type": "markdown",
   "metadata": {},
   "source": [
    "## Analysis Phase"
   ]
  },
  {
   "cell_type": "markdown",
   "metadata": {},
   "source": [
    "Initiating a spark session, spart makes use of multiple CPUs and multiple processess, so I will make some aggreagations on the the whole ratings using Apache Spark"
   ]
  },
  {
   "cell_type": "code",
   "execution_count": 2,
   "metadata": {},
   "outputs": [],
   "source": [
    "from pyspark.sql import SparkSession\n",
    "spark = SparkSession.builder.appName('TMDb').getOrCreate()"
   ]
  },
  {
   "cell_type": "code",
   "execution_count": 3,
   "metadata": {},
   "outputs": [
    {
     "name": "stdout",
     "output_type": "stream",
     "text": [
      "+------+-------+------+----------+\n",
      "|userId|movieId|rating| timestamp|\n",
      "+------+-------+------+----------+\n",
      "|     1|    110|   1.0|1425941529|\n",
      "|     1|    147|   4.5|1425942435|\n",
      "|     1|    858|   5.0|1425941523|\n",
      "|     1|   1221|   5.0|1425941546|\n",
      "|     1|   1246|   5.0|1425941556|\n",
      "|     1|   1968|   4.0|1425942148|\n",
      "|     1|   2762|   4.5|1425941300|\n",
      "|     1|   2918|   5.0|1425941593|\n",
      "|     1|   2959|   4.0|1425941601|\n",
      "|     1|   4226|   4.0|1425942228|\n",
      "|     1|   4878|   5.0|1425941434|\n",
      "|     1|   5577|   5.0|1425941397|\n",
      "|     1|  33794|   4.0|1425942005|\n",
      "|     1|  54503|   3.5|1425941313|\n",
      "|     1|  58559|   4.0|1425942007|\n",
      "|     1|  59315|   5.0|1425941502|\n",
      "|     1|  68358|   5.0|1425941464|\n",
      "|     1|  69844|   5.0|1425942139|\n",
      "|     1|  73017|   5.0|1425942699|\n",
      "|     1|  81834|   5.0|1425942133|\n",
      "+------+-------+------+----------+\n",
      "only showing top 20 rows\n",
      "\n"
     ]
    }
   ],
   "source": [
    "df_pyspark = spark.read.csv(r'./data/ratings.csv', header= True, inferSchema= True)\n",
    "df_pyspark.show()"
   ]
  },
  {
   "cell_type": "code",
   "execution_count": 6,
   "metadata": {},
   "outputs": [],
   "source": [
    "# timestamp is not needed\n",
    "df_pyspark = df_pyspark.drop('timestamp')"
   ]
  },
  {
   "cell_type": "markdown",
   "metadata": {},
   "source": [
    "The size of the data is well over 25 Million ratings "
   ]
  },
  {
   "cell_type": "code",
   "execution_count": 8,
   "metadata": {},
   "outputs": [
    {
     "data": {
      "text/plain": [
       "26024289"
      ]
     },
     "execution_count": 8,
     "metadata": {},
     "output_type": "execute_result"
    }
   ],
   "source": [
    "df_pyspark.count()"
   ]
  },
  {
   "cell_type": "markdown",
   "metadata": {},
   "source": [
    "The number of movies is over 45k with users count over 250k"
   ]
  },
  {
   "cell_type": "code",
   "execution_count": 11,
   "metadata": {},
   "outputs": [
    {
     "name": "stdout",
     "output_type": "stream",
     "text": [
      "45115\n",
      "270896\n"
     ]
    }
   ],
   "source": [
    "print(df_pyspark.select('movieId').distinct().count())\n",
    "print(df_pyspark.select('userId').distinct().count())"
   ]
  },
  {
   "cell_type": "markdown",
   "metadata": {},
   "source": [
    "I will be using PySpark to get insightful statistics that would help in the process of analysis and visulaization of data.  \n",
    "Gathering the info about how many ratings does every movie has and the average rating of every movie, also the users rate of ratings in value and also quantity."
   ]
  },
  {
   "cell_type": "code",
   "execution_count": 14,
   "metadata": {},
   "outputs": [],
   "source": [
    "from pyspark.sql import functions as F"
   ]
  },
  {
   "cell_type": "code",
   "execution_count": 16,
   "metadata": {},
   "outputs": [
    {
     "name": "stdout",
     "output_type": "stream",
     "text": [
      "+-------+------------------+-------------+\n",
      "|movieId|       avg(rating)|count(rating)|\n",
      "+-------+------------------+-------------+\n",
      "|   1645| 3.516589990241182|        14346|\n",
      "|   1591|2.6416020262782967|         6317|\n",
      "|   3175| 3.586550320670942|        16216|\n",
      "|   1580|3.5733178489322874|        42193|\n",
      "|  68135| 3.097457627118644|         2478|\n",
      "|    471| 3.654817548175482|        12195|\n",
      "|   1088| 3.239810636881426|        13519|\n",
      "|   1959|3.6369782971619364|         5990|\n",
      "|   2122| 2.634513274336283|         2825|\n",
      "|   2866|3.6019714479945617|         1471|\n",
      "|  36525|3.4823726916620035|         1787|\n",
      "|   3918|2.9595715272978578|         1447|\n",
      "|   3997| 2.077287716405606|         2426|\n",
      "|   6620| 3.789404132628544|         4162|\n",
      "|   1238|3.9629796163069546|         3336|\n",
      "|   2142| 3.038054538054538|         2457|\n",
      "|   8638|3.9675026123301986|         4785|\n",
      "|   2366|3.4740872335211956|         8162|\n",
      "|   1342|2.9637979902087093|         3881|\n",
      "|   3794| 3.250574712643678|          870|\n",
      "+-------+------------------+-------------+\n",
      "only showing top 20 rows\n",
      "\n"
     ]
    }
   ],
   "source": [
    "df_pyspark.groupBy('movieId').agg(F.mean('rating'), F.count('rating')).show()"
   ]
  },
  {
   "cell_type": "code",
   "execution_count": 17,
   "metadata": {},
   "outputs": [
    {
     "name": "stdout",
     "output_type": "stream",
     "text": [
      "+------+------------------+-------------+\n",
      "|userId|       avg(rating)|count(rating)|\n",
      "+------+------------------+-------------+\n",
      "|   148|3.9651162790697674|           43|\n",
      "|   463|2.8582375478927204|          261|\n",
      "|   471|3.8238341968911915|          193|\n",
      "|   496|               4.1|           10|\n",
      "|   833| 4.333333333333333|            3|\n",
      "|  1088| 4.466666666666667|           15|\n",
      "|  1238|3.5942028985507246|           69|\n",
      "|  1342|              3.25|            6|\n",
      "|  1580|1.7916666666666667|           24|\n",
      "|  1591|               4.0|           24|\n",
      "|  1645| 2.983783783783784|          185|\n",
      "|  1829| 3.634920634920635|           63|\n",
      "|  1959|               3.0|            6|\n",
      "|  2122|              4.05|           10|\n",
      "|  2142|               4.2|            5|\n",
      "|  2366| 3.522222222222222|          270|\n",
      "|  2659| 3.986899563318777|          229|\n",
      "|  2866|               3.6|           15|\n",
      "|  3175| 4.266666666666667|           15|\n",
      "|  3749|               3.6|            5|\n",
      "+------+------------------+-------------+\n",
      "only showing top 20 rows\n",
      "\n"
     ]
    }
   ],
   "source": [
    "df_pyspark.groupBy('userId').agg(F.mean('rating'), F.count('rating')).show()"
   ]
  },
  {
   "cell_type": "markdown",
   "metadata": {},
   "source": [
    "It is vividly apparent that the users vary in their votes averages and the number of movies that they care to give a rating, also it goes without saying that it is vital for our analysis to know which movies are rated heavily or rated highly or both by users."
   ]
  },
  {
   "cell_type": "code",
   "execution_count": 18,
   "metadata": {},
   "outputs": [],
   "source": [
    "# saving the insights gained \n",
    "movies_agg = df_pyspark.groupBy('movieId').agg(F.mean('rating'), F.count('rating')).toPandas()\n",
    "users_agg = df_pyspark.groupBy('userId').agg(F.mean('rating'), F.count('rating')).toPandas()"
   ]
  },
  {
   "cell_type": "code",
   "execution_count": 20,
   "metadata": {},
   "outputs": [],
   "source": [
    "movies_agg.columns = ['movieId', 'rating_avg', 'rating_count']\n",
    "users_agg.columns = ['userId', 'rating_avg', 'rating_count']"
   ]
  },
  {
   "cell_type": "markdown",
   "metadata": {},
   "source": [
    "For easier categorizing of the data will be rounding the average votes"
   ]
  },
  {
   "cell_type": "code",
   "execution_count": 22,
   "metadata": {},
   "outputs": [
    {
     "data": {
      "text/plain": [
       "movieId           int32\n",
       "rating_avg      float64\n",
       "rating_count      int64\n",
       "dtype: object"
      ]
     },
     "execution_count": 22,
     "metadata": {},
     "output_type": "execute_result"
    }
   ],
   "source": [
    "movies_agg.round(2)\n",
    "users_agg.round(2)"
   ]
  },
  {
   "cell_type": "code",
   "execution_count": 23,
   "metadata": {},
   "outputs": [],
   "source": [
    "# save to dataclean\n",
    "movies_agg.to_csv(r'./dataclean/movies_ratings.csv')\n",
    "movies_agg.to_csv(r'./dataclean/users_ratings.csv')"
   ]
  },
  {
   "cell_type": "markdown",
   "metadata": {},
   "source": [
    "## Data integrity\n",
    "I have collected the data myself from the ratings data, they are present in the metadata file also, we can compare the two using the ones I have collected as reference if any errors was found"
   ]
  },
  {
   "cell_type": "code",
   "execution_count": 2,
   "metadata": {},
   "outputs": [],
   "source": [
    "meta_data = pd.read_csv(r'./dataclean/metadata.csv')\n",
    "movie_ratings = pd.read_csv(r'./dataclean/movies_ratings.csv')"
   ]
  },
  {
   "cell_type": "code",
   "execution_count": 20,
   "metadata": {},
   "outputs": [
    {
     "data": {
      "text/plain": [
       "False"
      ]
     },
     "execution_count": 20,
     "metadata": {},
     "output_type": "execute_result"
    }
   ],
   "source": [
    "# First check the movies ids to be the same in both\n",
    "meta_id = set(meta_data.movie_id.unique())\n",
    "ratings_id = set(movie_ratings.movieId.unique())\n",
    "meta_id == ratings_id"
   ]
  },
  {
   "cell_type": "markdown",
   "metadata": {},
   "source": [
    "Sets turned out to be not identical, some columns of the movie_ratings will be dropped and also from the ratings "
   ]
  },
  {
   "cell_type": "code",
   "execution_count": 21,
   "metadata": {},
   "outputs": [
    {
     "data": {
      "text/plain": [
       "(44889, 45115)"
      ]
     },
     "execution_count": 21,
     "metadata": {},
     "output_type": "execute_result"
    }
   ],
   "source": [
    "len(meta_id), len(ratings_id)"
   ]
  },
  {
   "cell_type": "code",
   "execution_count": 22,
   "metadata": {},
   "outputs": [
    {
     "name": "stdout",
     "output_type": "stream",
     "text": [
      "The number of movies only in the metadata 37396\n",
      "The number of movies only in the ratings 37622\n",
      "The number of movies only in both 7493\n"
     ]
    }
   ],
   "source": [
    "print(f\"The number of movies only in the metadata {len(meta_id - ratings_id)}\")\n",
    "print(f\"The number of movies only in the ratings {len(ratings_id - meta_id)}\")\n",
    "print(f\"The number of movies only in both {len(ratings_id & meta_id)}\")"
   ]
  },
  {
   "cell_type": "markdown",
   "metadata": {},
   "source": [
    "After investegation, the ids of interest are the nearly 7.5k movies that we have metadata about and are actually rated by users, this requires refining the cleaned data to ensure integrity"
   ]
  },
  {
   "cell_type": "code",
   "execution_count": 23,
   "metadata": {},
   "outputs": [],
   "source": [
    "target_ids = ratings_id & meta_id"
   ]
  },
  {
   "cell_type": "code",
   "execution_count": 115,
   "metadata": {},
   "outputs": [
    {
     "data": {
      "text/plain": [
       "7493"
      ]
     },
     "execution_count": 115,
     "metadata": {},
     "output_type": "execute_result"
    }
   ],
   "source": [
    "li = list(target_ids)\n",
    "len(li)"
   ]
  },
  {
   "cell_type": "code",
   "execution_count": 112,
   "metadata": {},
   "outputs": [],
   "source": [
    "# files are split into 2 categories, ones not affected by the filter\n",
    "# and others affected these being the aggregate functions previously calculated by pyspark\n",
    "# handling the filters\n",
    "# it has come to my attention the presence of duplicates from a later phase\n",
    "# so went back and added dropping duplicates in cleaning\n",
    "simple_filters_files = ['cast', 'directors', 'genres', 'keywords', 'metadata']\n",
    "\n",
    "for filename in simple_filters_files:\n",
    "    df = pd.read_csv(f'./dataparsed/{filename}.csv')\n",
    "    df = df[df.movie_id.isin(target_ids)]\n",
    "    df.drop_duplicates(inplace= True)\n",
    "    df.to_csv(f'./dataclean/{filename}.csv', header= True, index= False)\n",
    "    \n",
    "    "
   ]
  },
  {
   "cell_type": "code",
   "execution_count": 100,
   "metadata": {},
   "outputs": [
    {
     "data": {
      "text/html": [
       "<div>\n",
       "<style scoped>\n",
       "    .dataframe tbody tr th:only-of-type {\n",
       "        vertical-align: middle;\n",
       "    }\n",
       "\n",
       "    .dataframe tbody tr th {\n",
       "        vertical-align: top;\n",
       "    }\n",
       "\n",
       "    .dataframe thead th {\n",
       "        text-align: right;\n",
       "    }\n",
       "</style>\n",
       "<table border=\"1\" class=\"dataframe\">\n",
       "  <thead>\n",
       "    <tr style=\"text-align: right;\">\n",
       "      <th></th>\n",
       "      <th>userId</th>\n",
       "      <th>movieId</th>\n",
       "      <th>rating</th>\n",
       "      <th>timestamp</th>\n",
       "    </tr>\n",
       "  </thead>\n",
       "  <tbody>\n",
       "    <tr>\n",
       "      <th>0</th>\n",
       "      <td>1</td>\n",
       "      <td>110</td>\n",
       "      <td>1.0</td>\n",
       "      <td>1425941529</td>\n",
       "    </tr>\n",
       "    <tr>\n",
       "      <th>1</th>\n",
       "      <td>1</td>\n",
       "      <td>147</td>\n",
       "      <td>4.5</td>\n",
       "      <td>1425942435</td>\n",
       "    </tr>\n",
       "    <tr>\n",
       "      <th>2</th>\n",
       "      <td>1</td>\n",
       "      <td>858</td>\n",
       "      <td>5.0</td>\n",
       "      <td>1425941523</td>\n",
       "    </tr>\n",
       "    <tr>\n",
       "      <th>3</th>\n",
       "      <td>1</td>\n",
       "      <td>1221</td>\n",
       "      <td>5.0</td>\n",
       "      <td>1425941546</td>\n",
       "    </tr>\n",
       "    <tr>\n",
       "      <th>4</th>\n",
       "      <td>1</td>\n",
       "      <td>1246</td>\n",
       "      <td>5.0</td>\n",
       "      <td>1425941556</td>\n",
       "    </tr>\n",
       "  </tbody>\n",
       "</table>\n",
       "</div>"
      ],
      "text/plain": [
       "   userId  movieId  rating   timestamp\n",
       "0       1      110     1.0  1425941529\n",
       "1       1      147     4.5  1425942435\n",
       "2       1      858     5.0  1425941523\n",
       "3       1     1221     5.0  1425941546\n",
       "4       1     1246     5.0  1425941556"
      ]
     },
     "execution_count": 100,
     "metadata": {},
     "output_type": "execute_result"
    }
   ],
   "source": [
    "# second we should filter the ratings before applying aggregate functions again\n",
    "ratings = pd.read_csv(r'./data/ratings.csv')\n",
    "ratings.head()"
   ]
  },
  {
   "cell_type": "code",
   "execution_count": 101,
   "metadata": {},
   "outputs": [],
   "source": [
    "# timestamp is still not needed\n",
    "ratings.drop(columns= ['timestamp'], inplace= True)"
   ]
  },
  {
   "cell_type": "code",
   "execution_count": 102,
   "metadata": {},
   "outputs": [
    {
     "data": {
      "text/plain": [
       "11415489"
      ]
     },
     "execution_count": 102,
     "metadata": {},
     "output_type": "execute_result"
    }
   ],
   "source": [
    "ratings = ratings[ratings.movieId.isin(target_ids)]\n",
    "len(ratings)"
   ]
  },
  {
   "cell_type": "markdown",
   "metadata": {},
   "source": [
    "We are left with legit 11 Million ratings for the 7500 movies "
   ]
  },
  {
   "cell_type": "code",
   "execution_count": 103,
   "metadata": {},
   "outputs": [],
   "source": [
    "# saving the cleaned ratings\n",
    "ratings.to_csv(r'./dataclean/ratings.csv', header= True, index= False)"
   ]
  },
  {
   "cell_type": "markdown",
   "metadata": {},
   "source": [
    "Using map reduce on data, apche spark has it underlying "
   ]
  },
  {
   "cell_type": "code",
   "execution_count": 33,
   "metadata": {},
   "outputs": [],
   "source": [
    "# Now I should utilize pyspark to aggregate the Millions of records of ratings\n",
    "from pyspark.sql import SparkSession\n",
    "spark = SparkSession.builder.appName('TMDb').getOrCreate()"
   ]
  },
  {
   "cell_type": "code",
   "execution_count": 48,
   "metadata": {},
   "outputs": [
    {
     "name": "stdout",
     "output_type": "stream",
     "text": [
      "+------+-------+------+\n",
      "|userId|movieId|rating|\n",
      "+------+-------+------+\n",
      "|     1|    110|   1.0|\n",
      "|     1|    147|   4.5|\n",
      "|     1|    858|   5.0|\n",
      "|     1|   1246|   5.0|\n",
      "|     1|   1968|   4.0|\n",
      "+------+-------+------+\n",
      "only showing top 5 rows\n",
      "\n"
     ]
    }
   ],
   "source": [
    "df_pyspark = spark.read.csv(r'./dataclean/ratings.csv', header= True, inferSchema= True)\n",
    "df_pyspark.show(5)"
   ]
  },
  {
   "cell_type": "code",
   "execution_count": 49,
   "metadata": {},
   "outputs": [],
   "source": [
    "from pyspark.sql import functions as F"
   ]
  },
  {
   "cell_type": "code",
   "execution_count": 60,
   "metadata": {},
   "outputs": [],
   "source": [
    "target_agg_attributes = ['movieId', 'userId']\n",
    "\n",
    "for att in target_agg_attributes:\n",
    "    df_agg = df_pyspark.groupBy(att).agg(F.mean('rating'), F.count('rating')).toPandas()\n",
    "    df_agg.columns = [att, 'rating_avg', 'rating_count']\n",
    "    df_agg = df_agg.round(2)\n",
    "    df_agg.to_csv(f'./dataclean/{att[: -2]}s_ratings.csv', header= True, index= False)\n"
   ]
  },
  {
   "cell_type": "markdown",
   "metadata": {},
   "source": [
    "## Recomendation System\n",
    "Visualizations are pivotal in the process of data analysis\n",
    "### Visualizations\n",
    "We can test the interest of our voters in the movie eras by checking the number of votes per year"
   ]
  },
  {
   "cell_type": "code",
   "execution_count": 120,
   "metadata": {},
   "outputs": [
    {
     "name": "stdout",
     "output_type": "stream",
     "text": [
      "set()\n"
     ]
    },
    {
     "data": {
      "text/plain": [
       "(7493, 7493)"
      ]
     },
     "execution_count": 120,
     "metadata": {},
     "output_type": "execute_result"
    }
   ],
   "source": [
    "meta_data = pd.read_csv(r'./dataclean/metadata.csv')\n",
    "movie_ratings = pd.read_csv(r'./dataclean/movies_ratings.csv')\n",
    "print(set(meta_data.movie_id) - set(movie_ratings.movieId))\n",
    "len(meta_data) , len(movie_ratings)\n",
    "# a duplicate was found @ id = 4912\n",
    "# dealt with manually 11.331072 + 7.645827\t\n",
    "# meta_data[meta_data.movie_id == 4912]"
   ]
  },
  {
   "cell_type": "code",
   "execution_count": 119,
   "metadata": {},
   "outputs": [
    {
     "data": {
      "text/plain": [
       "9.4884495"
      ]
     },
     "execution_count": 119,
     "metadata": {},
     "output_type": "execute_result"
    }
   ],
   "source": [
    "# validating the integrity of the data it came to my attention a duplicate is in metadata\n",
    "# I will go on compensate with the average of both\n",
    "# As in this link, max deems appropriate https://developers.themoviedb.org/3/getting-started/popularity\n",
    "# my hypothesis is that there were two records for this movie on is more updated than the other\n",
    "# so averaging is good, both values can be found in parsed metadata\n",
    "# (11.331072 + 7.645827)/2"
   ]
  },
  {
   "cell_type": "markdown",
   "metadata": {},
   "source": [
    "It can be seen that data is now validated, the unique values in both files is the same"
   ]
  },
  {
   "cell_type": "code",
   "execution_count": 130,
   "metadata": {},
   "outputs": [
    {
     "data": {
      "text/html": [
       "<div>\n",
       "<style scoped>\n",
       "    .dataframe tbody tr th:only-of-type {\n",
       "        vertical-align: middle;\n",
       "    }\n",
       "\n",
       "    .dataframe tbody tr th {\n",
       "        vertical-align: top;\n",
       "    }\n",
       "\n",
       "    .dataframe thead th {\n",
       "        text-align: right;\n",
       "    }\n",
       "</style>\n",
       "<table border=\"1\" class=\"dataframe\">\n",
       "  <thead>\n",
       "    <tr style=\"text-align: right;\">\n",
       "      <th></th>\n",
       "      <th>movie_id</th>\n",
       "      <th>title</th>\n",
       "      <th>release_date</th>\n",
       "      <th>popularity</th>\n",
       "      <th>budget</th>\n",
       "      <th>revenue</th>\n",
       "      <th>vote_average</th>\n",
       "      <th>vote_count</th>\n",
       "      <th>rating_avg</th>\n",
       "      <th>rating_count</th>\n",
       "    </tr>\n",
       "  </thead>\n",
       "  <tbody>\n",
       "    <tr>\n",
       "      <th>0</th>\n",
       "      <td>862</td>\n",
       "      <td>Toy Story</td>\n",
       "      <td>1995-10-30</td>\n",
       "      <td>21.946943</td>\n",
       "      <td>30000000</td>\n",
       "      <td>373554033.0</td>\n",
       "      <td>7.7</td>\n",
       "      <td>5415.0</td>\n",
       "      <td>3.60</td>\n",
       "      <td>374</td>\n",
       "    </tr>\n",
       "    <tr>\n",
       "      <th>1</th>\n",
       "      <td>8844</td>\n",
       "      <td>Jumanji</td>\n",
       "      <td>1995-12-15</td>\n",
       "      <td>17.015539</td>\n",
       "      <td>65000000</td>\n",
       "      <td>262797249.0</td>\n",
       "      <td>6.9</td>\n",
       "      <td>2413.0</td>\n",
       "      <td>3.76</td>\n",
       "      <td>123</td>\n",
       "    </tr>\n",
       "    <tr>\n",
       "      <th>2</th>\n",
       "      <td>949</td>\n",
       "      <td>Heat</td>\n",
       "      <td>1995-12-15</td>\n",
       "      <td>17.924927</td>\n",
       "      <td>60000000</td>\n",
       "      <td>187436818.0</td>\n",
       "      <td>7.7</td>\n",
       "      <td>1886.0</td>\n",
       "      <td>3.91</td>\n",
       "      <td>2345</td>\n",
       "    </tr>\n",
       "    <tr>\n",
       "      <th>3</th>\n",
       "      <td>710</td>\n",
       "      <td>GoldenEye</td>\n",
       "      <td>1995-11-16</td>\n",
       "      <td>14.686036</td>\n",
       "      <td>58000000</td>\n",
       "      <td>352194034.0</td>\n",
       "      <td>6.6</td>\n",
       "      <td>1194.0</td>\n",
       "      <td>2.74</td>\n",
       "      <td>1319</td>\n",
       "    </tr>\n",
       "    <tr>\n",
       "      <th>4</th>\n",
       "      <td>1408</td>\n",
       "      <td>Cutthroat Island</td>\n",
       "      <td>1995-12-22</td>\n",
       "      <td>7.284477</td>\n",
       "      <td>98000000</td>\n",
       "      <td>10017322.0</td>\n",
       "      <td>5.7</td>\n",
       "      <td>137.0</td>\n",
       "      <td>3.71</td>\n",
       "      <td>13888</td>\n",
       "    </tr>\n",
       "  </tbody>\n",
       "</table>\n",
       "</div>"
      ],
      "text/plain": [
       "   movie_id             title release_date  popularity    budget      revenue  \\\n",
       "0       862         Toy Story   1995-10-30   21.946943  30000000  373554033.0   \n",
       "1      8844           Jumanji   1995-12-15   17.015539  65000000  262797249.0   \n",
       "2       949              Heat   1995-12-15   17.924927  60000000  187436818.0   \n",
       "3       710         GoldenEye   1995-11-16   14.686036  58000000  352194034.0   \n",
       "4      1408  Cutthroat Island   1995-12-22    7.284477  98000000   10017322.0   \n",
       "\n",
       "   vote_average  vote_count  rating_avg  rating_count  \n",
       "0           7.7      5415.0        3.60           374  \n",
       "1           6.9      2413.0        3.76           123  \n",
       "2           7.7      1886.0        3.91          2345  \n",
       "3           6.6      1194.0        2.74          1319  \n",
       "4           5.7       137.0        3.71         13888  "
      ]
     },
     "execution_count": 130,
     "metadata": {},
     "output_type": "execute_result"
    }
   ],
   "source": [
    "movie_ratings.rename(columns= {'movieId': 'movie_id'}, inplace= True)\n",
    "movie_df = pd.merge(meta_data,movie_ratings,on='movie_id')\n",
    "movie_df.head()"
   ]
  },
  {
   "cell_type": "markdown",
   "metadata": {},
   "source": [
    "There is a difference between the vote_avg and count in the metadata rather than the one collected from the ratings data, as the recommendation engine relies heavily on the ratings so we will stick to this   \n",
    "https://www.themoviedb.org/talk/5f879e57a275020039cc79ee, the metadata values are provided from the API, they maybe of use later"
   ]
  },
  {
   "cell_type": "markdown",
   "metadata": {},
   "source": [
    "### Number of movies per year"
   ]
  },
  {
   "cell_type": "code",
   "execution_count": 131,
   "metadata": {},
   "outputs": [
    {
     "data": {
      "text/plain": [
       "movie_id          int64\n",
       "title            object\n",
       "release_date     object\n",
       "popularity      float64\n",
       "budget            int64\n",
       "revenue         float64\n",
       "vote_average    float64\n",
       "vote_count      float64\n",
       "rating_avg      float64\n",
       "rating_count      int64\n",
       "dtype: object"
      ]
     },
     "execution_count": 131,
     "metadata": {},
     "output_type": "execute_result"
    }
   ],
   "source": [
    "movie_df.dtypes"
   ]
  },
  {
   "cell_type": "code",
   "execution_count": 138,
   "metadata": {},
   "outputs": [
    {
     "name": "stdout",
     "output_type": "stream",
     "text": [
      "<class 'pandas.core.frame.DataFrame'>\n",
      "Int64Index: 7493 entries, 0 to 7492\n",
      "Data columns (total 10 columns):\n",
      " #   Column        Non-Null Count  Dtype         \n",
      "---  ------        --------------  -----         \n",
      " 0   movie_id      7493 non-null   int64         \n",
      " 1   title         7493 non-null   object        \n",
      " 2   release_date  7485 non-null   datetime64[ns]\n",
      " 3   popularity    7493 non-null   float64       \n",
      " 4   budget        7493 non-null   int64         \n",
      " 5   revenue       7493 non-null   float64       \n",
      " 6   vote_average  7493 non-null   float64       \n",
      " 7   vote_count    7493 non-null   float64       \n",
      " 8   rating_avg    7493 non-null   float64       \n",
      " 9   rating_count  7493 non-null   int64         \n",
      "dtypes: datetime64[ns](1), float64(5), int64(3), object(1)\n",
      "memory usage: 643.9+ KB\n"
     ]
    }
   ],
   "source": [
    "movie_df.release_date = pd.to_datetime(movie_df.release_date) #, format= '%Y-%m-%d')\n",
    "movie_df.info()"
   ]
  },
  {
   "cell_type": "code",
   "execution_count": 152,
   "metadata": {},
   "outputs": [],
   "source": [
    "# dropping 8 movies with no known release date\n",
    "movie_df.dropna(inplace= True)\n",
    "movie_df.reset_index(inplace= True)"
   ]
  },
  {
   "cell_type": "code",
   "execution_count": 153,
   "metadata": {},
   "outputs": [
    {
     "name": "stdout",
     "output_type": "stream",
     "text": [
      "<class 'pandas.core.frame.DataFrame'>\n",
      "RangeIndex: 7485 entries, 0 to 7484\n",
      "Data columns (total 12 columns):\n",
      " #   Column        Non-Null Count  Dtype         \n",
      "---  ------        --------------  -----         \n",
      " 0   index         7485 non-null   int64         \n",
      " 1   movie_id      7485 non-null   int64         \n",
      " 2   title         7485 non-null   object        \n",
      " 3   release_date  7485 non-null   datetime64[ns]\n",
      " 4   popularity    7485 non-null   float64       \n",
      " 5   budget        7485 non-null   int64         \n",
      " 6   revenue       7485 non-null   float64       \n",
      " 7   vote_average  7485 non-null   float64       \n",
      " 8   vote_count    7485 non-null   float64       \n",
      " 9   rating_avg    7485 non-null   float64       \n",
      " 10  rating_count  7485 non-null   int64         \n",
      " 11  release_year  7485 non-null   int64         \n",
      "dtypes: datetime64[ns](1), float64(5), int64(5), object(1)\n",
      "memory usage: 701.8+ KB\n"
     ]
    }
   ],
   "source": [
    "movie_df['release_year'] = movie_df.release_date.dt.year\n",
    "movie_df.info()"
   ]
  },
  {
   "cell_type": "code",
   "execution_count": 157,
   "metadata": {},
   "outputs": [
    {
     "data": {
      "text/html": [
       "<div>\n",
       "<style scoped>\n",
       "    .dataframe tbody tr th:only-of-type {\n",
       "        vertical-align: middle;\n",
       "    }\n",
       "\n",
       "    .dataframe tbody tr th {\n",
       "        vertical-align: top;\n",
       "    }\n",
       "\n",
       "    .dataframe thead tr th {\n",
       "        text-align: left;\n",
       "    }\n",
       "\n",
       "    .dataframe thead tr:last-of-type th {\n",
       "        text-align: right;\n",
       "    }\n",
       "</style>\n",
       "<table border=\"1\" class=\"dataframe\">\n",
       "  <thead>\n",
       "    <tr>\n",
       "      <th></th>\n",
       "      <th colspan=\"3\" halign=\"left\">rating_count</th>\n",
       "      <th colspan=\"2\" halign=\"left\">rating_avg</th>\n",
       "    </tr>\n",
       "    <tr>\n",
       "      <th></th>\n",
       "      <th>sum</th>\n",
       "      <th>mean</th>\n",
       "      <th>count</th>\n",
       "      <th>sum</th>\n",
       "      <th>mean</th>\n",
       "    </tr>\n",
       "    <tr>\n",
       "      <th>release_year</th>\n",
       "      <th></th>\n",
       "      <th></th>\n",
       "      <th></th>\n",
       "      <th></th>\n",
       "      <th></th>\n",
       "    </tr>\n",
       "  </thead>\n",
       "  <tbody>\n",
       "    <tr>\n",
       "      <th>1890</th>\n",
       "      <td>24</td>\n",
       "      <td>24.000000</td>\n",
       "      <td>1</td>\n",
       "      <td>3.56</td>\n",
       "      <td>3.560000</td>\n",
       "    </tr>\n",
       "    <tr>\n",
       "      <th>1891</th>\n",
       "      <td>17</td>\n",
       "      <td>8.500000</td>\n",
       "      <td>2</td>\n",
       "      <td>7.22</td>\n",
       "      <td>3.610000</td>\n",
       "    </tr>\n",
       "    <tr>\n",
       "      <th>1892</th>\n",
       "      <td>10</td>\n",
       "      <td>10.000000</td>\n",
       "      <td>1</td>\n",
       "      <td>3.50</td>\n",
       "      <td>3.500000</td>\n",
       "    </tr>\n",
       "    <tr>\n",
       "      <th>1894</th>\n",
       "      <td>8</td>\n",
       "      <td>2.666667</td>\n",
       "      <td>3</td>\n",
       "      <td>9.58</td>\n",
       "      <td>3.193333</td>\n",
       "    </tr>\n",
       "    <tr>\n",
       "      <th>1895</th>\n",
       "      <td>51</td>\n",
       "      <td>25.500000</td>\n",
       "      <td>2</td>\n",
       "      <td>5.15</td>\n",
       "      <td>2.575000</td>\n",
       "    </tr>\n",
       "    <tr>\n",
       "      <th>...</th>\n",
       "      <td>...</td>\n",
       "      <td>...</td>\n",
       "      <td>...</td>\n",
       "      <td>...</td>\n",
       "      <td>...</td>\n",
       "    </tr>\n",
       "    <tr>\n",
       "      <th>2012</th>\n",
       "      <td>84171</td>\n",
       "      <td>200.407143</td>\n",
       "      <td>420</td>\n",
       "      <td>1246.24</td>\n",
       "      <td>2.967238</td>\n",
       "    </tr>\n",
       "    <tr>\n",
       "      <th>2013</th>\n",
       "      <td>10724</td>\n",
       "      <td>48.089686</td>\n",
       "      <td>223</td>\n",
       "      <td>648.04</td>\n",
       "      <td>2.906009</td>\n",
       "    </tr>\n",
       "    <tr>\n",
       "      <th>2014</th>\n",
       "      <td>709</td>\n",
       "      <td>18.179487</td>\n",
       "      <td>39</td>\n",
       "      <td>111.39</td>\n",
       "      <td>2.856154</td>\n",
       "    </tr>\n",
       "    <tr>\n",
       "      <th>2015</th>\n",
       "      <td>865</td>\n",
       "      <td>72.083333</td>\n",
       "      <td>12</td>\n",
       "      <td>29.24</td>\n",
       "      <td>2.436667</td>\n",
       "    </tr>\n",
       "    <tr>\n",
       "      <th>2016</th>\n",
       "      <td>20</td>\n",
       "      <td>4.000000</td>\n",
       "      <td>5</td>\n",
       "      <td>15.01</td>\n",
       "      <td>3.002000</td>\n",
       "    </tr>\n",
       "  </tbody>\n",
       "</table>\n",
       "<p>119 rows × 5 columns</p>\n",
       "</div>"
      ],
      "text/plain": [
       "             rating_count                   rating_avg          \n",
       "                      sum        mean count        sum      mean\n",
       "release_year                                                    \n",
       "1890                   24   24.000000     1       3.56  3.560000\n",
       "1891                   17    8.500000     2       7.22  3.610000\n",
       "1892                   10   10.000000     1       3.50  3.500000\n",
       "1894                    8    2.666667     3       9.58  3.193333\n",
       "1895                   51   25.500000     2       5.15  2.575000\n",
       "...                   ...         ...   ...        ...       ...\n",
       "2012                84171  200.407143   420    1246.24  2.967238\n",
       "2013                10724   48.089686   223     648.04  2.906009\n",
       "2014                  709   18.179487    39     111.39  2.856154\n",
       "2015                  865   72.083333    12      29.24  2.436667\n",
       "2016                   20    4.000000     5      15.01  3.002000\n",
       "\n",
       "[119 rows x 5 columns]"
      ]
     },
     "execution_count": 157,
     "metadata": {},
     "output_type": "execute_result"
    }
   ],
   "source": [
    "movie_df.groupby('release_year').agg({'rating_count': ['sum', 'mean', 'count'], 'rating_avg': ['sum', 'mean']})"
   ]
  },
  {
   "cell_type": "code",
   "execution_count": null,
   "metadata": {},
   "outputs": [],
   "source": []
  },
  {
   "cell_type": "code",
   "execution_count": null,
   "metadata": {},
   "outputs": [],
   "source": []
  },
  {
   "cell_type": "code",
   "execution_count": null,
   "metadata": {},
   "outputs": [],
   "source": []
  },
  {
   "cell_type": "code",
   "execution_count": null,
   "metadata": {},
   "outputs": [],
   "source": []
  },
  {
   "cell_type": "markdown",
   "metadata": {},
   "source": [
    "## Conclusion\n",
    "1. Data manipulation with pySpark at first was based on the movies ids were close to each other each being 45k, it had to be rerun after the data being proven \n",
    "2. "
   ]
  }
 ],
 "metadata": {
  "interpreter": {
   "hash": "c6eefee7058297fcfd1b8384cbf8aab780589b9def557784de917eb71b449479"
  },
  "kernelspec": {
   "display_name": "Python 3.8.8 ('base')",
   "language": "python",
   "name": "python3"
  },
  "language_info": {
   "codemirror_mode": {
    "name": "ipython",
    "version": 3
   },
   "file_extension": ".py",
   "mimetype": "text/x-python",
   "name": "python",
   "nbconvert_exporter": "python",
   "pygments_lexer": "ipython3",
   "version": "3.8.8"
  },
  "orig_nbformat": 4
 },
 "nbformat": 4,
 "nbformat_minor": 2
}
