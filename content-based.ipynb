{
 "cells": [
  {
   "cell_type": "code",
   "execution_count": 106,
   "metadata": {},
   "outputs": [],
   "source": [
    "import numpy as np\n",
    "import pandas as pd\n",
    "import warnings\n",
    "warnings.filterwarnings('ignore')\n",
    "import matplotlib.pyplot as plt \n",
    "import seaborn as sns\n",
    "sns.set()\n",
    "%matplotlib inline"
   ]
  },
  {
   "cell_type": "code",
   "execution_count": 107,
   "metadata": {},
   "outputs": [],
   "source": [
    "mf = pd.read_csv(r'./dataparsed/metadata.csv')"
   ]
  },
  {
   "cell_type": "code",
   "execution_count": 108,
   "metadata": {},
   "outputs": [
    {
     "name": "stdout",
     "output_type": "stream",
     "text": [
      "<class 'pandas.core.frame.DataFrame'>\n",
      "RangeIndex: 45014 entries, 0 to 45013\n",
      "Data columns (total 8 columns):\n",
      " #   Column        Non-Null Count  Dtype  \n",
      "---  ------        --------------  -----  \n",
      " 0   movie_id      45014 non-null  int64  \n",
      " 1   title         45014 non-null  object \n",
      " 2   release_date  44936 non-null  object \n",
      " 3   popularity    45014 non-null  float64\n",
      " 4   budget        45014 non-null  int64  \n",
      " 5   revenue       45014 non-null  float64\n",
      " 6   vote_average  45014 non-null  float64\n",
      " 7   vote_count    45014 non-null  float64\n",
      "dtypes: float64(4), int64(2), object(2)\n",
      "memory usage: 2.7+ MB\n"
     ]
    }
   ],
   "source": [
    "mf.info()"
   ]
  },
  {
   "cell_type": "code",
   "execution_count": 109,
   "metadata": {},
   "outputs": [
    {
     "data": {
      "text/plain": [
       "count    45014.000000\n",
       "mean         2.939093\n",
       "std          6.023441\n",
       "min          0.000000\n",
       "25%          0.391015\n",
       "50%          1.135734\n",
       "75%          3.730199\n",
       "max        547.488298\n",
       "Name: popularity, dtype: float64"
      ]
     },
     "execution_count": 109,
     "metadata": {},
     "output_type": "execute_result"
    }
   ],
   "source": [
    "mf.popularity.describe()"
   ]
  },
  {
   "cell_type": "code",
   "execution_count": 110,
   "metadata": {},
   "outputs": [],
   "source": [
    "mf.release_date = pd.to_datetime(mf.release_date)\n",
    "mf['release_year'] = mf.release_date.dt.year\n",
    "mf = mf[mf.popularity > 5]"
   ]
  },
  {
   "cell_type": "code",
   "execution_count": 111,
   "metadata": {},
   "outputs": [
    {
     "data": {
      "text/plain": [
       "(9126, 9)"
      ]
     },
     "execution_count": 111,
     "metadata": {},
     "output_type": "execute_result"
    }
   ],
   "source": [
    "mf.shape "
   ]
  },
  {
   "cell_type": "code",
   "execution_count": 112,
   "metadata": {},
   "outputs": [],
   "source": [
    "directors = pd.read_csv(r'./dataparsed/directors.csv')\n",
    "directors_gp = directors.groupby('movie_id').name.apply(list).reset_index(name='directors')"
   ]
  },
  {
   "cell_type": "code",
   "execution_count": 113,
   "metadata": {},
   "outputs": [],
   "source": [
    "cast = pd.read_csv(r'./dataparsed/cast.csv')\n",
    "cast = cast[cast.order < 11]\n",
    "cast_gp = cast.groupby('movie_id').name.apply(list).reset_index(name='cast')"
   ]
  },
  {
   "cell_type": "code",
   "execution_count": 114,
   "metadata": {},
   "outputs": [],
   "source": [
    "keywords = pd.read_csv(r'./dataparsed/keywords.csv')\n",
    "keywords_gp = keywords.groupby('movie_id').keyword.apply(list).reset_index(name='keywords')"
   ]
  },
  {
   "cell_type": "code",
   "execution_count": 115,
   "metadata": {},
   "outputs": [],
   "source": [
    "genres = pd.read_csv(r'./dataparsed/genres.csv')\n",
    "genres_gp = genres.groupby('movie_id').genre.apply(list).reset_index(name= 'genres')"
   ]
  },
  {
   "cell_type": "code",
   "execution_count": 116,
   "metadata": {},
   "outputs": [
    {
     "data": {
      "text/html": [
       "<div>\n",
       "<style scoped>\n",
       "    .dataframe tbody tr th:only-of-type {\n",
       "        vertical-align: middle;\n",
       "    }\n",
       "\n",
       "    .dataframe tbody tr th {\n",
       "        vertical-align: top;\n",
       "    }\n",
       "\n",
       "    .dataframe thead th {\n",
       "        text-align: right;\n",
       "    }\n",
       "</style>\n",
       "<table border=\"1\" class=\"dataframe\">\n",
       "  <thead>\n",
       "    <tr style=\"text-align: right;\">\n",
       "      <th></th>\n",
       "      <th>movie_id</th>\n",
       "      <th>cast</th>\n",
       "      <th>directors</th>\n",
       "      <th>keywords</th>\n",
       "      <th>genres</th>\n",
       "      <th>title</th>\n",
       "      <th>vote_average</th>\n",
       "    </tr>\n",
       "  </thead>\n",
       "  <tbody>\n",
       "    <tr>\n",
       "      <th>0</th>\n",
       "      <td>2</td>\n",
       "      <td>[Turo Pajala, Susanna Haavisto, Matti Pellonpä...</td>\n",
       "      <td>[Aki Kaurismäki]</td>\n",
       "      <td>[underdog, prison, factory worker, prisoner, h...</td>\n",
       "      <td>[Drama, Crime]</td>\n",
       "      <td>NaN</td>\n",
       "      <td>NaN</td>\n",
       "    </tr>\n",
       "  </tbody>\n",
       "</table>\n",
       "</div>"
      ],
      "text/plain": [
       "   movie_id                                               cast  \\\n",
       "0         2  [Turo Pajala, Susanna Haavisto, Matti Pellonpä...   \n",
       "\n",
       "          directors                                           keywords  \\\n",
       "0  [Aki Kaurismäki]  [underdog, prison, factory worker, prisoner, h...   \n",
       "\n",
       "           genres title  vote_average  \n",
       "0  [Drama, Crime]   NaN           NaN  "
      ]
     },
     "execution_count": 116,
     "metadata": {},
     "output_type": "execute_result"
    }
   ],
   "source": [
    "movies_gp = pd.merge(cast_gp, directors_gp, on= 'movie_id', how= 'outer')\n",
    "temp = pd.merge(keywords_gp, genres_gp, on= 'movie_id', how= 'left')\n",
    "temp = pd.merge(temp, mf[['movie_id', 'title', 'vote_average']], on='movie_id', how='outer')\n",
    "movies_gp = pd.merge(movies_gp, temp, on= 'movie_id', how= 'outer')\n",
    "movies_gp.head(1)"
   ]
  },
  {
   "cell_type": "code",
   "execution_count": 117,
   "metadata": {},
   "outputs": [
    {
     "data": {
      "text/plain": [
       "movie_id            0\n",
       "cast             2065\n",
       "directors         518\n",
       "keywords        13972\n",
       "genres          14518\n",
       "title           35946\n",
       "vote_average    35946\n",
       "dtype: int64"
      ]
     },
     "execution_count": 117,
     "metadata": {},
     "output_type": "execute_result"
    }
   ],
   "source": [
    "movies_gp.isna().sum()"
   ]
  },
  {
   "cell_type": "code",
   "execution_count": 118,
   "metadata": {},
   "outputs": [],
   "source": [
    "# following steps in this notebook\n",
    "# https://www.kaggle.com/code/ibtesama/getting-started-with-a-movie-recommendation-system/notebook\n",
    "# Function to convert all strings to lower case and strip names of spaces\n",
    "def clean_data(x):\n",
    "    # should leave nulls alone\n",
    "    if isinstance(x, list):\n",
    "        return [str.lower(i.replace(\" \", \"\")) for i in x]"
   ]
  },
  {
   "cell_type": "code",
   "execution_count": 119,
   "metadata": {},
   "outputs": [],
   "source": [
    "# Apply clean_data function to your features.\n",
    "features = ['cast', 'keywords', 'directors', 'genres']\n",
    "\n",
    "for feature in features:\n",
    "    movies_gp[feature] = movies_gp[feature].apply(clean_data)"
   ]
  },
  {
   "cell_type": "code",
   "execution_count": 120,
   "metadata": {},
   "outputs": [],
   "source": [
    "# Eliminate NA values for soup to work\n",
    "features = ['cast', 'keywords', 'directors', 'genres']\n",
    "for att in features:\n",
    "    movies_gp[att] = movies_gp[att].fillna('')\n"
   ]
  },
  {
   "cell_type": "code",
   "execution_count": 121,
   "metadata": {},
   "outputs": [
    {
     "data": {
      "text/plain": [
       "movie_id            0\n",
       "cast                0\n",
       "directors           0\n",
       "keywords            0\n",
       "genres              0\n",
       "title           35946\n",
       "vote_average    35946\n",
       "dtype: int64"
      ]
     },
     "execution_count": 121,
     "metadata": {},
     "output_type": "execute_result"
    }
   ],
   "source": [
    "movies_gp.isna().sum()"
   ]
  },
  {
   "cell_type": "code",
   "execution_count": 122,
   "metadata": {},
   "outputs": [],
   "source": [
    "movies_gp.dropna(inplace= True)"
   ]
  },
  {
   "cell_type": "code",
   "execution_count": 123,
   "metadata": {},
   "outputs": [],
   "source": [
    "movies_gp.reset_index(drop= True, inplace= True)"
   ]
  },
  {
   "cell_type": "code",
   "execution_count": 124,
   "metadata": {},
   "outputs": [
    {
     "data": {
      "text/html": [
       "<div>\n",
       "<style scoped>\n",
       "    .dataframe tbody tr th:only-of-type {\n",
       "        vertical-align: middle;\n",
       "    }\n",
       "\n",
       "    .dataframe tbody tr th {\n",
       "        vertical-align: top;\n",
       "    }\n",
       "\n",
       "    .dataframe thead th {\n",
       "        text-align: right;\n",
       "    }\n",
       "</style>\n",
       "<table border=\"1\" class=\"dataframe\">\n",
       "  <thead>\n",
       "    <tr style=\"text-align: right;\">\n",
       "      <th></th>\n",
       "      <th>movie_id</th>\n",
       "      <th>cast</th>\n",
       "      <th>directors</th>\n",
       "      <th>keywords</th>\n",
       "      <th>genres</th>\n",
       "      <th>title</th>\n",
       "      <th>vote_average</th>\n",
       "    </tr>\n",
       "  </thead>\n",
       "  <tbody>\n",
       "    <tr>\n",
       "      <th>0</th>\n",
       "      <td>5</td>\n",
       "      <td>[timroth, antoniobanderas, jenniferbeals, mado...</td>\n",
       "      <td>[allisonanders, alexandrerockwell, robertrodri...</td>\n",
       "      <td>[hotel, newyear'seve, witch, bet, hotelroom, s...</td>\n",
       "      <td>[crime, comedy]</td>\n",
       "      <td>Four Rooms</td>\n",
       "      <td>6.5</td>\n",
       "    </tr>\n",
       "    <tr>\n",
       "      <th>1</th>\n",
       "      <td>6</td>\n",
       "      <td>[emilioestevez, cubagoodingjr., denisleary, je...</td>\n",
       "      <td>[stephenhopkins]</td>\n",
       "      <td>[chicago, drugdealer, boxingmatch, escape, one...</td>\n",
       "      <td>[action, thriller, crime]</td>\n",
       "      <td>Judgment Night</td>\n",
       "      <td>6.4</td>\n",
       "    </tr>\n",
       "  </tbody>\n",
       "</table>\n",
       "</div>"
      ],
      "text/plain": [
       "   movie_id                                               cast  \\\n",
       "0         5  [timroth, antoniobanderas, jenniferbeals, mado...   \n",
       "1         6  [emilioestevez, cubagoodingjr., denisleary, je...   \n",
       "\n",
       "                                           directors  \\\n",
       "0  [allisonanders, alexandrerockwell, robertrodri...   \n",
       "1                                   [stephenhopkins]   \n",
       "\n",
       "                                            keywords  \\\n",
       "0  [hotel, newyear'seve, witch, bet, hotelroom, s...   \n",
       "1  [chicago, drugdealer, boxingmatch, escape, one...   \n",
       "\n",
       "                      genres           title  vote_average  \n",
       "0            [crime, comedy]      Four Rooms           6.5  \n",
       "1  [action, thriller, crime]  Judgment Night           6.4  "
      ]
     },
     "execution_count": 124,
     "metadata": {},
     "output_type": "execute_result"
    }
   ],
   "source": [
    "movies_gp.head(2)"
   ]
  },
  {
   "cell_type": "code",
   "execution_count": 125,
   "metadata": {},
   "outputs": [],
   "source": [
    "# Function joins the words in each list \n",
    "def create_soup(x):\n",
    "    return ' '.join(x['keywords']) + ' ' + ' '.join(x['cast']) + ' ' + ' '.join(x['directors']) + ' ' + ' '.join(x['genres'])"
   ]
  },
  {
   "cell_type": "code",
   "execution_count": 126,
   "metadata": {},
   "outputs": [],
   "source": [
    "movies_gp['soup'] = movies_gp.apply(create_soup, axis= 1)"
   ]
  },
  {
   "cell_type": "markdown",
   "metadata": {},
   "source": [
    "Counting the frequency of each word in each movie"
   ]
  },
  {
   "cell_type": "code",
   "execution_count": 127,
   "metadata": {},
   "outputs": [],
   "source": [
    "from sklearn.feature_extraction.text import CountVectorizer\n",
    "\n",
    "count = CountVectorizer()\n",
    "count_matrix = count.fit_transform(movies_gp['soup'])"
   ]
  },
  {
   "cell_type": "code",
   "execution_count": 128,
   "metadata": {},
   "outputs": [],
   "source": [
    "# Compute the Cosine Similarity matrix based on the count_matrix\n",
    "from sklearn.metrics.pairwise import cosine_similarity\n",
    "\n",
    "cosine_sim = cosine_similarity(count_matrix, count_matrix)"
   ]
  },
  {
   "cell_type": "code",
   "execution_count": 129,
   "metadata": {},
   "outputs": [
    {
     "data": {
      "text/plain": [
       "(9126, 9126)"
      ]
     },
     "execution_count": 129,
     "metadata": {},
     "output_type": "execute_result"
    }
   ],
   "source": [
    "cosine_sim.shape"
   ]
  },
  {
   "cell_type": "code",
   "execution_count": 130,
   "metadata": {},
   "outputs": [],
   "source": [
    "# Construct a reverse map of indices and movie titles\n",
    "movie_bytitle = pd.Series(movies_gp.index, index=movies_gp['title'])"
   ]
  },
  {
   "cell_type": "code",
   "execution_count": 131,
   "metadata": {},
   "outputs": [],
   "source": [
    "# refrence https://www.kaggle.com/code/ibtesama/getting-started-with-a-movie-recommendation-system#kln-56\n",
    "def get_similar_movies(title, n= 10):\n",
    "    idx = movie_bytitle[title]\n",
    "\n",
    "    sim_scores = list(enumerate(cosine_sim[idx]))\n",
    "\n",
    "    # Sort the movies based on the similarity scores\n",
    "    sim_scores = sorted(sim_scores, key=lambda x: x[1], reverse=True)\n",
    "\n",
    "    # Get the scores of the 10 most similar movies\n",
    "    sim_scores = sim_scores[1:n+1]\n",
    "\n",
    "    # Get the movie indices\n",
    "    movie_indices = [i[0] for i in sim_scores]\n",
    "\n",
    "    # Return the top 10 most similar movies\n",
    "    return movies_gp['title'].iloc[movie_indices]"
   ]
  },
  {
   "cell_type": "code",
   "execution_count": 132,
   "metadata": {},
   "outputs": [
    {
     "data": {
      "text/plain": [
       "97                 The Dark Knight\n",
       "6288         The Dark Knight Rises\n",
       "265                 Batman & Robin\n",
       "8921      Batman: The Killing Joke\n",
       "6640              Batman: Year One\n",
       "5274                         Ninja\n",
       "5761                      Defendor\n",
       "7931     Batman: Assault on Arkham\n",
       "6002    Batman: Under the Red Hood\n",
       "3730       Rise of the Footsoldier\n",
       "Name: title, dtype: object"
      ]
     },
     "execution_count": 132,
     "metadata": {},
     "output_type": "execute_result"
    }
   ],
   "source": [
    "get_similar_movies('Batman Begins')"
   ]
  },
  {
   "cell_type": "code",
   "execution_count": 133,
   "metadata": {},
   "outputs": [
    {
     "data": {
      "text/plain": [
       "6288                    The Dark Knight Rises\n",
       "3382                                  Peacock\n",
       "4893                      L: change the WorLd\n",
       "8360                         Now You See Me 2\n",
       "9112                      Yu-Gi-Oh! The Movie\n",
       "2218                                 Paycheck\n",
       "2604                                    Congo\n",
       "4010                               Nancy Drew\n",
       "1454    Sky Captain and the World of Tomorrow\n",
       "4227              G.I. Joe: The Rise of Cobra\n",
       "Name: title, dtype: object"
      ]
     },
     "execution_count": 133,
     "metadata": {},
     "output_type": "execute_result"
    }
   ],
   "source": [
    "get_similar_movies('Inception')"
   ]
  },
  {
   "cell_type": "code",
   "execution_count": 138,
   "metadata": {},
   "outputs": [
    {
     "data": {
      "text/plain": [
       "5182                             The Avengers\n",
       "8191               Captain America: Civil War\n",
       "2507                               Iron Man 2\n",
       "7064      Captain America: The Winter Soldier\n",
       "880        Captain America: The First Avenger\n",
       "7081                                  Ant-Man\n",
       "8106    Marvel Studios: Assembling a Universe\n",
       "6769                     Thor: The Dark World\n",
       "6623                               Iron Man 3\n",
       "9040                                Team Thor\n",
       "Name: title, dtype: object"
      ]
     },
     "execution_count": 138,
     "metadata": {},
     "output_type": "execute_result"
    }
   ],
   "source": [
    "get_similar_movies('Avengers: Age of Ultron')"
   ]
  }
 ],
 "metadata": {
  "interpreter": {
   "hash": "d7c3c9c392ead3d066acf51e913b24cbd585bcf7a363efb7ba353d9588b883e5"
  },
  "kernelspec": {
   "display_name": "Python 3.8.8 64-bit ('base': conda)",
   "language": "python",
   "name": "python3"
  },
  "language_info": {
   "codemirror_mode": {
    "name": "ipython",
    "version": 3
   },
   "file_extension": ".py",
   "mimetype": "text/x-python",
   "name": "python",
   "nbconvert_exporter": "python",
   "pygments_lexer": "ipython3",
   "version": "3.8.8"
  },
  "orig_nbformat": 4
 },
 "nbformat": 4,
 "nbformat_minor": 2
}
